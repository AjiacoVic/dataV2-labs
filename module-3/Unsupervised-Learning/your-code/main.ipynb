{
 "cells": [
  {
   "cell_type": "markdown",
   "metadata": {},
   "source": [
    "# Before your start:\n",
    "- Read the README.md file\n",
    "- Comment as much as you can and use the resources in the README.md file\n",
    "- Happy learning!"
   ]
  },
  {
   "cell_type": "code",
   "execution_count": 1,
   "metadata": {},
   "outputs": [],
   "source": [
    "# Import your libraries:\n",
    "\n",
    "%matplotlib inline\n",
    "\n",
    "import matplotlib.pyplot as plt\n",
    "import seaborn as sns\n",
    "import numpy as np\n",
    "import pandas as pd"
   ]
  },
  {
   "cell_type": "markdown",
   "metadata": {},
   "source": [
    "# Challenge 1 - Import and Describe the Dataset\n",
    "\n",
    "In this lab, we will use a dataset containing information about customer preferences. We will look at how much each customer spends in a year on each subcategory in the grocery store and try to find similarities using clustering.\n",
    "\n",
    "The origin of the dataset is [here](https://archive.ics.uci.edu/ml/datasets/wholesale+customers)."
   ]
  },
  {
   "cell_type": "code",
   "execution_count": 2,
   "metadata": {},
   "outputs": [
    {
     "data": {
      "text/html": [
       "<div>\n",
       "<style scoped>\n",
       "    .dataframe tbody tr th:only-of-type {\n",
       "        vertical-align: middle;\n",
       "    }\n",
       "\n",
       "    .dataframe tbody tr th {\n",
       "        vertical-align: top;\n",
       "    }\n",
       "\n",
       "    .dataframe thead th {\n",
       "        text-align: right;\n",
       "    }\n",
       "</style>\n",
       "<table border=\"1\" class=\"dataframe\">\n",
       "  <thead>\n",
       "    <tr style=\"text-align: right;\">\n",
       "      <th></th>\n",
       "      <th>Channel</th>\n",
       "      <th>Region</th>\n",
       "      <th>Fresh</th>\n",
       "      <th>Milk</th>\n",
       "      <th>Grocery</th>\n",
       "      <th>Frozen</th>\n",
       "      <th>Detergents_Paper</th>\n",
       "      <th>Delicassen</th>\n",
       "    </tr>\n",
       "  </thead>\n",
       "  <tbody>\n",
       "    <tr>\n",
       "      <th>0</th>\n",
       "      <td>2</td>\n",
       "      <td>3</td>\n",
       "      <td>12669</td>\n",
       "      <td>9656</td>\n",
       "      <td>7561</td>\n",
       "      <td>214</td>\n",
       "      <td>2674</td>\n",
       "      <td>1338</td>\n",
       "    </tr>\n",
       "    <tr>\n",
       "      <th>1</th>\n",
       "      <td>2</td>\n",
       "      <td>3</td>\n",
       "      <td>7057</td>\n",
       "      <td>9810</td>\n",
       "      <td>9568</td>\n",
       "      <td>1762</td>\n",
       "      <td>3293</td>\n",
       "      <td>1776</td>\n",
       "    </tr>\n",
       "    <tr>\n",
       "      <th>2</th>\n",
       "      <td>2</td>\n",
       "      <td>3</td>\n",
       "      <td>6353</td>\n",
       "      <td>8808</td>\n",
       "      <td>7684</td>\n",
       "      <td>2405</td>\n",
       "      <td>3516</td>\n",
       "      <td>7844</td>\n",
       "    </tr>\n",
       "    <tr>\n",
       "      <th>3</th>\n",
       "      <td>1</td>\n",
       "      <td>3</td>\n",
       "      <td>13265</td>\n",
       "      <td>1196</td>\n",
       "      <td>4221</td>\n",
       "      <td>6404</td>\n",
       "      <td>507</td>\n",
       "      <td>1788</td>\n",
       "    </tr>\n",
       "    <tr>\n",
       "      <th>4</th>\n",
       "      <td>2</td>\n",
       "      <td>3</td>\n",
       "      <td>22615</td>\n",
       "      <td>5410</td>\n",
       "      <td>7198</td>\n",
       "      <td>3915</td>\n",
       "      <td>1777</td>\n",
       "      <td>5185</td>\n",
       "    </tr>\n",
       "  </tbody>\n",
       "</table>\n",
       "</div>"
      ],
      "text/plain": [
       "   Channel  Region  Fresh  Milk  Grocery  Frozen  Detergents_Paper  Delicassen\n",
       "0        2       3  12669  9656     7561     214              2674        1338\n",
       "1        2       3   7057  9810     9568    1762              3293        1776\n",
       "2        2       3   6353  8808     7684    2405              3516        7844\n",
       "3        1       3  13265  1196     4221    6404               507        1788\n",
       "4        2       3  22615  5410     7198    3915              1777        5185"
      ]
     },
     "execution_count": 2,
     "metadata": {},
     "output_type": "execute_result"
    }
   ],
   "source": [
    "# loading the data:\n",
    "Cosco = pd.read_csv('/Users/ajiacovic/Documents/dataV2-labs/module-3/Unsupervised-Learning/data/Wholesale customers data.csv')\n",
    "Cosco.head()"
   ]
  },
  {
   "cell_type": "markdown",
   "metadata": {},
   "source": [
    "#### Explore the dataset with mathematical and visualization techniques. What do you find?\n",
    "\n",
    "Checklist:\n",
    "\n",
    "* What does each column mean?\n",
    "* Any categorical data to convert?\n",
    "* Any missing data to remove?\n",
    "* Column collinearity - any high correlations?\n",
    "* Descriptive statistics - any outliers to remove?\n",
    "* Column-wise data distribution - is the distribution skewed?\n",
    "* Etc.\n",
    "\n",
    "Additional info: Over a century ago, an Italian economist named Vilfredo Pareto discovered that roughly 20% of the customers account for 80% of the typical retail sales. This is called the [Pareto principle](https://en.wikipedia.org/wiki/Pareto_principle). Check if this dataset displays this characteristic."
   ]
  },
  {
   "cell_type": "code",
   "execution_count": 3,
   "metadata": {},
   "outputs": [
    {
     "name": "stdout",
     "output_type": "stream",
     "text": [
      "<class 'pandas.core.frame.DataFrame'>\n",
      "RangeIndex: 440 entries, 0 to 439\n",
      "Data columns (total 8 columns):\n",
      " #   Column            Non-Null Count  Dtype\n",
      "---  ------            --------------  -----\n",
      " 0   Channel           440 non-null    int64\n",
      " 1   Region            440 non-null    int64\n",
      " 2   Fresh             440 non-null    int64\n",
      " 3   Milk              440 non-null    int64\n",
      " 4   Grocery           440 non-null    int64\n",
      " 5   Frozen            440 non-null    int64\n",
      " 6   Detergents_Paper  440 non-null    int64\n",
      " 7   Delicassen        440 non-null    int64\n",
      "dtypes: int64(8)\n",
      "memory usage: 27.6 KB\n"
     ]
    }
   ],
   "source": [
    "Cosco.info()\n",
    "\n",
    "# Later in my analysis of ourliers and so on, I remeber this method: info\n",
    "#Here I an already see columns, missing values and types :-)"
   ]
  },
  {
   "cell_type": "markdown",
   "metadata": {},
   "source": [
    "## what do the columns mean:\n",
    "Let's remember that this is a wholesale distributor so,\n",
    "`Channel` : is whether the whosale grocery store (let's call it Cosco) sales to retail of Horeca =channels\n",
    "`Region`: The region of the customer \n",
    "`Fresh`:annual spending on fresh products \n",
    "`Milk`:annual spending on milk products, I dn't know what this is (m.u.) \n",
    "`Grocery` :annual spending on grocery products \n",
    "`Frozen`: an. sp. on frozen products\n",
    "`Detergents_Paper`: an. sp. on detergents and paper products\n",
    "`Delicassen`: an. sp on delicatessen products\n",
    "\n"
   ]
  },
  {
   "cell_type": "markdown",
   "metadata": {},
   "source": [
    "### TYPES"
   ]
  },
  {
   "cell_type": "code",
   "execution_count": 4,
   "metadata": {},
   "outputs": [
    {
     "data": {
      "text/plain": [
       "Channel             int64\n",
       "Region              int64\n",
       "Fresh               int64\n",
       "Milk                int64\n",
       "Grocery             int64\n",
       "Frozen              int64\n",
       "Detergents_Paper    int64\n",
       "Delicassen          int64\n",
       "dtype: object"
      ]
     },
     "execution_count": 4,
     "metadata": {},
     "output_type": "execute_result"
    }
   ],
   "source": [
    "Cosco.dtypes\n",
    "#All types are int : normal since thy are amounts\n",
    "# Region and channel are categorical but they already seem to be converted into numerical values\n",
    "# One remark: it makes it difficult to understand categorical columns such as region\n",
    "#or channel without knowing which code belongs to what value"
   ]
  },
  {
   "cell_type": "code",
   "execution_count": 5,
   "metadata": {},
   "outputs": [
    {
     "name": "stdout",
     "output_type": "stream",
     "text": [
      "*** Channel *** :\n",
      "1    298\n",
      "2    142\n",
      "Name: Channel, dtype: int64\n",
      "\n",
      "*** Region *** :\n",
      "3    316\n",
      "1     77\n",
      "2     47\n",
      "Name: Region, dtype: int64\n",
      "\n",
      "*** Fresh *** :\n",
      "9670     2\n",
      "3        2\n",
      "8040     2\n",
      "514      2\n",
      "18044    2\n",
      "        ..\n",
      "8885     1\n",
      "694      1\n",
      "7864     1\n",
      "1725     1\n",
      "4098     1\n",
      "Name: Fresh, Length: 433, dtype: int64\n",
      "\n",
      "*** Milk *** :\n",
      "1897     2\n",
      "5139     2\n",
      "659      2\n",
      "829      2\n",
      "944      2\n",
      "        ..\n",
      "7845     1\n",
      "3748     1\n",
      "13316    1\n",
      "28326    1\n",
      "20484    1\n",
      "Name: Milk, Length: 421, dtype: int64\n",
      "\n",
      "*** Grocery *** :\n",
      "1664    2\n",
      "2405    2\n",
      "1493    2\n",
      "1563    2\n",
      "3600    2\n",
      "       ..\n",
      "582     1\n",
      "2469    1\n",
      "3779    1\n",
      "1733    1\n",
      "3       1\n",
      "Name: Grocery, Length: 430, dtype: int64\n",
      "\n",
      "*** Frozen *** :\n",
      "744     2\n",
      "779     2\n",
      "1619    2\n",
      "364     2\n",
      "848     2\n",
      "       ..\n",
      "660     1\n",
      "661     1\n",
      "662     1\n",
      "666     1\n",
      "1026    1\n",
      "Name: Frozen, Length: 426, dtype: int64\n",
      "\n",
      "*** Detergents_Paper *** :\n",
      "227      2\n",
      "311      2\n",
      "118      2\n",
      "811      2\n",
      "788      2\n",
      "        ..\n",
      "610      1\n",
      "2662     1\n",
      "24171    1\n",
      "9836     1\n",
      "5121     1\n",
      "Name: Detergents_Paper, Length: 417, dtype: int64\n",
      "\n",
      "*** Delicassen *** :\n",
      "834     4\n",
      "3       4\n",
      "548     3\n",
      "1215    3\n",
      "395     3\n",
      "       ..\n",
      "1647    1\n",
      "433     1\n",
      "1653    1\n",
      "635     1\n",
      "5120    1\n",
      "Name: Delicassen, Length: 403, dtype: int64\n",
      "\n"
     ]
    }
   ],
   "source": [
    "columns = Cosco.columns\n",
    "\n",
    "for column in columns:\n",
    "    print(f'*** {column} *** :\\n{Cosco[column].value_counts()}\\n')\n",
    "    \n",
    "## From this I see that concerning the categorical data we have:\n",
    "# 2 channels and 3 Regions\n",
    "\n",
    "## Numerical data:\n",
    "#Many unique values (which mak sens as these are annual amounts)"
   ]
  },
  {
   "cell_type": "markdown",
   "metadata": {},
   "source": [
    "### MISSING DATA"
   ]
  },
  {
   "cell_type": "code",
   "execution_count": 6,
   "metadata": {},
   "outputs": [
    {
     "data": {
      "text/plain": [
       "Channel             0\n",
       "Region              0\n",
       "Fresh               0\n",
       "Milk                0\n",
       "Grocery             0\n",
       "Frozen              0\n",
       "Detergents_Paper    0\n",
       "Delicassen          0\n",
       "dtype: int64"
      ]
     },
     "execution_count": 6,
     "metadata": {},
     "output_type": "execute_result"
    }
   ],
   "source": [
    "missing_data = Cosco.isnull().sum()\n",
    "missing_data\n",
    "#No missing data found houray!"
   ]
  },
  {
   "cell_type": "markdown",
   "metadata": {},
   "source": [
    "### PLOTS"
   ]
  },
  {
   "cell_type": "code",
   "execution_count": 45,
   "metadata": {},
   "outputs": [
    {
     "data": {
      "text/html": [
       "<div>\n",
       "<style scoped>\n",
       "    .dataframe tbody tr th:only-of-type {\n",
       "        vertical-align: middle;\n",
       "    }\n",
       "\n",
       "    .dataframe tbody tr th {\n",
       "        vertical-align: top;\n",
       "    }\n",
       "\n",
       "    .dataframe thead th {\n",
       "        text-align: right;\n",
       "    }\n",
       "</style>\n",
       "<table border=\"1\" class=\"dataframe\">\n",
       "  <thead>\n",
       "    <tr style=\"text-align: right;\">\n",
       "      <th></th>\n",
       "      <th>Channel</th>\n",
       "      <th>Region</th>\n",
       "      <th>Fresh</th>\n",
       "      <th>Milk</th>\n",
       "      <th>Grocery</th>\n",
       "      <th>Frozen</th>\n",
       "      <th>Detergents_Paper</th>\n",
       "      <th>Delicassen</th>\n",
       "    </tr>\n",
       "  </thead>\n",
       "  <tbody>\n",
       "    <tr>\n",
       "      <th>Channel</th>\n",
       "      <td>1.000000</td>\n",
       "      <td>0.063112</td>\n",
       "      <td>-0.174732</td>\n",
       "      <td>0.560983</td>\n",
       "      <td>0.712243</td>\n",
       "      <td>-0.232490</td>\n",
       "      <td>0.727828</td>\n",
       "      <td>0.187357</td>\n",
       "    </tr>\n",
       "    <tr>\n",
       "      <th>Region</th>\n",
       "      <td>0.063112</td>\n",
       "      <td>1.000000</td>\n",
       "      <td>0.054510</td>\n",
       "      <td>-0.005981</td>\n",
       "      <td>-0.014855</td>\n",
       "      <td>-0.054609</td>\n",
       "      <td>-0.014227</td>\n",
       "      <td>0.003139</td>\n",
       "    </tr>\n",
       "    <tr>\n",
       "      <th>Fresh</th>\n",
       "      <td>-0.174732</td>\n",
       "      <td>0.054510</td>\n",
       "      <td>1.000000</td>\n",
       "      <td>-0.131742</td>\n",
       "      <td>-0.185814</td>\n",
       "      <td>0.242308</td>\n",
       "      <td>-0.251546</td>\n",
       "      <td>0.138828</td>\n",
       "    </tr>\n",
       "    <tr>\n",
       "      <th>Milk</th>\n",
       "      <td>0.560983</td>\n",
       "      <td>-0.005981</td>\n",
       "      <td>-0.131742</td>\n",
       "      <td>1.000000</td>\n",
       "      <td>0.750461</td>\n",
       "      <td>-0.043446</td>\n",
       "      <td>0.681648</td>\n",
       "      <td>0.379214</td>\n",
       "    </tr>\n",
       "    <tr>\n",
       "      <th>Grocery</th>\n",
       "      <td>0.712243</td>\n",
       "      <td>-0.014855</td>\n",
       "      <td>-0.185814</td>\n",
       "      <td>0.750461</td>\n",
       "      <td>1.000000</td>\n",
       "      <td>-0.163608</td>\n",
       "      <td>0.880638</td>\n",
       "      <td>0.253735</td>\n",
       "    </tr>\n",
       "    <tr>\n",
       "      <th>Frozen</th>\n",
       "      <td>-0.232490</td>\n",
       "      <td>-0.054609</td>\n",
       "      <td>0.242308</td>\n",
       "      <td>-0.043446</td>\n",
       "      <td>-0.163608</td>\n",
       "      <td>1.000000</td>\n",
       "      <td>-0.203887</td>\n",
       "      <td>0.138383</td>\n",
       "    </tr>\n",
       "    <tr>\n",
       "      <th>Detergents_Paper</th>\n",
       "      <td>0.727828</td>\n",
       "      <td>-0.014227</td>\n",
       "      <td>-0.251546</td>\n",
       "      <td>0.681648</td>\n",
       "      <td>0.880638</td>\n",
       "      <td>-0.203887</td>\n",
       "      <td>1.000000</td>\n",
       "      <td>0.166080</td>\n",
       "    </tr>\n",
       "    <tr>\n",
       "      <th>Delicassen</th>\n",
       "      <td>0.187357</td>\n",
       "      <td>0.003139</td>\n",
       "      <td>0.138828</td>\n",
       "      <td>0.379214</td>\n",
       "      <td>0.253735</td>\n",
       "      <td>0.138383</td>\n",
       "      <td>0.166080</td>\n",
       "      <td>1.000000</td>\n",
       "    </tr>\n",
       "  </tbody>\n",
       "</table>\n",
       "</div>"
      ],
      "text/plain": [
       "                   Channel    Region     Fresh      Milk   Grocery    Frozen  \\\n",
       "Channel           1.000000  0.063112 -0.174732  0.560983  0.712243 -0.232490   \n",
       "Region            0.063112  1.000000  0.054510 -0.005981 -0.014855 -0.054609   \n",
       "Fresh            -0.174732  0.054510  1.000000 -0.131742 -0.185814  0.242308   \n",
       "Milk              0.560983 -0.005981 -0.131742  1.000000  0.750461 -0.043446   \n",
       "Grocery           0.712243 -0.014855 -0.185814  0.750461  1.000000 -0.163608   \n",
       "Frozen           -0.232490 -0.054609  0.242308 -0.043446 -0.163608  1.000000   \n",
       "Detergents_Paper  0.727828 -0.014227 -0.251546  0.681648  0.880638 -0.203887   \n",
       "Delicassen        0.187357  0.003139  0.138828  0.379214  0.253735  0.138383   \n",
       "\n",
       "                  Detergents_Paper  Delicassen  \n",
       "Channel                   0.727828    0.187357  \n",
       "Region                   -0.014227    0.003139  \n",
       "Fresh                    -0.251546    0.138828  \n",
       "Milk                      0.681648    0.379214  \n",
       "Grocery                   0.880638    0.253735  \n",
       "Frozen                   -0.203887    0.138383  \n",
       "Detergents_Paper          1.000000    0.166080  \n",
       "Delicassen                0.166080    1.000000  "
      ]
     },
     "execution_count": 45,
     "metadata": {},
     "output_type": "execute_result"
    }
   ],
   "source": [
    "Cosco.corr()"
   ]
  },
  {
   "cell_type": "markdown",
   "metadata": {},
   "source": [
    "### Checking correlations"
   ]
  },
  {
   "cell_type": "code",
   "execution_count": 48,
   "metadata": {},
   "outputs": [
    {
     "data": {
      "text/html": [
       "<div>\n",
       "<style scoped>\n",
       "    .dataframe tbody tr th:only-of-type {\n",
       "        vertical-align: middle;\n",
       "    }\n",
       "\n",
       "    .dataframe tbody tr th {\n",
       "        vertical-align: top;\n",
       "    }\n",
       "\n",
       "    .dataframe thead th {\n",
       "        text-align: right;\n",
       "    }\n",
       "</style>\n",
       "<table border=\"1\" class=\"dataframe\">\n",
       "  <thead>\n",
       "    <tr style=\"text-align: right;\">\n",
       "      <th></th>\n",
       "      <th>Channel</th>\n",
       "      <th>Region</th>\n",
       "      <th>Fresh</th>\n",
       "      <th>Milk</th>\n",
       "      <th>Grocery</th>\n",
       "      <th>Frozen</th>\n",
       "      <th>Detergents_Paper</th>\n",
       "      <th>Delicassen</th>\n",
       "    </tr>\n",
       "  </thead>\n",
       "  <tbody>\n",
       "    <tr>\n",
       "      <th>Channel</th>\n",
       "      <td>1.000000</td>\n",
       "      <td>0.000000</td>\n",
       "      <td>0.000000</td>\n",
       "      <td>0.000000</td>\n",
       "      <td>0.000000</td>\n",
       "      <td>0.000000</td>\n",
       "      <td>0.00000</td>\n",
       "      <td>0.0</td>\n",
       "    </tr>\n",
       "    <tr>\n",
       "      <th>Region</th>\n",
       "      <td>0.063112</td>\n",
       "      <td>1.000000</td>\n",
       "      <td>0.000000</td>\n",
       "      <td>0.000000</td>\n",
       "      <td>0.000000</td>\n",
       "      <td>0.000000</td>\n",
       "      <td>0.00000</td>\n",
       "      <td>0.0</td>\n",
       "    </tr>\n",
       "    <tr>\n",
       "      <th>Fresh</th>\n",
       "      <td>-0.174732</td>\n",
       "      <td>0.054510</td>\n",
       "      <td>1.000000</td>\n",
       "      <td>0.000000</td>\n",
       "      <td>0.000000</td>\n",
       "      <td>0.000000</td>\n",
       "      <td>0.00000</td>\n",
       "      <td>0.0</td>\n",
       "    </tr>\n",
       "    <tr>\n",
       "      <th>Milk</th>\n",
       "      <td>0.560983</td>\n",
       "      <td>-0.005981</td>\n",
       "      <td>-0.131742</td>\n",
       "      <td>1.000000</td>\n",
       "      <td>0.000000</td>\n",
       "      <td>0.000000</td>\n",
       "      <td>0.00000</td>\n",
       "      <td>0.0</td>\n",
       "    </tr>\n",
       "    <tr>\n",
       "      <th>Grocery</th>\n",
       "      <td>0.712243</td>\n",
       "      <td>-0.014855</td>\n",
       "      <td>-0.185814</td>\n",
       "      <td>0.750461</td>\n",
       "      <td>1.000000</td>\n",
       "      <td>0.000000</td>\n",
       "      <td>0.00000</td>\n",
       "      <td>0.0</td>\n",
       "    </tr>\n",
       "    <tr>\n",
       "      <th>Frozen</th>\n",
       "      <td>-0.232490</td>\n",
       "      <td>-0.054609</td>\n",
       "      <td>0.242308</td>\n",
       "      <td>-0.043446</td>\n",
       "      <td>-0.163608</td>\n",
       "      <td>1.000000</td>\n",
       "      <td>0.00000</td>\n",
       "      <td>0.0</td>\n",
       "    </tr>\n",
       "    <tr>\n",
       "      <th>Detergents_Paper</th>\n",
       "      <td>0.727828</td>\n",
       "      <td>-0.014227</td>\n",
       "      <td>-0.251546</td>\n",
       "      <td>0.681648</td>\n",
       "      <td>0.880638</td>\n",
       "      <td>-0.203887</td>\n",
       "      <td>1.00000</td>\n",
       "      <td>0.0</td>\n",
       "    </tr>\n",
       "    <tr>\n",
       "      <th>Delicassen</th>\n",
       "      <td>0.187357</td>\n",
       "      <td>0.003139</td>\n",
       "      <td>0.138828</td>\n",
       "      <td>0.379214</td>\n",
       "      <td>0.253735</td>\n",
       "      <td>0.138383</td>\n",
       "      <td>0.16608</td>\n",
       "      <td>1.0</td>\n",
       "    </tr>\n",
       "  </tbody>\n",
       "</table>\n",
       "</div>"
      ],
      "text/plain": [
       "                   Channel    Region     Fresh      Milk   Grocery    Frozen  \\\n",
       "Channel           1.000000  0.000000  0.000000  0.000000  0.000000  0.000000   \n",
       "Region            0.063112  1.000000  0.000000  0.000000  0.000000  0.000000   \n",
       "Fresh            -0.174732  0.054510  1.000000  0.000000  0.000000  0.000000   \n",
       "Milk              0.560983 -0.005981 -0.131742  1.000000  0.000000  0.000000   \n",
       "Grocery           0.712243 -0.014855 -0.185814  0.750461  1.000000  0.000000   \n",
       "Frozen           -0.232490 -0.054609  0.242308 -0.043446 -0.163608  1.000000   \n",
       "Detergents_Paper  0.727828 -0.014227 -0.251546  0.681648  0.880638 -0.203887   \n",
       "Delicassen        0.187357  0.003139  0.138828  0.379214  0.253735  0.138383   \n",
       "\n",
       "                  Detergents_Paper  Delicassen  \n",
       "Channel                    0.00000         0.0  \n",
       "Region                     0.00000         0.0  \n",
       "Fresh                      0.00000         0.0  \n",
       "Milk                       0.00000         0.0  \n",
       "Grocery                    0.00000         0.0  \n",
       "Frozen                     0.00000         0.0  \n",
       "Detergents_Paper           1.00000         0.0  \n",
       "Delicassen                 0.16608         1.0  "
      ]
     },
     "execution_count": 48,
     "metadata": {},
     "output_type": "execute_result"
    }
   ],
   "source": [
    "#Displaying lower triangle of the correlation matrix\n",
    "cosco_corr = pd. DataFrame(np.tril(Cosco.corr().values), columns= Cosco.columns, index=Cosco.columns) \n",
    "cosco_corr\n",
    "# I see a couple of highy correlated columns\n",
    "# but from the matrix is quite difficult to spot the values, so I will plot them below"
   ]
  },
  {
   "cell_type": "code",
   "execution_count": 49,
   "metadata": {},
   "outputs": [
    {
     "data": {
      "image/png": "[encoded data removed]",
      "text/plain": [
       "<Figure size 1080x864 with 2 Axes>"
      ]
     },
     "metadata": {},
     "output_type": "display_data"
    }
   ],
   "source": [
    "mask = np.triu(np.ones_like(cosco_corr, dtype=bool))\n",
    "\n",
    "f, ax = plt.subplots(figsize=(15, 12))\n",
    "sns.heatmap(cosco_corr, cmap ='Spectral',mask=mask, annot=True)\n",
    "plt.show()"
   ]
  },
  {
   "cell_type": "code",
   "execution_count": 9,
   "metadata": {},
   "outputs": [],
   "source": [
    "#Grocery and Detergent_Paper have some highly correlated values with channel , Milk \n",
    "# but specially between each other:\n",
    "\n",
    "# GROCERY   vs. CHANNEL\n",
    "#           vs. MILK\n",
    "#           vs. DETERGENTS_PAPER\n",
    "\n",
    "# DETERGENTS_PAPER vs. CHANNEL\n",
    "#                  vs. MILK\n",
    "#                  vs. GROCERY\n",
    "\n",
    "# To be checked!"
   ]
  },
  {
   "cell_type": "markdown",
   "metadata": {},
   "source": [
    "### Checking for Outliers"
   ]
  },
  {
   "cell_type": "code",
   "execution_count": 10,
   "metadata": {},
   "outputs": [
    {
     "data": {
      "text/html": [
       "<div>\n",
       "<style scoped>\n",
       "    .dataframe tbody tr th:only-of-type {\n",
       "        vertical-align: middle;\n",
       "    }\n",
       "\n",
       "    .dataframe tbody tr th {\n",
       "        vertical-align: top;\n",
       "    }\n",
       "\n",
       "    .dataframe thead th {\n",
       "        text-align: right;\n",
       "    }\n",
       "</style>\n",
       "<table border=\"1\" class=\"dataframe\">\n",
       "  <thead>\n",
       "    <tr style=\"text-align: right;\">\n",
       "      <th></th>\n",
       "      <th>Fresh</th>\n",
       "      <th>Milk</th>\n",
       "      <th>Grocery</th>\n",
       "      <th>Frozen</th>\n",
       "      <th>Detergents_Paper</th>\n",
       "      <th>Delicassen</th>\n",
       "    </tr>\n",
       "  </thead>\n",
       "  <tbody>\n",
       "    <tr>\n",
       "      <th>count</th>\n",
       "      <td>440.000000</td>\n",
       "      <td>440.000000</td>\n",
       "      <td>440.000000</td>\n",
       "      <td>440.000000</td>\n",
       "      <td>440.000000</td>\n",
       "      <td>440.000000</td>\n",
       "    </tr>\n",
       "    <tr>\n",
       "      <th>mean</th>\n",
       "      <td>12000.297727</td>\n",
       "      <td>5796.265909</td>\n",
       "      <td>7951.277273</td>\n",
       "      <td>3071.931818</td>\n",
       "      <td>2881.493182</td>\n",
       "      <td>1524.870455</td>\n",
       "    </tr>\n",
       "    <tr>\n",
       "      <th>std</th>\n",
       "      <td>12647.328865</td>\n",
       "      <td>7380.377175</td>\n",
       "      <td>9503.162829</td>\n",
       "      <td>4854.673333</td>\n",
       "      <td>4767.854448</td>\n",
       "      <td>2820.105937</td>\n",
       "    </tr>\n",
       "    <tr>\n",
       "      <th>min</th>\n",
       "      <td>3.000000</td>\n",
       "      <td>55.000000</td>\n",
       "      <td>3.000000</td>\n",
       "      <td>25.000000</td>\n",
       "      <td>3.000000</td>\n",
       "      <td>3.000000</td>\n",
       "    </tr>\n",
       "    <tr>\n",
       "      <th>25%</th>\n",
       "      <td>3127.750000</td>\n",
       "      <td>1533.000000</td>\n",
       "      <td>2153.000000</td>\n",
       "      <td>742.250000</td>\n",
       "      <td>256.750000</td>\n",
       "      <td>408.250000</td>\n",
       "    </tr>\n",
       "    <tr>\n",
       "      <th>50%</th>\n",
       "      <td>8504.000000</td>\n",
       "      <td>3627.000000</td>\n",
       "      <td>4755.500000</td>\n",
       "      <td>1526.000000</td>\n",
       "      <td>816.500000</td>\n",
       "      <td>965.500000</td>\n",
       "    </tr>\n",
       "    <tr>\n",
       "      <th>75%</th>\n",
       "      <td>16933.750000</td>\n",
       "      <td>7190.250000</td>\n",
       "      <td>10655.750000</td>\n",
       "      <td>3554.250000</td>\n",
       "      <td>3922.000000</td>\n",
       "      <td>1820.250000</td>\n",
       "    </tr>\n",
       "    <tr>\n",
       "      <th>max</th>\n",
       "      <td>112151.000000</td>\n",
       "      <td>73498.000000</td>\n",
       "      <td>92780.000000</td>\n",
       "      <td>60869.000000</td>\n",
       "      <td>40827.000000</td>\n",
       "      <td>47943.000000</td>\n",
       "    </tr>\n",
       "  </tbody>\n",
       "</table>\n",
       "</div>"
      ],
      "text/plain": [
       "               Fresh          Milk       Grocery        Frozen  \\\n",
       "count     440.000000    440.000000    440.000000    440.000000   \n",
       "mean    12000.297727   5796.265909   7951.277273   3071.931818   \n",
       "std     12647.328865   7380.377175   9503.162829   4854.673333   \n",
       "min         3.000000     55.000000      3.000000     25.000000   \n",
       "25%      3127.750000   1533.000000   2153.000000    742.250000   \n",
       "50%      8504.000000   3627.000000   4755.500000   1526.000000   \n",
       "75%     16933.750000   7190.250000  10655.750000   3554.250000   \n",
       "max    112151.000000  73498.000000  92780.000000  60869.000000   \n",
       "\n",
       "       Detergents_Paper    Delicassen  \n",
       "count        440.000000    440.000000  \n",
       "mean        2881.493182   1524.870455  \n",
       "std         4767.854448   2820.105937  \n",
       "min            3.000000      3.000000  \n",
       "25%          256.750000    408.250000  \n",
       "50%          816.500000    965.500000  \n",
       "75%         3922.000000   1820.250000  \n",
       "max        40827.000000  47943.000000  "
      ]
     },
     "execution_count": 10,
     "metadata": {},
     "output_type": "execute_result"
    }
   ],
   "source": [
    "# Let's look at the numerical data for more info\n",
    "Cosco.drop(['Channel','Region'], axis=1).describe()\n",
    "\n",
    "# RECAP:\n",
    "# The standard deviation is always positive or zero. \n",
    "# SMALL standard deviation == concentrated data close to the mean (LITTLE Variation or spread)\n",
    "# LARGER standard deviation == the data values are more spread out from the mean (MORE Variation)\n",
    "\n",
    "# The least spread is for Delicatessen \n",
    "# Followed by Detergents_Paper and Frozen\n",
    "# then Milk, Grocery and Fresh"
   ]
  },
  {
   "cell_type": "code",
   "execution_count": null,
   "metadata": {},
   "outputs": [],
   "source": []
  },
  {
   "cell_type": "code",
   "execution_count": 11,
   "metadata": {},
   "outputs": [
    {
     "data": {
      "image/png": "[encoded data removed]",
      "text/plain": [
       "<Figure size 1080x864 with 1 Axes>"
      ]
     },
     "metadata": {
      "needs_background": "light"
     },
     "output_type": "display_data"
    }
   ],
   "source": [
    "# From the table above:\n",
    "#There also seem to be some outliers in ALL categories, let's have a closer look\n",
    "\n",
    "#Let's plot it:\n",
    "f, ax = plt.subplots(figsize=(15, 12))\n",
    "sns.set_theme(style=\"whitegrid\")\n",
    "ax = sns.boxplot(data=Cosco.drop(['Channel','Region'],axis=1),whis=1.5,orient=\"h\", \n",
    "                 order=['Fresh','Grocery','Milk','Detergents_Paper','Frozen','Delicassen']\n",
    "                )\n",
    "\n",
    "#From this plot i can very well see that there are indeed many outliers! Specially the max in every category except (Detergent)\n",
    "#Now, we are talking about\n",
    "# consumers so this can mean specific clients spending more?\n",
    "\n",
    "# Should they be kept? or studyied separately?"
   ]
  },
  {
   "cell_type": "code",
   "execution_count": 12,
   "metadata": {},
   "outputs": [
    {
     "name": "stdout",
     "output_type": "stream",
     "text": [
      " The max values per col in Cols:\n",
      " 112151\n",
      " The max values per col in Cols:\n",
      " 92780\n",
      " The max values per col in Cols:\n",
      " 73498\n",
      " The max values per col in Cols:\n",
      " 38102\n",
      " The max values per col in Cols:\n",
      " 60869\n",
      " The max values per col in Cols:\n",
      " 47943\n"
     ]
    },
    {
     "data": {
      "text/html": [
       "<div>\n",
       "<style scoped>\n",
       "    .dataframe tbody tr th:only-of-type {\n",
       "        vertical-align: middle;\n",
       "    }\n",
       "\n",
       "    .dataframe tbody tr th {\n",
       "        vertical-align: top;\n",
       "    }\n",
       "\n",
       "    .dataframe thead th {\n",
       "        text-align: right;\n",
       "    }\n",
       "</style>\n",
       "<table border=\"1\" class=\"dataframe\">\n",
       "  <thead>\n",
       "    <tr style=\"text-align: right;\">\n",
       "      <th></th>\n",
       "      <th>Channel</th>\n",
       "      <th>Region</th>\n",
       "      <th>Fresh</th>\n",
       "      <th>Milk</th>\n",
       "      <th>Grocery</th>\n",
       "      <th>Frozen</th>\n",
       "      <th>Detergents_Paper</th>\n",
       "      <th>Delicassen</th>\n",
       "    </tr>\n",
       "  </thead>\n",
       "  <tbody>\n",
       "    <tr>\n",
       "      <th>count</th>\n",
       "      <td>434.000000</td>\n",
       "      <td>434.000000</td>\n",
       "      <td>434.000000</td>\n",
       "      <td>434.000000</td>\n",
       "      <td>434.000000</td>\n",
       "      <td>434.000000</td>\n",
       "      <td>434.000000</td>\n",
       "      <td>434.000000</td>\n",
       "    </tr>\n",
       "    <tr>\n",
       "      <th>mean</th>\n",
       "      <td>1.320276</td>\n",
       "      <td>2.541475</td>\n",
       "      <td>11637.808756</td>\n",
       "      <td>5380.923963</td>\n",
       "      <td>7498.677419</td>\n",
       "      <td>2846.447005</td>\n",
       "      <td>2678.338710</td>\n",
       "      <td>1391.195853</td>\n",
       "    </tr>\n",
       "    <tr>\n",
       "      <th>std</th>\n",
       "      <td>0.467121</td>\n",
       "      <td>0.777503</td>\n",
       "      <td>11666.891741</td>\n",
       "      <td>5978.540285</td>\n",
       "      <td>8037.150522</td>\n",
       "      <td>3615.426198</td>\n",
       "      <td>4012.680087</td>\n",
       "      <td>1706.148925</td>\n",
       "    </tr>\n",
       "    <tr>\n",
       "      <th>min</th>\n",
       "      <td>1.000000</td>\n",
       "      <td>1.000000</td>\n",
       "      <td>3.000000</td>\n",
       "      <td>55.000000</td>\n",
       "      <td>3.000000</td>\n",
       "      <td>25.000000</td>\n",
       "      <td>3.000000</td>\n",
       "      <td>3.000000</td>\n",
       "    </tr>\n",
       "    <tr>\n",
       "      <th>25%</th>\n",
       "      <td>1.000000</td>\n",
       "      <td>2.000000</td>\n",
       "      <td>3098.500000</td>\n",
       "      <td>1515.750000</td>\n",
       "      <td>2146.250000</td>\n",
       "      <td>738.750000</td>\n",
       "      <td>256.250000</td>\n",
       "      <td>405.250000</td>\n",
       "    </tr>\n",
       "    <tr>\n",
       "      <th>50%</th>\n",
       "      <td>1.000000</td>\n",
       "      <td>3.000000</td>\n",
       "      <td>8257.500000</td>\n",
       "      <td>3607.500000</td>\n",
       "      <td>4725.000000</td>\n",
       "      <td>1526.000000</td>\n",
       "      <td>811.000000</td>\n",
       "      <td>960.500000</td>\n",
       "    </tr>\n",
       "    <tr>\n",
       "      <th>75%</th>\n",
       "      <td>2.000000</td>\n",
       "      <td>3.000000</td>\n",
       "      <td>16724.500000</td>\n",
       "      <td>7091.500000</td>\n",
       "      <td>10391.000000</td>\n",
       "      <td>3519.750000</td>\n",
       "      <td>3879.250000</td>\n",
       "      <td>1783.000000</td>\n",
       "    </tr>\n",
       "    <tr>\n",
       "      <th>max</th>\n",
       "      <td>2.000000</td>\n",
       "      <td>3.000000</td>\n",
       "      <td>76237.000000</td>\n",
       "      <td>54259.000000</td>\n",
       "      <td>59598.000000</td>\n",
       "      <td>35009.000000</td>\n",
       "      <td>26701.000000</td>\n",
       "      <td>16523.000000</td>\n",
       "    </tr>\n",
       "  </tbody>\n",
       "</table>\n",
       "</div>"
      ],
      "text/plain": [
       "          Channel      Region         Fresh          Milk       Grocery  \\\n",
       "count  434.000000  434.000000    434.000000    434.000000    434.000000   \n",
       "mean     1.320276    2.541475  11637.808756   5380.923963   7498.677419   \n",
       "std      0.467121    0.777503  11666.891741   5978.540285   8037.150522   \n",
       "min      1.000000    1.000000      3.000000     55.000000      3.000000   \n",
       "25%      1.000000    2.000000   3098.500000   1515.750000   2146.250000   \n",
       "50%      1.000000    3.000000   8257.500000   3607.500000   4725.000000   \n",
       "75%      2.000000    3.000000  16724.500000   7091.500000  10391.000000   \n",
       "max      2.000000    3.000000  76237.000000  54259.000000  59598.000000   \n",
       "\n",
       "             Frozen  Detergents_Paper    Delicassen  \n",
       "count    434.000000        434.000000    434.000000  \n",
       "mean    2846.447005       2678.338710   1391.195853  \n",
       "std     3615.426198       4012.680087   1706.148925  \n",
       "min       25.000000          3.000000      3.000000  \n",
       "25%      738.750000        256.250000    405.250000  \n",
       "50%     1526.000000        811.000000    960.500000  \n",
       "75%     3519.750000       3879.250000   1783.000000  \n",
       "max    35009.000000      26701.000000  16523.000000  "
      ]
     },
     "execution_count": 12,
     "metadata": {},
     "output_type": "execute_result"
    }
   ],
   "source": [
    "from numpy import percentile\n",
    "\n",
    "# If we separate them: Let's say we want to take out all values after the 75%qtle + 1,5 \n",
    "\n",
    "# calculate interquartile range, cut_off and upper cut_off\n",
    "\n",
    "# def upper_cut(Series):\n",
    "#     q25, q75 = percentile(Series, 25), percentile(Series, 75)\n",
    "#     iqr = q75 - q25\n",
    "#     cut_off = iqr * 1.5\n",
    "#     upper = q75 + cut_off\n",
    "#     return upper\n",
    "\n",
    "# def outliers(Series):\n",
    "#     return list(Series.loc[Series > upper_cut(Series)])\n",
    "    \n",
    "\n",
    "cols = ['Fresh','Grocery','Milk','Detergents_Paper','Frozen','Delicassen']\n",
    "\n",
    "## FOR LOOP to identify outliers:\n",
    "\n",
    "# for col in cols:\n",
    "#     Series = Cosco[col]\n",
    "#     upper_cut(Series)\n",
    "#     print(f'upper of {col} is {upper_cut(Series)}')\n",
    "#     outliers(Series)\n",
    "#     print(f'outliers of {col} are {outliers(Series)}\\n')\n",
    "\n",
    "# # TEST\n",
    "# upper_cut(Cosco['Delicassen']) #I tested and seems that it works\n",
    "\n",
    "# From this I see all the outliers from category of products.\n",
    "# I feel that there will be too much info loss, therefore (despite the amount of time I have spent here haha)\n",
    "# Perhaps is wise only to drop the max values (which seem to be fewer and making quite the difference)\n",
    "\n",
    "## IDENTIFYING & DROPPING ONLY MAX VALUES\n",
    "\n",
    "def drop_max(Series):\n",
    "    print(f' The max values per col in Cols:\\n {Series.max()}')\n",
    "    return Cosco.drop(Series.idxmax(),inplace=True)  \n",
    "\n",
    "\n",
    "for col in cols:\n",
    "    Series = Cosco[col]\n",
    "    drop_max(Series)\n",
    "\n",
    "Cosco.describe()    \n"
   ]
  },
  {
   "cell_type": "code",
   "execution_count": 13,
   "metadata": {},
   "outputs": [
    {
     "data": {
      "image/png": "[encoded data removed]",
      "text/plain": [
       "<Figure size 1080x864 with 1 Axes>"
      ]
     },
     "metadata": {},
     "output_type": "display_data"
    }
   ],
   "source": [
    "#Let's plot it again:\n",
    "f, ax = plt.subplots(figsize=(15, 12))\n",
    "sns.set_theme(style=\"whitegrid\")\n",
    "ax = sns.boxplot(data=Cosco.drop(['Channel','Region'],axis=1),whis=1.5,orient=\"h\", \n",
    "                 order=['Fresh','Grocery','Milk','Detergents_Paper','Frozen','Delicassen']\n",
    "                )\n",
    "#It looks better but there are still quite many outliers to be dropped..."
   ]
  },
  {
   "cell_type": "markdown",
   "metadata": {},
   "source": [
    "### Distribution"
   ]
  },
  {
   "cell_type": "code",
   "execution_count": 14,
   "metadata": {},
   "outputs": [
    {
     "data": {
      "text/plain": [
       "array([[<AxesSubplot:title={'center':'Channel'}>,\n",
       "        <AxesSubplot:title={'center':'Region'}>,\n",
       "        <AxesSubplot:title={'center':'Fresh'}>],\n",
       "       [<AxesSubplot:title={'center':'Milk'}>,\n",
       "        <AxesSubplot:title={'center':'Grocery'}>,\n",
       "        <AxesSubplot:title={'center':'Frozen'}>],\n",
       "       [<AxesSubplot:title={'center':'Detergents_Paper'}>,\n",
       "        <AxesSubplot:title={'center':'Delicassen'}>, <AxesSubplot:>]],\n",
       "      dtype=object)"
      ]
     },
     "execution_count": 14,
     "metadata": {},
     "output_type": "execute_result"
    },
    {
     "data": {
      "image/png": "[encoded data removed]",
      "text/plain": [
       "<Figure size 1080x720 with 9 Axes>"
      ]
     },
     "metadata": {},
     "output_type": "display_data"
    }
   ],
   "source": [
    "# Your code here:\n",
    "Cosco.hist(figsize= (15,10))"
   ]
  },
  {
   "cell_type": "code",
   "execution_count": 15,
   "metadata": {},
   "outputs": [],
   "source": [
    "# Your observations here\n",
    "\n",
    "# For the categorical data: I see that there is, in both of them, one category that is \n",
    "# more important than the others: cat 1 for Channel, Reg 3 for Region\n",
    "# Distribution for the rest of the numerical data is right-skewed\n",
    "#also the scales are quite different between the (of course categorical data is in a very small range)\n"
   ]
  },
  {
   "cell_type": "markdown",
   "metadata": {},
   "source": [
    "# Challenge 2 - Data Cleaning and Transformation\n",
    "\n",
    "If your conclusion from the previous challenge is the data need cleaning/transformation, do it in the cells below. However, if your conclusion is the data need not be cleaned or transformed, feel free to skip this challenge. But if you do choose the latter, please provide rationale."
   ]
  },
  {
   "cell_type": "code",
   "execution_count": 40,
   "metadata": {},
   "outputs": [],
   "source": [
    "# Your code here\n",
    "\n",
    "# I wil indeed take out some of the bigger outliers in each product column. but this time manually (since \n",
    "#there are different and I want to plot the differences \n",
    "\n",
    "\n",
    "to_dropF = Cosco.loc[Cosco['Fresh']>50000].index\n",
    "to_dropG = Cosco.loc[Cosco['Grocery']>37000].index\n",
    "to_dropM = Cosco.loc[Cosco['Milk']>30000].index\n",
    "# to_dropDP = Cosco.loc[Cosco['Detergents_Paper']>20000].index #Went away already\n",
    "to_dropFr = Cosco.loc[Cosco['Frozen']>30000].index\n",
    "to_dropD = Cosco.loc[Cosco['Delicassen']>10000].index\n",
    "Cosco.drop(to_dropF,inplace=True)\n",
    "Cosco.drop(to_dropG,inplace=True)\n",
    "Cosco.drop(to_dropM,inplace=True)\n",
    "# Cosco.drop(to_dropDP,inplace=True)#No need\n",
    "Cosco.drop(to_dropFr,inplace=True)\n",
    "Cosco.drop(to_dropD,inplace=True)\n",
    "#6 values dropped\n"
   ]
  },
  {
   "cell_type": "code",
   "execution_count": 41,
   "metadata": {},
   "outputs": [
    {
     "data": {
      "image/png": "[encoded data removed]",
      "text/plain": [
       "<Figure size 1080x864 with 1 Axes>"
      ]
     },
     "metadata": {},
     "output_type": "display_data"
    }
   ],
   "source": [
    "f, ax = plt.subplots(figsize=(15, 12))\n",
    "sns.set_theme(style=\"whitegrid\")\n",
    "ax = sns.boxplot(data=Cosco.drop(['Channel','Region'],axis=1),whis=1.5,orient=\"h\", \n",
    "                 order=['Fresh','Grocery','Milk','Detergents_Paper','Frozen','Delicassen']\n",
    "                )"
   ]
  },
  {
   "cell_type": "code",
   "execution_count": 44,
   "metadata": {},
   "outputs": [
    {
     "name": "stdout",
     "output_type": "stream",
     "text": [
      "4.55% of the data was lost\n"
     ]
    }
   ],
   "source": [
    "# Your comment here\n",
    "Cosco.shape\n",
    "#I see that by taking the Max and most extreme outliers (far beyond 1.5*IQR), the data \n",
    "# looks better and 20 rows were affected\n",
    "#pct of loss for 20 rows:\n",
    "pct_loss = 20/440*100\n",
    "print(f'{round(pct_loss,2)}% of the data was lost')\n"
   ]
  },
  {
   "cell_type": "markdown",
   "metadata": {},
   "source": [
    "# Challenge 3 - Data Preprocessing\n",
    "\n",
    "One problem with the dataset is the value ranges are remarkably different across various categories (e.g. `Fresh` and `Grocery` compared to `Detergents_Paper` and `Delicassen`). If you made this observation in the first challenge, you've done a great job! This means you not only completed the bonus questions in the previous Supervised Learning lab but also researched deep into [*feature scaling*](https://en.wikipedia.org/wiki/Feature_scaling). Keep on the good work!\n",
    "\n",
    "Diverse value ranges in different features could cause issues in our clustering. The way to reduce the problem is through feature scaling. We'll use this technique again with this dataset.\n",
    "\n",
    "#### We will use the `StandardScaler` from `sklearn.preprocessing` and scale our data. Read more about `StandardScaler` [here](https://scikit-learn.org/stable/modules/generated/sklearn.preprocessing.StandardScaler.html#sklearn.preprocessing.StandardScaler).\n",
    "\n",
    "*After scaling your data, assign the transformed data to a new variable `customers_scale`.*"
   ]
  },
  {
   "cell_type": "code",
   "execution_count": 19,
   "metadata": {},
   "outputs": [],
   "source": [
    "# Your import here:\n",
    "\n",
    "from sklearn.preprocessing import StandardScaler\n",
    "\n",
    "# Your code here:\n"
   ]
  },
  {
   "cell_type": "markdown",
   "metadata": {},
   "source": [
    "# Challenge 3 - Data Clustering with K-Means\n",
    "\n",
    "Now let's cluster the data with K-Means first. Initiate the K-Means model, then fit your scaled data. In the data returned from the `.fit` method, there is an attribute called `labels_` which is the cluster number assigned to each data record. What you can do is to assign these labels back to `customers` in a new column called `customers['labels']`. Then you'll see the cluster results of the original data."
   ]
  },
  {
   "cell_type": "code",
   "execution_count": 20,
   "metadata": {
    "scrolled": true
   },
   "outputs": [],
   "source": [
    "# Your code here:\n"
   ]
  },
  {
   "cell_type": "markdown",
   "metadata": {},
   "source": [
    "Count the values in `labels`."
   ]
  },
  {
   "cell_type": "code",
   "execution_count": 21,
   "metadata": {},
   "outputs": [],
   "source": [
    "# Your code here:\n"
   ]
  },
  {
   "cell_type": "markdown",
   "metadata": {},
   "source": [
    "# Challenge 4 - Data Clustering with DBSCAN\n",
    "\n",
    "Now let's cluster the data using DBSCAN. Use `DBSCAN(eps=0.5)` to initiate the model, then fit your scaled data. In the data returned from the `.fit` method, assign the `labels_` back to `customers['labels_DBSCAN']`. Now your original data have two labels, one from K-Means and the other from DBSCAN."
   ]
  },
  {
   "cell_type": "code",
   "execution_count": 22,
   "metadata": {
    "scrolled": true
   },
   "outputs": [],
   "source": [
    "# Your code here\n"
   ]
  },
  {
   "cell_type": "markdown",
   "metadata": {},
   "source": [
    "Count the values in `labels_DBSCAN`."
   ]
  },
  {
   "cell_type": "code",
   "execution_count": 23,
   "metadata": {},
   "outputs": [],
   "source": [
    "# Your code here\n"
   ]
  },
  {
   "cell_type": "markdown",
   "metadata": {},
   "source": [
    "# Challenge 5 - Compare K-Means with DBSCAN\n",
    "\n",
    "Now we want to visually compare how K-Means and DBSCAN have clustered our data. We will create scatter plots for several columns. For each of the following column pairs, plot a scatter plot using `labels` and another using `labels_DBSCAN`. Put them side by side to compare. Which clustering algorithm makes better sense?\n",
    "\n",
    "Columns to visualize:\n",
    "\n",
    "* `Detergents_Paper` as X and `Milk` as y\n",
    "* `Grocery` as X and `Fresh` as y\n",
    "* `Frozen` as X and `Delicassen` as y"
   ]
  },
  {
   "cell_type": "markdown",
   "metadata": {},
   "source": [
    "Visualize `Detergents_Paper` as X and `Milk` as y by `labels` and `labels_DBSCAN` respectively"
   ]
  },
  {
   "cell_type": "code",
   "execution_count": 24,
   "metadata": {},
   "outputs": [],
   "source": [
    "# Your code here:\n"
   ]
  },
  {
   "cell_type": "markdown",
   "metadata": {},
   "source": [
    "Visualize `Grocery` as X and `Fresh` as y by `labels` and `labels_DBSCAN` respectively"
   ]
  },
  {
   "cell_type": "code",
   "execution_count": 25,
   "metadata": {},
   "outputs": [],
   "source": [
    "# Your code here:\n"
   ]
  },
  {
   "cell_type": "markdown",
   "metadata": {},
   "source": [
    "Visualize `Frozen` as X and `Delicassen` as y by `labels` and `labels_DBSCAN` respectively"
   ]
  },
  {
   "cell_type": "code",
   "execution_count": 26,
   "metadata": {},
   "outputs": [],
   "source": [
    "# Your code here:"
   ]
  },
  {
   "cell_type": "markdown",
   "metadata": {},
   "source": [
    "Let's use a groupby to see how the mean differs between the groups. Group `customers` by `labels` and `labels_DBSCAN` respectively and compute the means for all columns."
   ]
  },
  {
   "cell_type": "code",
   "execution_count": 27,
   "metadata": {},
   "outputs": [],
   "source": [
    "# Your code here:\n"
   ]
  },
  {
   "cell_type": "markdown",
   "metadata": {},
   "source": [
    "Which algorithm appears to perform better?"
   ]
  },
  {
   "cell_type": "code",
   "execution_count": 28,
   "metadata": {},
   "outputs": [],
   "source": [
    "# Your observations here"
   ]
  },
  {
   "cell_type": "markdown",
   "metadata": {},
   "source": [
    "# Bonus Challenge 2 - Changing K-Means Number of Clusters\n",
    "\n",
    "As we mentioned earlier, we don't need to worry about the number of clusters with DBSCAN because it automatically decides that based on the parameters we send to it. But with K-Means, we have to supply the `n_clusters` param (if you don't supply `n_clusters`, the algorithm will use `8` by default). You need to know that the optimal number of clusters differs case by case based on the dataset. K-Means can perform badly if the wrong number of clusters is used.\n",
    "\n",
    "In advanced machine learning, data scientists try different numbers of clusters and evaluate the results with statistical measures (read [here](https://en.wikipedia.org/wiki/Cluster_analysis#External_evaluation)). We are not using statistical measures today but we'll use our eyes instead. In the cells below, experiment with different number of clusters and visualize with scatter plots. What number of clusters seems to work best for K-Means?"
   ]
  },
  {
   "cell_type": "code",
   "execution_count": 29,
   "metadata": {},
   "outputs": [],
   "source": [
    "# Your code here"
   ]
  },
  {
   "cell_type": "code",
   "execution_count": 30,
   "metadata": {},
   "outputs": [],
   "source": [
    "# Your comment here"
   ]
  },
  {
   "cell_type": "markdown",
   "metadata": {},
   "source": [
    "# Bonus Challenge 3 - Changing DBSCAN `eps` and `min_samples`\n",
    "\n",
    "Experiment changing the `eps` and `min_samples` params for DBSCAN. See how the results differ with scatter plot visualization."
   ]
  },
  {
   "cell_type": "code",
   "execution_count": 31,
   "metadata": {},
   "outputs": [],
   "source": [
    "# Your code here"
   ]
  },
  {
   "cell_type": "code",
   "execution_count": 32,
   "metadata": {},
   "outputs": [],
   "source": [
    "# Your comment here"
   ]
  }
 ],
 "metadata": {
  "kernelspec": {
   "display_name": "Python 3",
   "language": "python",
   "name": "python3"
  },
  "language_info": {
   "codemirror_mode": {
    "name": "ipython",
    "version": 3
   },
   "file_extension": ".py",
   "mimetype": "text/x-python",
   "name": "python",
   "nbconvert_exporter": "python",
   "pygments_lexer": "ipython3",
   "version": "3.9.0"
  }
 },
 "nbformat": 4,
 "nbformat_minor": 2
}
