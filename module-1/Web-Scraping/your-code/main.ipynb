{
 "cells": [
  {
   "cell_type": "markdown",
   "metadata": {},
   "source": [
    "# Web Scraping Lab\n",
    "\n",
    "You will find in this notebook some scrapy exercises to practise your scraping skills.\n",
    "\n",
    "**Tips:**\n",
    "\n",
    "- Check the response status code for each request to ensure you have obtained the intended content.\n",
    "- Print the response text in each request to understand the kind of info you are getting and its format.\n",
    "- Check for patterns in the response text to extract the data/info requested in each question.\n",
    "- Visit the urls below and take a look at their source code through Chrome DevTools. You'll need to identify the html tags, special class names, etc used in the html content you are expected to extract.\n",
    "\n",
    "**Resources**:\n",
    "- [Requests library](http://docs.python-requests.org/en/master/#the-user-guide)\n",
    "- [Beautiful Soup Doc](https://www.crummy.com/software/BeautifulSoup/bs4/doc/)\n",
    "- [Urllib](https://docs.python.org/3/library/urllib.html#module-urllib)\n",
    "- [re lib](https://docs.python.org/3/library/re.html)\n",
    "- [lxml lib](https://lxml.de/)\n",
    "- [Scrapy](https://scrapy.org/)\n",
    "- [List of HTTP status codes](https://en.wikipedia.org/wiki/List_of_HTTP_status_codes)\n",
    "- [HTML basics](http://www.simplehtmlguide.com/cheatsheet.php)\n",
    "- [CSS basics](https://www.cssbasics.com/#page_start)"
   ]
  },
  {
   "cell_type": "markdown",
   "metadata": {},
   "source": [
    "#### Below are the libraries and modules you may need. `requests`,  `BeautifulSoup` and `pandas` are already imported for you. If you prefer to use additional libraries feel free to do it."
   ]
  },
  {
   "cell_type": "code",
   "execution_count": 1,
   "metadata": {},
   "outputs": [],
   "source": [
    "import requests\n",
    "from bs4 import BeautifulSoup\n",
    "import pandas as pd\n",
    "import lxml"
   ]
  },
  {
   "cell_type": "markdown",
   "metadata": {},
   "source": [
    "#### Download, parse (using BeautifulSoup), and print the content from the Trending Developers page from GitHub:"
   ]
  },
  {
   "cell_type": "code",
   "execution_count": 2,
   "metadata": {},
   "outputs": [],
   "source": [
    "# This is the url you will scrape in this exercise\n",
    "url = 'https://github.com/trending/developers'\n",
    "html = requests.get(url).content\n",
    "\n",
    "\n"
   ]
  },
  {
   "cell_type": "markdown",
   "metadata": {},
   "source": [
    "#### Display the names of the trending developers retrieved in the previous step.\n",
    "\n",
    "Your output should be a Python list of developer names. Each name should not contain any html tag.\n",
    "\n",
    "**Instructions:**\n",
    "\n",
    "1. Find out the html tag and class names used for the developer names. You can achieve this using Chrome DevTools.\n",
    "\n",
    "1. Use BeautifulSoup to extract all the html elements that contain the developer names.\n",
    "\n",
    "1. Use string manipulation techniques to replace whitespaces and linebreaks (i.e. `\\n`) in the *text* of each html element. Use a list to store the clean names.\n",
    "\n",
    "1. Print the list of names.\n",
    "\n",
    "Your output should look like below:\n",
    "\n",
    "```\n",
    "['trimstray (@trimstray)',\n",
    " 'joewalnes (JoeWalnes)',\n",
    " 'charlax (Charles-AxelDein)',\n",
    " 'ForrestKnight (ForrestKnight)',\n",
    " 'revery-ui (revery-ui)',\n",
    " 'alibaba (Alibaba)',\n",
    " 'Microsoft (Microsoft)',\n",
    " 'github (GitHub)',\n",
    " 'facebook (Facebook)',\n",
    " 'boazsegev (Bo)',\n",
    " 'google (Google)',\n",
    " 'cloudfetch',\n",
    " 'sindresorhus (SindreSorhus)',\n",
    " 'tensorflow',\n",
    " 'apache (TheApacheSoftwareFoundation)',\n",
    " 'DevonCrawford (DevonCrawford)',\n",
    " 'ARMmbed (ArmMbed)',\n",
    " 'vuejs (vuejs)',\n",
    " 'fastai (fast.ai)',\n",
    " 'QiShaoXuan (Qi)',\n",
    " 'joelparkerhenderson (JoelParkerHenderson)',\n",
    " 'torvalds (LinusTorvalds)',\n",
    " 'CyC2018',\n",
    " 'komeiji-satori (神楽坂覚々)',\n",
    " 'script-8']\n",
    " ```"
   ]
  },
  {
   "cell_type": "code",
   "execution_count": 3,
   "metadata": {},
   "outputs": [
    {
     "data": {
      "text/plain": [
       "['Mitchell Hashimoto (mitchellh)',\n",
       " 'Javier Suárez (jsuarezruiz)',\n",
       " 'Alex Goodman (wagoodman)',\n",
       " 'Jason Miller (developit)',\n",
       " 'Francois Zaninotto (fzaninotto)',\n",
       " 'Megan Marsh (SwampDragons)',\n",
       " 'James Agnew (jamesagnew)',\n",
       " 'Stefan Prodan (stefanprodan)',\n",
       " 'Sebastián Ramírez (tiangolo)',\n",
       " 'David Catuhe (deltakosh)',\n",
       " 'N_2 deltakosh ()',\n",
       " ' Microsoft()',\n",
       " 'Chris Banes (chrisbanes)',\n",
       " 'Benjamin Eberlei (beberlei)',\n",
       " 'Barry vd. Heuvel (barryvdh)',\n",
       " 'Mladen Macanović (stsrki)',\n",
       " 'Dotan Simha (dotansimha)',\n",
       " 'Mek (mekarpeles)',\n",
       " 'Alex Casalboni (alexcasalboni)',\n",
       " 'Frederic Branczyk (brancz)',\n",
       " 'Lipis (lipis)',\n",
       " 'Carlos Cuesta (carloscuesta)',\n",
       " 'Jirka Borovec (Borda)',\n",
       " 'Kyle Mathews (KyleAMathews)',\n",
       " 'Fernando Daciuk (fdaciuk)',\n",
       " 'Simon Baslé (simonbasle)',\n",
       " 'N_2 simonbasle ()',\n",
       " ' Pivotal()',\n",
       " 'Phil Pluckthun (kitten)']"
      ]
     },
     "execution_count": 3,
     "metadata": {},
     "output_type": "execute_result"
    }
   ],
   "source": [
    "# your code here\n",
    "soup = BeautifulSoup(html,\"lxml\")\n",
    "tags = ['h1','p']\n",
    "\n",
    "\n",
    "text = [element.text for element in soup.find_all(tags)][2:]\n",
    "text = text[:-5]\n",
    "\n",
    "# #finally getting somewhere\n",
    "\n",
    "\n",
    "\n",
    "for t in text:\n",
    "    if t.startswith('\\n\\n\\n') or t.startswith(' @'):\n",
    "        text.remove(t)\n",
    "\n",
    "text = [t.replace('\\n\\n            ','N_1 ') for t in text]\n",
    "text = [t.replace('N_1   ','N_2 ') for t in text]\n",
    "\n",
    "text        \n",
    "# #I want to group them by 3 elements then drop the third later\n",
    "# text = [text[i:i+3] for i in range(0,len(text),3)]\n",
    "\n",
    "names = []\n",
    "for i in range(len(text)-1):\n",
    "    if text[i].startswith('N_1 ')& text[i+1].startswith('N_2 '):\n",
    "        names.append((text[i].replace('N_1 ',''),text[i+1].replace('N_2 ','')))\n",
    "    elif text[i].startswith('N_2 ')& text[i+1].startswith('N_1 '):\n",
    "        pass\n",
    "    else:\n",
    "        names.append((text[i].replace('N_1 ',''),''))#had to add something or the name gets cut off after\n",
    "\n",
    "names        \n",
    "final_list = [element[0].replace('\\n','')+'('+element[1].replace('\\n ','')+')' for element in names]\n",
    "final_list\n",
    "\n",
    "# len(text)\n"
   ]
  },
  {
   "cell_type": "markdown",
   "metadata": {},
   "source": [
    "#### Display the trending Python repositories in GitHub.\n",
    "\n",
    "The steps to solve this problem is similar to the previous one except that you need to find out the repository names instead of developer names."
   ]
  },
  {
   "cell_type": "code",
   "execution_count": 4,
   "metadata": {},
   "outputs": [],
   "source": [
    "# This is the url you will scrape in this exercise\n",
    "url = 'https://github.com/trending/python?since=daily'\n",
    "html = requests.get(url).content\n"
   ]
  },
  {
   "cell_type": "code",
   "execution_count": 5,
   "metadata": {},
   "outputs": [
    {
     "data": {
      "text/plain": [
       "['adamian98 /pulse ',\n",
       " 'techtanic /Udemy-Course-Grabber ',\n",
       " 'lightly-ai /lightly ',\n",
       " 'home-assistant /core ',\n",
       " 'geekcomputers /Python ',\n",
       " 'tensorflow /models ',\n",
       " 'ytisf /theZoo ',\n",
       " 'Devashi-Choudhary /Invisible-Cloak-or-Adrishya-Choga ',\n",
       " 'baowenbo /DAIN ',\n",
       " 'arknave /advent-of-code-2020 ',\n",
       " 'apache /airflow ',\n",
       " 'RasaHQ /rasa ',\n",
       " 'plotly /dash ',\n",
       " 'r0ysue /r0capture ',\n",
       " 'readthedocs /readthedocs.org ',\n",
       " 'horovod /horovod ',\n",
       " 'microsoft /playwright-python ',\n",
       " 'KasperskyLab /TinyCheck ',\n",
       " 'StackStorm /st2 ',\n",
       " 'blacklanternsecurity /writehat ',\n",
       " 'ultralytics /yolov5 ',\n",
       " 'Netflix /vmaf ',\n",
       " 'Project-MONAI /MONAI ',\n",
       " 'linuxmint /hypnotix ',\n",
       " 'microsoft /dowhy ']"
      ]
     },
     "execution_count": 5,
     "metadata": {},
     "output_type": "execute_result"
    }
   ],
   "source": [
    "# your code here\n",
    "soup = BeautifulSoup(html,'lxml') \n",
    "\n",
    "tags = ['h1']\n",
    "text = [element.text for element in soup.find_all(tags)][1:]\n",
    "text = [element.replace('\\n\\n\\n\\n        ','') for element in text]\n",
    "text = [element.replace('/\\n\\n      ','/')for element in text]\n",
    "text = [element.replace('\\n','') for element in text]\n",
    "text"
   ]
  },
  {
   "cell_type": "markdown",
   "metadata": {},
   "source": [
    "#### Display all the image links from Walt Disney wikipedia page."
   ]
  },
  {
   "cell_type": "code",
   "execution_count": 6,
   "metadata": {},
   "outputs": [],
   "source": [
    "# This is the url you will scrape in this exercise\n",
    "url = 'https://en.wikipedia.org/wiki/Walt_Disney'\n",
    "html = requests.get(url).content\n",
    "\n",
    "import urllib.request"
   ]
  },
  {
   "cell_type": "code",
   "execution_count": 7,
   "metadata": {},
   "outputs": [],
   "source": [
    "# your code here\n",
    "soup = BeautifulSoup(html,'lxml') #another parser is html.parser\n",
    "#print lines:\n",
    "soup.prettify().splitlines()\n",
    "images = soup.find_all('img')\n",
    "images\n",
    "# if I wan to filter the images, I need to add ,attrs = {'alt'='whatever'}\n",
    "img = []\n",
    "number = 0\n",
    "for image in images:\n",
    "    image_src = image['src']\n",
    "    img.append(image_src)\n"
   ]
  },
  {
   "cell_type": "code",
   "execution_count": 8,
   "metadata": {},
   "outputs": [
    {
     "data": {
      "text/plain": [
       "['Walt_Disney_1946.JPG',\n",
       " 'Walt_Disney_1942_signature.svg',\n",
       " 'Walt_Disney_envelope_ca._1921.jpg',\n",
       " 'Trolley_Troubles_poster.jpg',\n",
       " 'Walt_Disney_and_his_cartoon_creation_%22Mickey_Mouse%22_-_National_Board_of_Review_Magazine.jpg',\n",
       " 'Steamboat-willie.jpg',\n",
       " 'Walt_Disney_1935.jpg',\n",
       " 'Walt_Disney_Snow_white_1937_trailer_screenshot_(13).jpg',\n",
       " 'Disney_drawing_goofy.jpg',\n",
       " 'DisneySchiphol1951.jpg',\n",
       " 'WaltDisneyplansDisneylandDec1954.jpg',\n",
       " 'Walt_disney_portrait_right.jpg',\n",
       " 'Walt_Disney_Grave.JPG',\n",
       " 'Roy_O._Disney_with_Company_at_Press_Conference.jpg',\n",
       " 'Disney_Display_Case.JPG',\n",
       " 'Disney1968.jpg',\n",
       " 'Animation_disc.svg',\n",
       " 'P_vip.svg',\n",
       " 'Magic_Kingdom_castle.jpg',\n",
       " 'Video-x-generic.svg',\n",
       " 'Flag_of_Los_Angeles_County,_California.svg',\n",
       " 'Blank_television_set.svg',\n",
       " 'Flag_of_the_United_States.svg']"
      ]
     },
     "execution_count": 8,
     "metadata": {},
     "output_type": "execute_result"
    }
   ],
   "source": [
    "images = soup.find_all(class_ = 'image')\n",
    "images = [element['href'].replace('/wiki/File:','') for element in images]\n",
    "images"
   ]
  },
  {
   "cell_type": "markdown",
   "metadata": {},
   "source": [
    "#### Retrieve an arbitary Wikipedia page of \"Python\" and create a list of links on that page."
   ]
  },
  {
   "cell_type": "code",
   "execution_count": 9,
   "metadata": {},
   "outputs": [],
   "source": [
    "# This is the url you will scrape in this exercise\n",
    "url ='https://en.wikipedia.org/wiki/Python' \n"
   ]
  },
  {
   "cell_type": "code",
   "execution_count": null,
   "metadata": {
    "scrolled": false
   },
   "outputs": [],
   "source": [
    "# your code here\n",
    "\n",
    "#opt 1\n",
    "tag = ['a']#finds the links!\n",
    "links = soup.find_all(tag)\n",
    "for link in links:\n",
    "    if 'href' in link.attrs: #we are checking for the href attributes (link)\n",
    "        print(link.attrs['href']) \n",
    "\n",
    "#option2\n",
    "# # limit findAll to this one div \n",
    "# for link in soup.find(\"div\", {\"id\":\"bodyContent\"}).find_all(\"a\"):\n",
    "#     if 'href' in link.attrs: #we are checking for the href attributes (link)\n",
    "#         print(link.attrs['href']) \n"
   ]
  },
  {
   "cell_type": "markdown",
   "metadata": {},
   "source": [
    "#### Find the number of titles that have changed in the United States Code since its last release point."
   ]
  },
  {
   "cell_type": "code",
   "execution_count": 11,
   "metadata": {},
   "outputs": [
    {
     "data": {
      "text/plain": [
       "18"
      ]
     },
     "execution_count": 11,
     "metadata": {},
     "output_type": "execute_result"
    }
   ],
   "source": [
    "# This is the url you will scrape in this exercise\n",
    "url = 'http://uscode.house.gov/download/download.shtml'\n",
    "html = requests.get(url).text\n",
    "soup = BeautifulSoup(html,'lxml')\n",
    "\n",
    "# your code here\n",
    "#I see that the ones in bold are the ones I' looking for:\n",
    "\n",
    "tags=['p']\n",
    "\n",
    "title = soup.find_all(class_='usctitlechanged')       \n",
    "len(title)"
   ]
  },
  {
   "cell_type": "markdown",
   "metadata": {},
   "source": [
    "#### Find a Python list with the top ten FBI's Most Wanted names."
   ]
  },
  {
   "cell_type": "code",
   "execution_count": 12,
   "metadata": {},
   "outputs": [],
   "source": [
    "# This is the url you will scrape in this exercise\n",
    "url = 'https://www.fbi.gov/wanted/topten'\n",
    "html = requests.get(url).content\n",
    "soup = BeautifulSoup(html,'lxml')"
   ]
  },
  {
   "cell_type": "code",
   "execution_count": 13,
   "metadata": {},
   "outputs": [
    {
     "data": {
      "text/plain": [
       "['RAFAEL CARO-QUINTERO',\n",
       " 'ROBERT WILLIAM FISHER',\n",
       " 'BHADRESHKUMAR CHETANBHAI PATEL',\n",
       " 'ALEJANDRO ROSALES CASTILLO',\n",
       " 'ARNOLDO JIMENEZ',\n",
       " 'JASON DEREK BROWN',\n",
       " 'ALEXIS FLORES',\n",
       " 'JOSE RODOLFO VILLARREAL-HERNANDEZ',\n",
       " 'EUGENE PALMER',\n",
       " 'YASER ABDEL SAID']"
      ]
     },
     "execution_count": 13,
     "metadata": {},
     "output_type": "execute_result"
    }
   ],
   "source": [
    "# your code here\n",
    "tag = ['h3']\n",
    "cdict = {'class':'title'}\n",
    "names = soup.find_all(tag,cdict)\n",
    "\n",
    "names = [name.text.replace('\\n','') for name in names]\n",
    "\n",
    "names"
   ]
  },
  {
   "cell_type": "markdown",
   "metadata": {},
   "source": [
    "####  Display the 20 latest earthquakes info (date, time, latitude, longitude and region name) by the EMSC as a pandas dataframe."
   ]
  },
  {
   "cell_type": "code",
   "execution_count": 14,
   "metadata": {},
   "outputs": [],
   "source": [
    "# This is the url you will scrape in this exercise\n",
    "url = 'https://www.emsc-csem.org/Earthquake/'\n",
    "html = requests.get(url).content\n"
   ]
  },
  {
   "cell_type": "code",
   "execution_count": 15,
   "metadata": {},
   "outputs": [
    {
     "data": {
      "text/html": [
       "<div>\n",
       "<style scoped>\n",
       "    .dataframe tbody tr th:only-of-type {\n",
       "        vertical-align: middle;\n",
       "    }\n",
       "\n",
       "    .dataframe tbody tr th {\n",
       "        vertical-align: top;\n",
       "    }\n",
       "\n",
       "    .dataframe thead th {\n",
       "        text-align: right;\n",
       "    }\n",
       "</style>\n",
       "<table border=\"1\" class=\"dataframe\">\n",
       "  <thead>\n",
       "    <tr style=\"text-align: right;\">\n",
       "      <th></th>\n",
       "      <th>Date</th>\n",
       "      <th>Logitude</th>\n",
       "      <th>Latitude</th>\n",
       "      <th>Region</th>\n",
       "    </tr>\n",
       "  </thead>\n",
       "  <tbody>\n",
       "    <tr>\n",
       "      <th>0</th>\n",
       "      <td>2020-12-04   15:36:39.3</td>\n",
       "      <td>33.87  N</td>\n",
       "      <td>116.97  W</td>\n",
       "      <td>2.3</td>\n",
       "    </tr>\n",
       "    <tr>\n",
       "      <th>1</th>\n",
       "      <td>2020-12-04   15:32:05.0</td>\n",
       "      <td>2.35  S</td>\n",
       "      <td>102.04  E</td>\n",
       "      <td>3.2</td>\n",
       "    </tr>\n",
       "    <tr>\n",
       "      <th>2</th>\n",
       "      <td>2020-12-04   15:29:07.0</td>\n",
       "      <td>8.62  N</td>\n",
       "      <td>126.56  E</td>\n",
       "      <td>3.5</td>\n",
       "    </tr>\n",
       "    <tr>\n",
       "      <th>3</th>\n",
       "      <td>2020-12-04   15:23:32.0</td>\n",
       "      <td>35.34  N</td>\n",
       "      <td>3.75  W</td>\n",
       "      <td>2.4</td>\n",
       "    </tr>\n",
       "    <tr>\n",
       "      <th>4</th>\n",
       "      <td>2020-12-04   15:23:14.3</td>\n",
       "      <td>37.91  N</td>\n",
       "      <td>26.56  E</td>\n",
       "      <td>2.4</td>\n",
       "    </tr>\n",
       "    <tr>\n",
       "      <th>5</th>\n",
       "      <td>2020-12-04   15:06:55.5</td>\n",
       "      <td>39.15  N</td>\n",
       "      <td>27.80  E</td>\n",
       "      <td>2.3</td>\n",
       "    </tr>\n",
       "    <tr>\n",
       "      <th>6</th>\n",
       "      <td>2020-12-04   14:52:40.0</td>\n",
       "      <td>7.87  N</td>\n",
       "      <td>127.43  E</td>\n",
       "      <td>3.1</td>\n",
       "    </tr>\n",
       "    <tr>\n",
       "      <th>7</th>\n",
       "      <td>2020-12-04   14:52:05.8</td>\n",
       "      <td>38.14  N</td>\n",
       "      <td>118.07  W</td>\n",
       "      <td>2.3</td>\n",
       "    </tr>\n",
       "    <tr>\n",
       "      <th>8</th>\n",
       "      <td>2020-12-04   14:38:53.0</td>\n",
       "      <td>0.99  N</td>\n",
       "      <td>119.92  E</td>\n",
       "      <td>3.8</td>\n",
       "    </tr>\n",
       "    <tr>\n",
       "      <th>9</th>\n",
       "      <td>2020-12-04   14:15:02.0</td>\n",
       "      <td>43.02  N</td>\n",
       "      <td>6.02  E</td>\n",
       "      <td>2.8</td>\n",
       "    </tr>\n",
       "    <tr>\n",
       "      <th>10</th>\n",
       "      <td>2020-12-04   14:07:31.9</td>\n",
       "      <td>45.11  N</td>\n",
       "      <td>123.58  W</td>\n",
       "      <td>3.2</td>\n",
       "    </tr>\n",
       "    <tr>\n",
       "      <th>11</th>\n",
       "      <td>2020-12-04   13:58:56.7</td>\n",
       "      <td>17.81  N</td>\n",
       "      <td>66.84  W</td>\n",
       "      <td>2.6</td>\n",
       "    </tr>\n",
       "    <tr>\n",
       "      <th>12</th>\n",
       "      <td>2020-12-04   13:57:21.0</td>\n",
       "      <td>18.11  N</td>\n",
       "      <td>71.55  W</td>\n",
       "      <td>2.7</td>\n",
       "    </tr>\n",
       "    <tr>\n",
       "      <th>13</th>\n",
       "      <td>2020-12-04   13:56:43.0</td>\n",
       "      <td>0.62  S</td>\n",
       "      <td>121.63  E</td>\n",
       "      <td>2.6</td>\n",
       "    </tr>\n",
       "    <tr>\n",
       "      <th>14</th>\n",
       "      <td>2020-12-04   13:50:48.3</td>\n",
       "      <td>38.17  N</td>\n",
       "      <td>118.06  W</td>\n",
       "      <td>2.7</td>\n",
       "    </tr>\n",
       "    <tr>\n",
       "      <th>15</th>\n",
       "      <td>2020-12-04   13:39:13.6</td>\n",
       "      <td>40.16  N</td>\n",
       "      <td>19.69  E</td>\n",
       "      <td>2.5</td>\n",
       "    </tr>\n",
       "    <tr>\n",
       "      <th>16</th>\n",
       "      <td>2020-12-04   13:05:04.6</td>\n",
       "      <td>38.13  N</td>\n",
       "      <td>118.07  W</td>\n",
       "      <td>2.1</td>\n",
       "    </tr>\n",
       "    <tr>\n",
       "      <th>17</th>\n",
       "      <td>2020-12-04   13:03:39.0</td>\n",
       "      <td>2.95  S</td>\n",
       "      <td>135.95  E</td>\n",
       "      <td>3.9</td>\n",
       "    </tr>\n",
       "    <tr>\n",
       "      <th>18</th>\n",
       "      <td>2020-12-04   12:42:23.0</td>\n",
       "      <td>2.84  S</td>\n",
       "      <td>127.43  E</td>\n",
       "      <td>2.7</td>\n",
       "    </tr>\n",
       "    <tr>\n",
       "      <th>19</th>\n",
       "      <td>2020-12-04   12:33:04.0</td>\n",
       "      <td>0.69  N</td>\n",
       "      <td>97.31  E</td>\n",
       "      <td>3.2</td>\n",
       "    </tr>\n",
       "  </tbody>\n",
       "</table>\n",
       "</div>"
      ],
      "text/plain": [
       "                       Date    Logitude     Latitude Region\n",
       "0   2020-12-04   15:36:39.3  33.87  N    116.97  W      2.3\n",
       "1   2020-12-04   15:32:05.0   2.35  S    102.04  E      3.2\n",
       "2   2020-12-04   15:29:07.0   8.62  N    126.56  E      3.5\n",
       "3   2020-12-04   15:23:32.0  35.34  N      3.75  W      2.4\n",
       "4   2020-12-04   15:23:14.3  37.91  N     26.56  E      2.4\n",
       "5   2020-12-04   15:06:55.5  39.15  N     27.80  E      2.3\n",
       "6   2020-12-04   14:52:40.0   7.87  N    127.43  E      3.1\n",
       "7   2020-12-04   14:52:05.8  38.14  N    118.07  W      2.3\n",
       "8   2020-12-04   14:38:53.0   0.99  N    119.92  E      3.8\n",
       "9   2020-12-04   14:15:02.0  43.02  N      6.02  E      2.8\n",
       "10  2020-12-04   14:07:31.9  45.11  N    123.58  W      3.2\n",
       "11  2020-12-04   13:58:56.7  17.81  N     66.84  W      2.6\n",
       "12  2020-12-04   13:57:21.0  18.11  N     71.55  W      2.7\n",
       "13  2020-12-04   13:56:43.0   0.62  S    121.63  E      2.6\n",
       "14  2020-12-04   13:50:48.3  38.17  N    118.06  W      2.7\n",
       "15  2020-12-04   13:39:13.6  40.16  N     19.69  E      2.5\n",
       "16  2020-12-04   13:05:04.6  38.13  N    118.07  W      2.1\n",
       "17  2020-12-04   13:03:39.0   2.95  S    135.95  E      3.9\n",
       "18  2020-12-04   12:42:23.0   2.84  S    127.43  E      2.7\n",
       "19  2020-12-04   12:33:04.0   0.69  N     97.31  E      3.2"
      ]
     },
     "execution_count": 15,
     "metadata": {},
     "output_type": "execute_result"
    }
   ],
   "source": [
    "# your code here\n",
    "soup = BeautifulSoup(html,'lxml')\n",
    "\n",
    "\n",
    "#selector = 'div#content > table > tbody > tr\n",
    "#Access direct path to the data you want\n",
    "\n",
    "\n",
    "# soup.prettify().splitlines()\n",
    "# cdict = {'class':'th2'}\n",
    "# columns = soup.find_all('th',cdict)\n",
    "# columns = [quake.text for quake in columns]\n",
    "# columns\n",
    "\n",
    "# # cdict1 ={'id':'tbody'}\n",
    "# # table = soup.find_all('tbody',cdict1)\n",
    "# # table\n",
    "# # rows = [row for row in columns.find_all('tr')]\n",
    "\n",
    "\n",
    "# # cdict1 ={'id':'tbody'}\n",
    "# table = soup.find_all('tr')\n",
    "# table = [row.text for rows in table]\n",
    "# table\n",
    "# # rows = [row for row in columns.find_all('tr')]\n",
    "\n",
    "\n",
    "\n",
    "##ISWETHA's way but it doesn't work for me\n",
    "selector = 'div#content > table > tbody > tr'\n",
    "rows = []\n",
    "for row in soup.select(selector):\n",
    "    # date, longiture, latitude, region\n",
    "    col = []\n",
    "    date = row.select('td:nth-child(4) > b > a')[0].text\n",
    "    col.append(date)\n",
    "    longitude = row.select('td:nth-child(5)')[0].text\n",
    "    longitude_direction = row.select('td:nth-child(6)')[0].text\n",
    "    col.append(longitude + ' ' + longitude_direction)\n",
    "    latitude = row.select('td:nth-child(7)')[0].text\n",
    "    latitude_direction = row.select('td:nth-child(8)')[0].text\n",
    "    col.append(latitude + ' ' + latitude_direction)\n",
    "    region = row.select('td:nth-child(11)')[0].text\n",
    "    col.append(region)\n",
    "    rows.append(col)\n",
    "colnames = ['Date', 'Logitude', 'Latitude', 'Region']\n",
    "df = pd.DataFrame(rows, columns = colnames)\n",
    "df.head(20)\n",
    "\n",
    "\n",
    "\n",
    "\n",
    "\n",
    "\n",
    "\n",
    "\n",
    "\n",
    "\n",
    "\n"
   ]
  },
  {
   "cell_type": "markdown",
   "metadata": {},
   "source": [
    "#### Count the number of tweets by a given Twitter account.\n",
    "Ask the user for the handle (@handle) of a twitter account. You will need to include a ***try/except block*** for account names not found. \n",
    "<br>***Hint:*** the program should count the number of tweets for any provided account."
   ]
  },
  {
   "cell_type": "code",
   "execution_count": 16,
   "metadata": {},
   "outputs": [],
   "source": [
    "#I believe this doesn't work anymore"
   ]
  },
  {
   "cell_type": "code",
   "execution_count": 17,
   "metadata": {},
   "outputs": [],
   "source": [
    "# This is the url you will scrape in this exercise \n",
    "# You will need to add the account credentials to this url\n",
    "url = 'https://twitter.com/'"
   ]
  },
  {
   "cell_type": "code",
   "execution_count": 18,
   "metadata": {},
   "outputs": [],
   "source": [
    "# your code here"
   ]
  },
  {
   "cell_type": "markdown",
   "metadata": {},
   "source": [
    "#### Number of followers of a given twitter account\n",
    "Ask the user for the handle (@handle) of a twitter account. You will need to include a ***try/except block*** for account names not found. \n",
    "<br>***Hint:*** the program should count the followers for any provided account."
   ]
  },
  {
   "cell_type": "code",
   "execution_count": 19,
   "metadata": {},
   "outputs": [],
   "source": [
    "# This is the url you will scrape in this exercise \n",
    "# You will need to add the account credentials to this url\n",
    "url = 'https://twitter.com/'"
   ]
  },
  {
   "cell_type": "code",
   "execution_count": 20,
   "metadata": {},
   "outputs": [],
   "source": [
    "# your code here"
   ]
  },
  {
   "cell_type": "markdown",
   "metadata": {},
   "source": [
    "#### List all language names and number of related articles in the order they appear in wikipedia.org."
   ]
  },
  {
   "cell_type": "code",
   "execution_count": 21,
   "metadata": {},
   "outputs": [],
   "source": [
    "# This is the url you will scrape in this exercise\n",
    "url = 'https://www.wikipedia.org/'"
   ]
  },
  {
   "cell_type": "code",
   "execution_count": 22,
   "metadata": {},
   "outputs": [
    {
     "name": "stdout",
     "output_type": "stream",
     "text": [
      "English\n",
      "6 199 000+ articles\n",
      "Español\n",
      "1 643 000+ artículos\n",
      "日本語\n",
      "1 240 000+ 記事\n",
      "Deutsch\n",
      "2 505 000+ Artikel\n",
      "Русский\n",
      "1 680 000+ статей\n",
      "Français\n",
      "2 273 000+ articles\n",
      "Italiano\n",
      "1 655 000+ voci\n",
      "中文\n",
      "1 160 000+ 條目\n",
      "Português\n",
      "1 048 000+ artigos\n",
      "Polski\n",
      "1 441 000+ haseł\n"
     ]
    }
   ],
   "source": [
    "# your code here\n",
    "html = requests.get(url).content\n",
    "soup = BeautifulSoup(html, \"lxml\")\n",
    "\n",
    "languages = soup.find_all('a', {'class': 'link-box'})\n",
    "for l in languages:\n",
    "    print(l.text.strip())"
   ]
  },
  {
   "cell_type": "markdown",
   "metadata": {},
   "source": [
    "#### A list with the different kind of datasets available in data.gov.uk."
   ]
  },
  {
   "cell_type": "code",
   "execution_count": null,
   "metadata": {},
   "outputs": [],
   "source": [
    "# This is the url you will scrape in this exercise\n",
    "url = 'https://data.gov.uk/'"
   ]
  },
  {
   "cell_type": "code",
   "execution_count": null,
   "metadata": {},
   "outputs": [],
   "source": [
    "# your code here\n",
    "html = requests.get(url).content\n",
    "soup = BeautifulSoup(html,\"lxml\")\n",
    "kinds = soup.findAll('h2')\n",
    "for kind in kinds:\n",
    "    print(kind.text)"
   ]
  },
  {
   "cell_type": "markdown",
   "metadata": {},
   "source": [
    "#### Display the top 10 languages by number of native speakers stored in a pandas dataframe."
   ]
  },
  {
   "cell_type": "code",
   "execution_count": 25,
   "metadata": {},
   "outputs": [],
   "source": [
    "# This is the url you will scrape in this exercise\n",
    "url = 'https://en.wikipedia.org/wiki/List_of_languages_by_number_of_native_speakers'"
   ]
  },
  {
   "cell_type": "code",
   "execution_count": null,
   "metadata": {},
   "outputs": [],
   "source": [
    "# your code here\n",
    "\n",
    "html = requests.get(url).content\n",
    "soup = BeautifulSoup(html,\"lxml\")\n",
    "languages = soup.find('table', {'class': 'wikitable sortable'}).find_all('a', attrs = {'title' : True});\n",
    "\n",
    "for i in range(10):#top 20 we are looking for\n",
    "    print(languages[i].text)"
   ]
  },
  {
   "cell_type": "markdown",
   "metadata": {},
   "source": [
    "## Bonus\n",
    "#### Scrape a certain number of tweets of a given Twitter account."
   ]
  },
  {
   "cell_type": "code",
   "execution_count": 27,
   "metadata": {},
   "outputs": [],
   "source": [
    "# This is the url you will scrape in this exercise \n",
    "# You will need to add the account credentials to this url\n",
    "url = 'https://twitter.com/'"
   ]
  },
  {
   "cell_type": "code",
   "execution_count": 28,
   "metadata": {},
   "outputs": [],
   "source": [
    "# your code here"
   ]
  },
  {
   "cell_type": "markdown",
   "metadata": {},
   "source": [
    "#### Display IMDB's top 250 data (movie name, initial release, director name and stars) as a pandas dataframe."
   ]
  },
  {
   "cell_type": "code",
   "execution_count": 29,
   "metadata": {},
   "outputs": [],
   "source": [
    "# This is the url you will scrape in this exercise \n",
    "url = 'https://www.imdb.com/chart/top'"
   ]
  },
  {
   "cell_type": "code",
   "execution_count": 30,
   "metadata": {},
   "outputs": [],
   "source": [
    "# your code here"
   ]
  },
  {
   "cell_type": "markdown",
   "metadata": {},
   "source": [
    "#### Display the movie name, year and a brief summary of the top 10 random movies (IMDB) as a pandas dataframe."
   ]
  },
  {
   "cell_type": "code",
   "execution_count": 31,
   "metadata": {},
   "outputs": [],
   "source": [
    "#This is the url you will scrape in this exercise\n",
    "url = 'http://www.imdb.com/chart/top'"
   ]
  },
  {
   "cell_type": "code",
   "execution_count": 32,
   "metadata": {},
   "outputs": [],
   "source": [
    "# your code here"
   ]
  },
  {
   "cell_type": "markdown",
   "metadata": {},
   "source": [
    "#### Find the live weather report (temperature, wind speed, description and weather) of a given city."
   ]
  },
  {
   "cell_type": "code",
   "execution_count": null,
   "metadata": {},
   "outputs": [],
   "source": [
    "#https://openweathermap.org/current\n",
    "city = input('Enter the city: ')\n",
    "url = 'http://api.openweathermap.org/data/2.5/weather?'+'q='+city+'&APPID=b35975e18dc93725acb092f7272cc6b8&units=metric'"
   ]
  },
  {
   "cell_type": "code",
   "execution_count": null,
   "metadata": {},
   "outputs": [],
   "source": [
    "# your code here"
   ]
  },
  {
   "cell_type": "markdown",
   "metadata": {},
   "source": [
    "#### Find the book name, price and stock availability as a pandas dataframe."
   ]
  },
  {
   "cell_type": "code",
   "execution_count": null,
   "metadata": {},
   "outputs": [],
   "source": [
    "# This is the url you will scrape in this exercise. \n",
    "# It is a fictional bookstore created to be scraped. \n",
    "url = 'http://books.toscrape.com/'"
   ]
  },
  {
   "cell_type": "code",
   "execution_count": null,
   "metadata": {},
   "outputs": [],
   "source": [
    "# your code here"
   ]
  }
 ],
 "metadata": {
  "kernelspec": {
   "display_name": "Python 3",
   "language": "python",
   "name": "python3"
  },
  "language_info": {
   "codemirror_mode": {
    "name": "ipython",
    "version": 3
   },
   "file_extension": ".py",
   "mimetype": "text/x-python",
   "name": "python",
   "nbconvert_exporter": "python",
   "pygments_lexer": "ipython3",
   "version": "3.8.6"
  }
 },
 "nbformat": 4,
 "nbformat_minor": 2
}
