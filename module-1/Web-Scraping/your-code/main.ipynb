{
 "cells": [
  {
   "cell_type": "markdown",
   "metadata": {},
   "source": [
    "# Web Scraping Lab\n",
    "\n",
    "You will find in this notebook some scrapy exercises to practise your scraping skills.\n",
    "\n",
    "**Tips:**\n",
    "\n",
    "- Check the response status code for each request to ensure you have obtained the intended content.\n",
    "- Print the response text in each request to understand the kind of info you are getting and its format.\n",
    "- Check for patterns in the response text to extract the data/info requested in each question.\n",
    "- Visit the urls below and take a look at their source code through Chrome DevTools. You'll need to identify the html tags, special class names, etc used in the html content you are expected to extract.\n",
    "\n",
    "**Resources**:\n",
    "- [Requests library](http://docs.python-requests.org/en/master/#the-user-guide)\n",
    "- [Beautiful Soup Doc](https://www.crummy.com/software/BeautifulSoup/bs4/doc/)\n",
    "- [Urllib](https://docs.python.org/3/library/urllib.html#module-urllib)\n",
    "- [re lib](https://docs.python.org/3/library/re.html)\n",
    "- [lxml lib](https://lxml.de/)\n",
    "- [Scrapy](https://scrapy.org/)\n",
    "- [List of HTTP status codes](https://en.wikipedia.org/wiki/List_of_HTTP_status_codes)\n",
    "- [HTML basics](http://www.simplehtmlguide.com/cheatsheet.php)\n",
    "- [CSS basics](https://www.cssbasics.com/#page_start)"
   ]
  },
  {
   "cell_type": "markdown",
   "metadata": {},
   "source": [
    "#### Below are the libraries and modules you may need. `requests`,  `BeautifulSoup` and `pandas` are already imported for you. If you prefer to use additional libraries feel free to do it."
   ]
  },
  {
   "cell_type": "code",
   "execution_count": 1,
   "metadata": {},
   "outputs": [],
   "source": [
    "import requests\n",
    "from bs4 import BeautifulSoup\n",
    "import pandas as pd"
   ]
  },
  {
   "cell_type": "markdown",
   "metadata": {},
   "source": [
    "#### Download, parse (using BeautifulSoup), and print the content from the Trending Developers page from GitHub:"
   ]
  },
  {
   "cell_type": "code",
   "execution_count": 149,
   "metadata": {},
   "outputs": [],
   "source": [
    "# This is the url you will scrape in this exercise\n",
    "url = 'https://github.com/trending/developers'\n",
    "html = requests.get(url).content\n",
    "\n",
    "\n"
   ]
  },
  {
   "cell_type": "markdown",
   "metadata": {},
   "source": [
    "#### Display the names of the trending developers retrieved in the previous step.\n",
    "\n",
    "Your output should be a Python list of developer names. Each name should not contain any html tag.\n",
    "\n",
    "**Instructions:**\n",
    "\n",
    "1. Find out the html tag and class names used for the developer names. You can achieve this using Chrome DevTools.\n",
    "\n",
    "1. Use BeautifulSoup to extract all the html elements that contain the developer names.\n",
    "\n",
    "1. Use string manipulation techniques to replace whitespaces and linebreaks (i.e. `\\n`) in the *text* of each html element. Use a list to store the clean names.\n",
    "\n",
    "1. Print the list of names.\n",
    "\n",
    "Your output should look like below:\n",
    "\n",
    "```\n",
    "['trimstray (@trimstray)',\n",
    " 'joewalnes (JoeWalnes)',\n",
    " 'charlax (Charles-AxelDein)',\n",
    " 'ForrestKnight (ForrestKnight)',\n",
    " 'revery-ui (revery-ui)',\n",
    " 'alibaba (Alibaba)',\n",
    " 'Microsoft (Microsoft)',\n",
    " 'github (GitHub)',\n",
    " 'facebook (Facebook)',\n",
    " 'boazsegev (Bo)',\n",
    " 'google (Google)',\n",
    " 'cloudfetch',\n",
    " 'sindresorhus (SindreSorhus)',\n",
    " 'tensorflow',\n",
    " 'apache (TheApacheSoftwareFoundation)',\n",
    " 'DevonCrawford (DevonCrawford)',\n",
    " 'ARMmbed (ArmMbed)',\n",
    " 'vuejs (vuejs)',\n",
    " 'fastai (fast.ai)',\n",
    " 'QiShaoXuan (Qi)',\n",
    " 'joelparkerhenderson (JoelParkerHenderson)',\n",
    " 'torvalds (LinusTorvalds)',\n",
    " 'CyC2018',\n",
    " 'komeiji-satori (神楽坂覚々)',\n",
    " 'script-8']\n",
    " ```"
   ]
  },
  {
   "cell_type": "code",
   "execution_count": 148,
   "metadata": {},
   "outputs": [
    {
     "data": {
      "text/plain": [
       "['Ariel Mashraki (a8m)',\n",
       " 'Javier Suárez (jsuarezruiz)',\n",
       " 'David Rodríguez (deivid-rodriguez)',\n",
       " 'Luís Cobucci (lcobucci)',\n",
       " 'Mariusz Nowak (medikoo)',\n",
       " \"Debbie O'Brien (debs-obrien)\",\n",
       " 'Sean McArthur (seanmonstar)',\n",
       " 'Remi Rousselet (rrousselGit)',\n",
       " 'Andrew Kane (ankane)',\n",
       " 'francisco souza (fsouza)',\n",
       " 'Miek Gieben (miekg)',\n",
       " 'Bartlomiej Plotka (bwplotka)',\n",
       " 'Geoff Boeing (gboeing)',\n",
       " 'Carlos Cuesta (carloscuesta)',\n",
       " 'Phil Pluckthun (kitten)',\n",
       " 'Tobias Koppers (sokra)',\n",
       " 'Nisar Hassan Naqvi (nisarhassan12)',\n",
       " 'Jason Quense (jquense)',\n",
       " 'XhmikosR ()',\n",
       " 'hackerman (aeneasr)',\n",
       " 'Pariente Manuel (mpariente)',\n",
       " 'Wojciech Maj (wojtekmaj)',\n",
       " 'Mladen Macanović (stsrki)',\n",
       " 'Daniel Cazzulino (kzu)',\n",
       " 'Paulus Schoutsen (balloob)']"
      ]
     },
     "execution_count": 148,
     "metadata": {},
     "output_type": "execute_result"
    }
   ],
   "source": [
    "# your code here\n",
    "soup = BeautifulSoup(html,\"lxml\")\n",
    "tags = ['h1','p']\n",
    "\n",
    "\n",
    "text = [element.text for element in soup.find_all(tags)][2:]\n",
    "text = text[:-5]\n",
    "\n",
    "# #finally getting somewhere\n",
    "\n",
    "\n",
    "\n",
    "for t in text:\n",
    "    if t.startswith('\\n\\n\\n') or t.startswith(' @'):\n",
    "        text.remove(t)\n",
    "\n",
    "text = [t.replace('\\n\\n            ','N_1 ') for t in text]\n",
    "text = [t.replace('N_1   ','N_2 ') for t in text]\n",
    "\n",
    "text        \n",
    "# #I want to group them by 3 elements then drop the third later\n",
    "# text = [text[i:i+3] for i in range(0,len(text),3)]\n",
    "\n",
    "names = []\n",
    "for i in range(len(text)-1):\n",
    "    if text[i].startswith('N_1 ')& text[i+1].startswith('N_2 '):\n",
    "        names.append((text[i].replace('N_1 ',''),text[i+1].replace('N_2 ','')))\n",
    "    elif text[i].startswith('N_2 ')& text[i+1].startswith('N_1 '):\n",
    "        pass\n",
    "    else:\n",
    "        names.append((text[i].replace('N_1 ',''),''))#had to add something or the name gets cut off after\n",
    "\n",
    "names        \n",
    "final_list = [element[0].replace('\\n','')+'('+element[1].replace('\\n ','')+')' for element in names]\n",
    "final_list\n",
    "\n",
    "# len(text)\n"
   ]
  },
  {
   "cell_type": "markdown",
   "metadata": {},
   "source": [
    "#### Display the trending Python repositories in GitHub.\n",
    "\n",
    "The steps to solve this problem is similar to the previous one except that you need to find out the repository names instead of developer names."
   ]
  },
  {
   "cell_type": "code",
   "execution_count": 150,
   "metadata": {},
   "outputs": [],
   "source": [
    "# This is the url you will scrape in this exercise\n",
    "url = 'https://github.com/trending/python?since=daily'\n",
    "html = requests.get(url).content\n"
   ]
  },
  {
   "cell_type": "code",
   "execution_count": 168,
   "metadata": {},
   "outputs": [
    {
     "data": {
      "text/plain": [
       "['TheAlgorithms /Python ',\n",
       " 'vinta /awesome-python ',\n",
       " 'trekhleb /learn-python ',\n",
       " 'jerry-git /learn-python3 ',\n",
       " 'gradslam /gradslam ',\n",
       " 'ansible /ansible ',\n",
       " '3b1b /manim ',\n",
       " 'donnemartin /system-design-primer ',\n",
       " 'y1ndan /genshin-impact-helper ',\n",
       " 'tensorflow /models ',\n",
       " 'Hari-Nagarajan /nvidia-bot ',\n",
       " 'edx /edx-platform ',\n",
       " 'apache /airflow ',\n",
       " 'streamlit /streamlit ',\n",
       " 'lorenzodifuccia /safaribooks ',\n",
       " 'microsoft /cascadia-code ',\n",
       " 'jupyterhub /jupyterhub ',\n",
       " 'junyanz /pytorch-CycleGAN-and-pix2pix ',\n",
       " 'jackfrued /Python-100-Days ',\n",
       " 'returntocorp /semgrep ',\n",
       " 'RasaHQ /rasa ',\n",
       " 'openai /gym ',\n",
       " 'encode /django-rest-framework ',\n",
       " 'QUANTAXIS /QUANTAXIS ',\n",
       " 'facebookresearch /pytorch3d ']"
      ]
     },
     "execution_count": 168,
     "metadata": {},
     "output_type": "execute_result"
    }
   ],
   "source": [
    "# your code here\n",
    "soup = BeautifulSoup(html,'lxml') \n",
    "\n",
    "tags = ['h1']\n",
    "text = [element.text for element in soup.find_all(tags)][1:]\n",
    "text = [element.replace('\\n\\n\\n\\n        ','') for element in text]\n",
    "text = [element.replace('/\\n\\n      ','/')for element in text]\n",
    "text = [element.replace('\\n','') for element in text]\n",
    "text"
   ]
  },
  {
   "cell_type": "markdown",
   "metadata": {},
   "source": [
    "#### Display all the image links from Walt Disney wikipedia page."
   ]
  },
  {
   "cell_type": "code",
   "execution_count": 189,
   "metadata": {},
   "outputs": [],
   "source": [
    "# This is the url you will scrape in this exercise\n",
    "url = 'https://en.wikipedia.org/wiki/Walt_Disney'\n",
    "html = requests.get(url).content\n",
    "\n",
    "import urllib.request"
   ]
  },
  {
   "cell_type": "code",
   "execution_count": 234,
   "metadata": {},
   "outputs": [],
   "source": [
    "# your code here\n",
    "soup = BeautifulSoup(html,'lxml') #another parser is html.parser\n",
    "#print lines:\n",
    "soup.prettify().splitlines()\n",
    "images = soup.find_all('img')\n",
    "images\n",
    "# if I wan to filter the images, I need to add ,attrs = {'alt'='whatever'}\n",
    "img = []\n",
    "number = 0\n",
    "for image in images:\n",
    "    image_src = image['src']\n",
    "    img.append(image_src)\n"
   ]
  },
  {
   "cell_type": "code",
   "execution_count": 216,
   "metadata": {},
   "outputs": [
    {
     "data": {
      "text/plain": [
       "['Walt_Disney_1946.JPG',\n",
       " 'Walt_Disney_1942_signature.svg',\n",
       " 'Walt_Disney_envelope_ca._1921.jpg',\n",
       " 'Trolley_Troubles_poster.jpg',\n",
       " 'Walt_Disney_and_his_cartoon_creation_%22Mickey_Mouse%22_-_National_Board_of_Review_Magazine.jpg',\n",
       " 'Steamboat-willie.jpg',\n",
       " 'Walt_Disney_1935.jpg',\n",
       " 'Walt_Disney_Snow_white_1937_trailer_screenshot_(13).jpg',\n",
       " 'Disney_drawing_goofy.jpg',\n",
       " 'DisneySchiphol1951.jpg',\n",
       " 'WaltDisneyplansDisneylandDec1954.jpg',\n",
       " 'Walt_disney_portrait_right.jpg',\n",
       " 'Walt_Disney_Grave.JPG',\n",
       " 'Roy_O._Disney_with_Company_at_Press_Conference.jpg',\n",
       " 'Disney_Display_Case.JPG',\n",
       " 'Disney1968.jpg',\n",
       " 'Animation_disc.svg',\n",
       " 'P_vip.svg',\n",
       " 'Magic_Kingdom_castle.jpg',\n",
       " 'Video-x-generic.svg',\n",
       " 'Flag_of_Los_Angeles_County,_California.svg',\n",
       " 'Blank_television_set.svg',\n",
       " 'Flag_of_the_United_States.svg']"
      ]
     },
     "execution_count": 216,
     "metadata": {},
     "output_type": "execute_result"
    }
   ],
   "source": [
    "images = soup.find_all(class_ = 'image')\n",
    "images = [element['href'].replace('/wiki/File:','') for element in images]\n",
    "images"
   ]
  },
  {
   "cell_type": "markdown",
   "metadata": {},
   "source": [
    "#### Retrieve an arbitary Wikipedia page of \"Python\" and create a list of links on that page."
   ]
  },
  {
   "cell_type": "code",
   "execution_count": 275,
   "metadata": {},
   "outputs": [],
   "source": [
    "# This is the url you will scrape in this exercise\n",
    "url ='https://en.wikipedia.org/wiki/Python' \n"
   ]
  },
  {
   "cell_type": "code",
   "execution_count": 304,
   "metadata": {
    "scrolled": false
   },
   "outputs": [
    {
     "name": "stdout",
     "output_type": "stream",
     "text": [
      "#mw-head\n",
      "#searchInput\n",
      "https://en.wiktionary.org/wiki/Python\n",
      "https://en.wiktionary.org/wiki/python\n",
      "/wiki/Pythons\n",
      "/wiki/Python_(genus)\n",
      "#Computing\n",
      "#People\n",
      "#Roller_coasters\n",
      "#Vehicles\n",
      "#Weaponry\n",
      "#Other_uses\n",
      "#See_also\n",
      "/w/index.php?title=Python&action=edit&section=1\n",
      "/wiki/Python_(programming_language)\n",
      "/wiki/CMU_Common_Lisp\n",
      "/wiki/PERQ#PERQ_3\n",
      "/w/index.php?title=Python&action=edit&section=2\n",
      "/wiki/Python_of_Aenus\n",
      "/wiki/Python_(painter)\n",
      "/wiki/Python_of_Byzantium\n",
      "/wiki/Python_of_Catana\n",
      "/wiki/Python_Anghelo\n",
      "/w/index.php?title=Python&action=edit&section=3\n",
      "/wiki/Python_(Efteling)\n",
      "/wiki/Python_(Busch_Gardens_Tampa_Bay)\n",
      "/wiki/Python_(Coney_Island,_Cincinnati,_Ohio)\n",
      "/w/index.php?title=Python&action=edit&section=4\n",
      "/wiki/Python_(automobile_maker)\n",
      "/wiki/Python_(Ford_prototype)\n",
      "/w/index.php?title=Python&action=edit&section=5\n",
      "/wiki/Python_(missile)\n",
      "/wiki/Python_(nuclear_primary)\n",
      "/wiki/Colt_Python\n",
      "/w/index.php?title=Python&action=edit&section=6\n",
      "/wiki/PYTHON\n",
      "/wiki/Python_(film)\n",
      "/wiki/Python_(mythology)\n",
      "/wiki/Monty_Python\n",
      "/wiki/Python_(Monty)_Pictures\n",
      "/w/index.php?title=Python&action=edit&section=7\n",
      "/wiki/Cython\n",
      "/wiki/Pyton\n",
      "/wiki/Pithon\n",
      "/wiki/File:Disambig_gray.svg\n",
      "/wiki/Help:Disambiguation\n",
      "https://en.wikipedia.org/w/index.php?title=Special:WhatLinksHere/Python&namespace=0\n",
      "https://en.wikipedia.org/w/index.php?title=Python&oldid=987482924\n",
      "/wiki/Help:Category\n",
      "/wiki/Category:Disambiguation_pages\n",
      "/wiki/Category:Human_name_disambiguation_pages\n",
      "/wiki/Category:Disambiguation_pages_with_given-name-holder_lists\n",
      "/wiki/Category:Disambiguation_pages_with_short_descriptions\n",
      "/wiki/Category:Short_description_is_different_from_Wikidata\n",
      "/wiki/Category:All_article_disambiguation_pages\n",
      "/wiki/Category:All_disambiguation_pages\n",
      "/wiki/Category:Animal_common_name_disambiguation_pages\n"
     ]
    }
   ],
   "source": [
    "# your code here\n",
    "\n",
    "#opt 1\n",
    "tag = ['a']#finds the links!\n",
    "# links = soup.find_all(tag)\n",
    "# for link in links:\n",
    "#     if 'href' in link.attrs: #we are checking for the href attributes (link)\n",
    "#         print(link.attrs['href']) \n",
    "\n",
    "#option2\n",
    "# limit findAll to this one div \n",
    "for link in soup.find(\"div\", {\"id\":\"bodyContent\"}).find_all(\"a\"):\n",
    "    if 'href' in link.attrs: #we are checking for the href attributes (link)\n",
    "        print(link.attrs['href']) \n"
   ]
  },
  {
   "cell_type": "markdown",
   "metadata": {},
   "source": [
    "#### Find the number of titles that have changed in the United States Code since its last release point."
   ]
  },
  {
   "cell_type": "code",
   "execution_count": 338,
   "metadata": {},
   "outputs": [
    {
     "data": {
      "text/plain": [
       "18"
      ]
     },
     "execution_count": 338,
     "metadata": {},
     "output_type": "execute_result"
    }
   ],
   "source": [
    "# This is the url you will scrape in this exercise\n",
    "url = 'http://uscode.house.gov/download/download.shtml'\n",
    "html = requests.get(url).text\n",
    "soup = BeautifulSoup(html,'lxml')\n",
    "\n",
    "# your code here\n",
    "#I see that the ones in bold are the ones I' looking for:\n",
    "\n",
    "tags=['p']\n",
    "\n",
    "title = soup.find_all(class_='usctitlechanged')       \n",
    "len(title)"
   ]
  },
  {
   "cell_type": "markdown",
   "metadata": {},
   "source": [
    "#### Find a Python list with the top ten FBI's Most Wanted names."
   ]
  },
  {
   "cell_type": "code",
   "execution_count": 392,
   "metadata": {},
   "outputs": [],
   "source": [
    "# This is the url you will scrape in this exercise\n",
    "url = 'https://www.fbi.gov/wanted/topten'\n",
    "html = requests.get(url).content\n",
    "soup = BeautifulSoup(html,'lxml')"
   ]
  },
  {
   "cell_type": "code",
   "execution_count": 401,
   "metadata": {},
   "outputs": [
    {
     "data": {
      "text/plain": [
       "['BHADRESHKUMAR CHETANBHAI PATEL',\n",
       " 'ALEJANDRO ROSALES CASTILLO',\n",
       " 'ARNOLDO JIMENEZ',\n",
       " 'JASON DEREK BROWN',\n",
       " 'ALEXIS FLORES',\n",
       " 'JOSE RODOLFO VILLARREAL-HERNANDEZ',\n",
       " 'EUGENE PALMER',\n",
       " 'RAFAEL CARO-QUINTERO',\n",
       " 'ROBERT WILLIAM FISHER',\n",
       " 'YASER ABDEL SAID']"
      ]
     },
     "execution_count": 401,
     "metadata": {},
     "output_type": "execute_result"
    }
   ],
   "source": [
    "# your code here\n",
    "tag = ['h3']\n",
    "cdict = {'class':'title'}\n",
    "names = soup.find_all(tag,cdict)\n",
    "\n",
    "names = [name.text.replace('\\n','') for name in names]\n",
    "\n",
    "names"
   ]
  },
  {
   "cell_type": "markdown",
   "metadata": {},
   "source": [
    "####  Display the 20 latest earthquakes info (date, time, latitude, longitude and region name) by the EMSC as a pandas dataframe."
   ]
  },
  {
   "cell_type": "code",
   "execution_count": 438,
   "metadata": {},
   "outputs": [],
   "source": [
    "# This is the url you will scrape in this exercise\n",
    "url = 'https://www.emsc-csem.org/Earthquake/'\n",
    "html = requests.get(url).content\n"
   ]
  },
  {
   "cell_type": "code",
   "execution_count": 461,
   "metadata": {},
   "outputs": [
    {
     "data": {
      "text/plain": [
       "[<tr><td class=\"ban1\" onclick=\"window.location.href='https://www.emsc-csem.org';\" onmouseover=\"this.style.cursor='pointer';\">\n",
       " <img alt=\"logo - home\" src=\"https://static2.emsc.eu/Css/img/logo.png\" style=\"width:150px;height:81px;\"/></td>\n",
       " <td class=\"ban2 ban022\" onclick=\"window.location.href='https://www.emsc-csem.org';\" onmouseover=\"this.style.cursor='pointer';\">\n",
       " <div style=\"border:0; position:relative; float:right; width:110px; height:80px; margin-top:-5px; margin-right:25px; \">\n",
       " <div id=\"androidstore\" style=\"border:0; position:relative; float:left; width:110px; height:35px;\"></div>\n",
       " <div id=\"iosstore\" style=\"border:0; position:relative; float:left; width:110px; height:35px; margin-top:8px;\"></div>\n",
       " </div>\n",
       " <script type=\"text/javascript\">set_server_date(2020,11,22,17,56,30)</script>\n",
       " <div id=\"ejs_server_heure\">Current time: 2020-11-22 17:56:30 UTC</div>\n",
       " </td>\n",
       " <td align=\"right\" class=\"ban3 ban022\"><div class=\"login_box\" id=\"login_box\"><form action=\"https://www.emsc-csem.org/Member/\" enctype=\"multipart/form-data\" method=\"post\">\n",
       " <table cellpadding=\"0\" cellspacing=\"0\" style=\"width:100%;height:100%;border:0;\"><tr><td colspan=\"2\" style=\"text-align: center; font-size: 11px; font-weight: bold; color: #fff;\">\n",
       " <span class=\"spriteorig sp_lock vbottom\"></span> Member access</td></tr><tr><td colspan=\"2\" style=\"height: 2px;text-align:center;\">\n",
       " <img alt=\"\" src=\"data:image/png;base64,iVBORw0KGgoAAAANSUhEUgAAAAEAAAABCAQAAAC1HAwCAAAABGdBTUEAALGPC/xhBQAAAAtJREFUCNdjYGAAAAADAAEg1ZTHAAAAAElFTkSuQmCC\" style=\"display: block;width:1px;border:0;height:2px;\"/></td></tr>\n",
       " <tr><td style=\"font-size: 11px; font-weight: bold; text-align: left; color: #000;\">Name </td>\n",
       " <td style=\"text-align:left;\"><input maxlength=\"10\" name=\"login\" size=\"8\" style=\"height: 11px; width: 80px; font-size: 11px;\" type=\"text\"/></td></tr>\n",
       " <tr><td colspan=\"2\" style=\"height: 2px;text-align:center;\"><img alt=\"\" src=\"data:image/png;base64,iVBORw0KGgoAAAANSUhEUgAAAAEAAAABCAQAAAC1HAwCAAAABGdBTUEAALGPC/xhBQAAAAtJREFUCNdjYGAAAAADAAEg1ZTHAAAAAElFTkSuQmCC\" style=\"display: block;width:1px; border:0;height:2px;\"/></td></tr>\n",
       " <tr><td style=\"font-size: 11px; font-weight: bold; text-align: left; color: #000;\">Pwd</td>\n",
       " <td style=\"text-align:left;\"><input maxlength=\"32\" name=\"pwd\" size=\"8\" style=\"height: 11px; width: 80px; font-size: 11px;\" type=\"password\"/></td></tr>\n",
       " <tr><td colspan=\"2\" style=\"height: 2px;text-align:center;\"><img alt=\"\" src=\"data:image/png;base64,iVBORw0KGgoAAAANSUhEUgAAAAEAAAABCAQAAAC1HAwCAAAABGdBTUEAALGPC/xhBQAAAAtJREFUCNdjYGAAAAADAAEg1ZTHAAAAAElFTkSuQmCC\" style=\"display: block;width:1px;border:0;height:2px;\"/></td>\n",
       " </tr><tr><td> </td><td style=\"text-align:left;\"><input style=\"height: 20px; font-size: 11px;\" type=\"submit\" value=\"Sign in\"/></td></tr></table></form></div></td></tr>,\n",
       " <tr><td colspan=\"2\" style=\"text-align: center; font-size: 11px; font-weight: bold; color: #fff;\">\n",
       " <span class=\"spriteorig sp_lock vbottom\"></span> Member access</td></tr>,\n",
       " <tr><td colspan=\"2\" style=\"height: 2px;text-align:center;\">\n",
       " <img alt=\"\" src=\"data:image/png;base64,iVBORw0KGgoAAAANSUhEUgAAAAEAAAABCAQAAAC1HAwCAAAABGdBTUEAALGPC/xhBQAAAAtJREFUCNdjYGAAAAADAAEg1ZTHAAAAAElFTkSuQmCC\" style=\"display: block;width:1px;border:0;height:2px;\"/></td></tr>,\n",
       " <tr><td style=\"font-size: 11px; font-weight: bold; text-align: left; color: #000;\">Name </td>\n",
       " <td style=\"text-align:left;\"><input maxlength=\"10\" name=\"login\" size=\"8\" style=\"height: 11px; width: 80px; font-size: 11px;\" type=\"text\"/></td></tr>,\n",
       " <tr><td colspan=\"2\" style=\"height: 2px;text-align:center;\"><img alt=\"\" src=\"data:image/png;base64,iVBORw0KGgoAAAANSUhEUgAAAAEAAAABCAQAAAC1HAwCAAAABGdBTUEAALGPC/xhBQAAAAtJREFUCNdjYGAAAAADAAEg1ZTHAAAAAElFTkSuQmCC\" style=\"display: block;width:1px; border:0;height:2px;\"/></td></tr>,\n",
       " <tr><td style=\"font-size: 11px; font-weight: bold; text-align: left; color: #000;\">Pwd</td>\n",
       " <td style=\"text-align:left;\"><input maxlength=\"32\" name=\"pwd\" size=\"8\" style=\"height: 11px; width: 80px; font-size: 11px;\" type=\"password\"/></td></tr>,\n",
       " <tr><td colspan=\"2\" style=\"height: 2px;text-align:center;\"><img alt=\"\" src=\"data:image/png;base64,iVBORw0KGgoAAAANSUhEUgAAAAEAAAABCAQAAAC1HAwCAAAABGdBTUEAALGPC/xhBQAAAAtJREFUCNdjYGAAAAADAAEg1ZTHAAAAAElFTkSuQmCC\" style=\"display: block;width:1px;border:0;height:2px;\"/></td>\n",
       " </tr>,\n",
       " <tr><td> </td><td style=\"text-align:left;\"><input style=\"height: 20px; font-size: 11px;\" type=\"submit\" value=\"Sign in\"/></td></tr>,\n",
       " <tr class=\"tb_infos\"><td><span class=\"spriteorig sp_info\"></span> - Sorting by column is performed on the data of the current page.</td><td style=\"text-align:right;\"><a href=\"/glossary.php\">Glossary</a></td></tr>,\n",
       " <tr>\n",
       " <td colspan=\"13\" style=\"background: white;height: 1px\"></td>\n",
       " </tr>,\n",
       " <tr id=\"haut_tableau\"><th class=\"th2 th3\" colspan=\"3\" style=\"width:90px;display:table-csell;\"><div onmouseout=\"info_b('notshow','','');\" onmouseover=\"info_b('show','Represents the results of information provided by users (Felt earthquake, pictures, testimonies ,...)&lt;br&gt;See an intensity map for more details on the macroseismic intensity scale.','Citizen response');\">Citizen<br/>Response</div><br/><table cellpadding=\"0\" cellspacing=\"0\" style=\"width:100%;margin:0;text-align:center;\"><tr><td><div onclick=\"change_tri('im_report');\" onmouseout=\"change_image(this,'out','im_report');\" onmouseover=\"change_image(this,'over','im_report');\"><span class=\"spriteorig sp_ico_list\" onmouseout=\"info_b2('notshow','');\" onmouseover=\"info_b2('show','Sorted by number of &lt;b&gt;Comments&lt;/b&gt;');\"></span><span class=\"spriteorig sp_s_asc\" id=\"im_report\" style=\"display:none;\"></span></div></td><td><div onclick=\"change_tri('im_pics');\" onmouseout=\"change_image(this,'out','im_pics');\" onmouseover=\"change_image(this,'over','im_pics');\"><span class=\"spriteorig sp_digikam\" onmouseout=\"info_b2('notshow','');\" onmouseover=\"info_b2('show','Sorted by number of &lt;b&gt;Pictures&lt;/b&gt;');\"></span><span class=\"spriteorig sp_s_asc\" id=\"im_pics\" style=\"display:none;\"></span></div></td><td><div onclick=\"change_tri('im_intens');\" onmouseout=\"change_image(this,'out','im_intens');\" onmouseover=\"change_image(this,'over','im_intens');\"><span class=\"spriteorig sp_IntensityMap\" onmouseout=\"info_b2('notshow','');\" onmouseover=\"info_b2('show','Sorted by &lt;b&gt;Macroseismic Intensity&lt;/b&gt;');\"></span><span class=\"spriteorig sp_s_asc\" id=\"im_intens\" style=\"display:none;\"></span></div></td></tr></table></th><th class=\"th2\" onclick=\"change_tri('im_time');\" onmouseout=\"change_image(this,'out','im_time');\" onmouseover=\"change_image(this,'over','im_time');\">Date &amp; Time <span class=\"spriteorig sp_s_desc\" id=\"im_select\"></span><div style=\"font-weight:normal;\">UTC</div></th><th class=\"th2\" colspan=\"2\" onclick=\"change_tri('im_lat');\" onmouseout=\"change_image(this,'out','im_lat');\" onmouseover=\"change_image(this,'over','im_lat');\">Latitude <span class=\"spriteorig sp_s_asc\" id=\"im_lat\" style=\"display:none;\"></span><div style=\"font-weight:normal;\">degrees</div></th><th class=\"th2\" colspan=\"2\" onclick=\"change_tri('im_lon');\" onmouseout=\"change_image(this,'out','im_lon');\" onmouseover=\"change_image(this,'over','im_lon');\">Longitude <span class=\"spriteorig sp_s_asc\" id=\"im_lon\" style=\"display:none;\"></span><div style=\"font-weight:normal;\">degrees</div></th><th class=\"th2\" onclick=\"change_tri('im_depth');\" onmouseout=\"change_image(this,'out','im_depth');\" onmouseover=\"change_image(this,'over','im_depth');\">Depth <span class=\"spriteorig sp_s_asc\" id=\"im_depth\" style=\"display:none;\"></span><div style=\"font-weight: normal\">km</div></th><th class=\"th2\" colspan=\"1\" id=\"thmag\"><div onclick=\"change_tri('im_mag');\" onmouseout=\"change_image(this,'out','im_mag');\" onmouseover=\"change_image(this,'over','im_mag');\" style=\"float:left;\">Mag <span class=\"spriteorig sp_s_asc\" id=\"im_mag\" style=\"display:none;\"></span></div><div id=\"magplus2\" style=\"float:left;\"> <a href=\"javascript:hide_magni();\" id=\"magplus\" style=\"color:white;\">[+]</a></div></th><th class=\"th2\" id=\"ex_th2\"><div onclick=\"change_tri('im_reg');\" onmouseout=\"change_image(this,'out','im_reg');\" onmouseover=\"change_image(this,'over','im_reg');\" style=\"float:left;\">Region name <span class=\"spriteorig sp_s_asc\" id=\"im_reg\" style=\"display:none;\"></span></div><div id=\"upda\" onmouseout=\"info_b2('notshow','');\" onmouseover=\"info_b2('show','Show last update');\"> <a href=\"javascript:hide_upd();\" style=\"color:white;\">[+]</a></div></th><th class=\"th2 updatetimeno\" id=\"upd\"><div id=\"labupd\" onclick=\"change_tri('im_upd');\" onmouseout=\"change_image(this,'out','im_upd');\" onmouseover=\"change_image(this,'over','im_upd');\" style=\"float:left;text-align:right;\">Last update <span class=\"spriteorig sp_s_asc\" id=\"im_upd\" style=\"display:none;\"></span></div><div id=\"hideupda\" onmouseout=\"info_b2('notshow','');\" onmouseover=\"info_b2('show','Hide last update');\" style=\"float:left;\"><a href=\"javascript:hide_upd();\" style=\"color:white;\">[-]</a></div></th></tr>,\n",
       " <tr><td><div onclick=\"change_tri('im_report');\" onmouseout=\"change_image(this,'out','im_report');\" onmouseover=\"change_image(this,'over','im_report');\"><span class=\"spriteorig sp_ico_list\" onmouseout=\"info_b2('notshow','');\" onmouseover=\"info_b2('show','Sorted by number of &lt;b&gt;Comments&lt;/b&gt;');\"></span><span class=\"spriteorig sp_s_asc\" id=\"im_report\" style=\"display:none;\"></span></div></td><td><div onclick=\"change_tri('im_pics');\" onmouseout=\"change_image(this,'out','im_pics');\" onmouseover=\"change_image(this,'over','im_pics');\"><span class=\"spriteorig sp_digikam\" onmouseout=\"info_b2('notshow','');\" onmouseover=\"info_b2('show','Sorted by number of &lt;b&gt;Pictures&lt;/b&gt;');\"></span><span class=\"spriteorig sp_s_asc\" id=\"im_pics\" style=\"display:none;\"></span></div></td><td><div onclick=\"change_tri('im_intens');\" onmouseout=\"change_image(this,'out','im_intens');\" onmouseover=\"change_image(this,'over','im_intens');\"><span class=\"spriteorig sp_IntensityMap\" onmouseout=\"info_b2('notshow','');\" onmouseover=\"info_b2('show','Sorted by &lt;b&gt;Macroseismic Intensity&lt;/b&gt;');\"></span><span class=\"spriteorig sp_s_asc\" id=\"im_intens\" style=\"display:none;\"></span></div></td></tr>,\n",
       " <tr><td colspan=\"13\" style=\"background: white;height: 1px\"></td></tr>,\n",
       " <tr class=\"npages\" id=\"my_pagelist_0\"><td colspan=\"13\"><a class=\"sublink sublinka\" href=\"javascript:void()\" rel=\"nofollow\">1</a><a class=\"sublink\" href=\"/Earthquake/?view=2\">2</a><a class=\"sublink\" href=\"/Earthquake/?view=3\">3</a><a class=\"sublink\" href=\"/Earthquake/?view=4\">4</a><a class=\"sublink\" href=\"/Earthquake/?view=5\">5</a><a class=\"sublink\" href=\"/Earthquake/?view=6\">6</a><a class=\"sublink\" href=\"/Earthquake/?view=7\">7</a><a class=\"sublink\" href=\"/Earthquake/?view=8\">8</a><a class=\"sublink\" href=\"/Earthquake/?view=9\">9</a><a class=\"sublink\" href=\"/Earthquake/?view=10\">10</a><a alt=\"Next page\" class=\"sublink\" href=\"/Earthquake/?view=2\"></a><a alt=\"Next 10 pages\" class=\"sublink\" href=\"/Earthquake/?view=11\">»</a></td></tr>,\n",
       " <tr class=\"ligne1 normal\" id=\"923425\" onclick=\"go_details(event,923425);\"><td class=\"tabev0\"></td><td class=\"tabev0\"></td><td class=\"tabev0\"></td><td class=\"tabev6\"><b><i style=\"display:none;\">earthquake</i><a href=\"/Earthquake/earthquake.php?id=923425\">2020-11-22   17:50:22.0</a></b><i class=\"ago\" id=\"ago0\">06min ago</i></td><td class=\"tabev1\">1.27 </td><td class=\"tabev2\">S  </td><td class=\"tabev1\">78.56 </td><td class=\"tabev2\">W  </td><td class=\"tabev3\">1</td><td class=\"tabev5\" id=\"magtyp0\"> M</td><td class=\"tabev2\">3.7</td><td class=\"tb_region\" id=\"reg0\"> ECUADOR</td><td class=\"comment updatetimeno\" id=\"upd0\" style=\"text-align:right;\">2020-11-22 17:56</td></tr>,\n",
       " <tr class=\"ligne2 normal\" id=\"923424\" onclick=\"go_details(event,923424);\"><td class=\"tabev0\"></td><td class=\"tabev0\"></td><td class=\"tabev0\"></td><td class=\"tabev6\"><b><i style=\"display:none;\">earthquake</i><a href=\"/Earthquake/earthquake.php?id=923424\">2020-11-22   17:39:10.0</a></b><i class=\"ago\" id=\"ago1\">17min ago</i></td><td class=\"tabev1\">35.53 </td><td class=\"tabev2\">N  </td><td class=\"tabev1\">3.60 </td><td class=\"tabev2\">W  </td><td class=\"tabev3\">14</td><td class=\"tabev5\" id=\"magtyp1\">ML</td><td class=\"tabev2\">1.9</td><td class=\"tb_region\" id=\"reg1\"> STRAIT OF GIBRALTAR</td><td class=\"comment updatetimeno\" id=\"upd1\" style=\"text-align:right;\">2020-11-22 17:52</td></tr>,\n",
       " <tr class=\"ligne1 normal\" id=\"923421\" onclick=\"go_details(event,923421);\"><td class=\"tabev0\"></td><td class=\"tabev0\"></td><td class=\"tabev0\"></td><td class=\"tabev6\"><b><i style=\"display:none;\">earthquake</i><a href=\"/Earthquake/earthquake.php?id=923421\">2020-11-22   17:19:24.0</a></b><i class=\"ago\" id=\"ago2\">37min ago</i></td><td class=\"tabev1\">1.91 </td><td class=\"tabev2\">S  </td><td class=\"tabev1\">122.65 </td><td class=\"tabev2\">E  </td><td class=\"tabev3\">10</td><td class=\"tabev5\" id=\"magtyp2\"> M</td><td class=\"tabev2\">3.4</td><td class=\"tb_region\" id=\"reg2\"> SULAWESI, INDONESIA</td><td class=\"comment updatetimeno\" id=\"upd2\" style=\"text-align:right;\">2020-11-22 17:30</td></tr>,\n",
       " <tr class=\"ligne2 normal\" id=\"923422\" onclick=\"go_details(event,923422);\"><td class=\"tabev0\"></td><td class=\"tabev0\"></td><td class=\"tabev0\"></td><td class=\"tabev6\"><b><i style=\"display:none;\">earthquake</i><a href=\"/Earthquake/earthquake.php?id=923422\">2020-11-22   17:16:31.0</a></b><i class=\"ago\" id=\"ago3\">39min ago</i></td><td class=\"tabev1\">6.22 </td><td class=\"tabev2\">N  </td><td class=\"tabev1\">126.09 </td><td class=\"tabev2\">E  </td><td class=\"tabev3\">36</td><td class=\"tabev5\" id=\"magtyp3\"> M</td><td class=\"tabev2\">3.9</td><td class=\"tb_region\" id=\"reg3\"> MINDANAO, PHILIPPINES</td><td class=\"comment updatetimeno\" id=\"upd3\" style=\"text-align:right;\">2020-11-22 17:31</td></tr>,\n",
       " <tr class=\"ligne1 normal\" id=\"923423\" onclick=\"go_details(event,923423);\"><td class=\"tabev0\"></td><td class=\"tabev0\"></td><td class=\"tabev0\"></td><td class=\"tabev6\"><b><i style=\"display:none;\">earthquake</i><a href=\"/Earthquake/earthquake.php?id=923423\">2020-11-22   17:15:15.0</a></b><i class=\"ago\" id=\"ago4\">41min ago</i></td><td class=\"tabev1\">42.85 </td><td class=\"tabev2\">N  </td><td class=\"tabev1\">1.46 </td><td class=\"tabev2\">W  </td><td class=\"tabev3\">4</td><td class=\"tabev5\" id=\"magtyp4\">ML</td><td class=\"tabev2\">1.5</td><td class=\"tb_region\" id=\"reg4\"> PYRENEES</td><td class=\"comment updatetimeno\" id=\"upd4\" style=\"text-align:right;\">2020-11-22 17:34</td></tr>,\n",
       " <tr class=\"ligne2 normal\" id=\"923418\" onclick=\"go_details(event,923418);\"><td class=\"tabev0\"></td><td class=\"tabev0\"></td><td class=\"tabev0\"></td><td class=\"tabev6\"><b><i style=\"display:none;\">earthquake</i><a href=\"/Earthquake/earthquake.php?id=923418\">2020-11-22   17:04:46.2</a></b><i class=\"ago\" id=\"ago5\">51min ago</i></td><td class=\"tabev1\">19.19 </td><td class=\"tabev2\">N  </td><td class=\"tabev1\">155.46 </td><td class=\"tabev2\">W  </td><td class=\"tabev3\">34</td><td class=\"tabev5\" id=\"magtyp5\">Md</td><td class=\"tabev2\">2.1</td><td class=\"tb_region\" id=\"reg5\"> ISLAND OF HAWAII, HAWAII</td><td class=\"comment updatetimeno\" id=\"upd5\" style=\"text-align:right;\">2020-11-22 17:08</td></tr>,\n",
       " <tr class=\"ligne1 normal\" id=\"923419\" onclick=\"go_details(event,923419);\"><td class=\"tabev0\"></td><td class=\"tabev0\"></td><td class=\"tabev0\"></td><td class=\"tabev6\"><b><i style=\"display:none;\">earthquake</i><a href=\"/Earthquake/earthquake.php?id=923419\">2020-11-22   16:59:29.2</a></b><i class=\"ago\" id=\"ago6\">57min ago</i></td><td class=\"tabev1\">17.94 </td><td class=\"tabev2\">N  </td><td class=\"tabev1\">66.94 </td><td class=\"tabev2\">W  </td><td class=\"tabev3\">7</td><td class=\"tabev5\" id=\"magtyp6\">Md</td><td class=\"tabev2\">2.3</td><td class=\"tb_region\" id=\"reg6\"> PUERTO RICO</td><td class=\"comment updatetimeno\" id=\"upd6\" style=\"text-align:right;\">2020-11-22 17:19</td></tr>,\n",
       " <tr class=\"ligne2 normal\" id=\"923416\" onclick=\"go_details(event,923416);\"><td class=\"tabev0\"></td><td class=\"tabev0\"></td><td class=\"tabev0\"></td><td class=\"tabev6\"><b><i style=\"display:none;\">earthquake</i><a href=\"/Earthquake/earthquake.php?id=923416\">2020-11-22   16:49:15.4</a></b><i class=\"ago\" id=\"ago7\">1hr 07min ago</i></td><td class=\"tabev1\">39.20 </td><td class=\"tabev2\">N  </td><td class=\"tabev1\">25.77 </td><td class=\"tabev2\">E  </td><td class=\"tabev3\">12</td><td class=\"tabev5\" id=\"magtyp7\">ML</td><td class=\"tabev2\">2.4</td><td class=\"tb_region\" id=\"reg7\"> AEGEAN SEA</td><td class=\"comment updatetimeno\" id=\"upd7\" style=\"text-align:right;\">2020-11-22 17:50</td></tr>,\n",
       " <tr class=\"ligne1 normal\" id=\"923417\" onclick=\"go_details(event,923417);\"><td class=\"tabev0\"></td><td class=\"tabev0\"></td><td class=\"tabev0\"></td><td class=\"tabev6\"><b><i style=\"display:none;\">earthquake</i><a href=\"/Earthquake/earthquake.php?id=923417\">2020-11-22   16:43:27.8</a></b><i class=\"ago\" id=\"ago8\">1hr 13min ago</i></td><td class=\"tabev1\">44.75 </td><td class=\"tabev2\">N  </td><td class=\"tabev1\">149.57 </td><td class=\"tabev2\">E  </td><td class=\"tabev3\">41</td><td class=\"tabev5\" id=\"magtyp8\">mb</td><td class=\"tabev2\">4.9</td><td class=\"tb_region\" id=\"reg8\"> KURIL ISLANDS</td><td class=\"comment updatetimeno\" id=\"upd8\" style=\"text-align:right;\">2020-11-22 17:48</td></tr>,\n",
       " <tr class=\"ligne2 normal\" id=\"923411\" onclick=\"go_details(event,923411);\"><td class=\"tabev0\"></td><td class=\"tabev0\"></td><td class=\"tabev0\"></td><td class=\"tabev6\"><b><i style=\"display:none;\">earthquake</i><a href=\"/Earthquake/earthquake.php?id=923411\">2020-11-22   16:30:47.9</a></b><i class=\"ago\" id=\"ago9\">1hr 25min ago</i></td><td class=\"tabev1\">44.68 </td><td class=\"tabev2\">N  </td><td class=\"tabev1\">22.38 </td><td class=\"tabev2\">E  </td><td class=\"tabev3\">13</td><td class=\"tabev5\" id=\"magtyp9\">ML</td><td class=\"tabev2\">2.3</td><td class=\"tb_region\" id=\"reg9\"> SERBIA</td><td class=\"comment updatetimeno\" id=\"upd9\" style=\"text-align:right;\">2020-11-22 17:06</td></tr>,\n",
       " <tr class=\"ligne1 normal\" id=\"923413\" onclick=\"go_details(event,923413);\"><td class=\"tabev0\"></td><td class=\"tabev0\"></td><td class=\"tabev0\"></td><td class=\"tabev6\"><b><i style=\"display:none;\">earthquake</i><a href=\"/Earthquake/earthquake.php?id=923413\">2020-11-22   16:27:42.0</a></b><i class=\"ago\" id=\"ago10\">1hr 28min ago</i></td><td class=\"tabev1\">16.50 </td><td class=\"tabev2\">N  </td><td class=\"tabev1\">120.35 </td><td class=\"tabev2\">E  </td><td class=\"tabev3\">93</td><td class=\"tabev5\" id=\"magtyp10\"> M</td><td class=\"tabev2\">3.1</td><td class=\"tb_region\" id=\"reg10\"> LUZON, PHILIPPINES</td><td class=\"comment updatetimeno\" id=\"upd10\" style=\"text-align:right;\">2020-11-22 16:41</td></tr>,\n",
       " <tr class=\"ligne2 normal\" id=\"923414\" onclick=\"go_details(event,923414);\"><td class=\"tabev0\"></td><td class=\"tabev0\"></td><td class=\"tabev0\"></td><td class=\"tabev6\"><b><i style=\"display:none;\">earthquake</i><a href=\"/Earthquake/earthquake.php?id=923414\">2020-11-22   16:23:39.7</a></b><i class=\"ago\" id=\"ago11\">1hr 32min ago</i></td><td class=\"tabev1\">36.09 </td><td class=\"tabev2\">N  </td><td class=\"tabev1\">70.19 </td><td class=\"tabev2\">E  </td><td class=\"tabev3\">140</td><td class=\"tabev5\" id=\"magtyp11\">mb</td><td class=\"tabev2\">4.5</td><td class=\"tb_region\" id=\"reg11\"> HINDU KUSH REGION, AFGHANISTAN</td><td class=\"comment updatetimeno\" id=\"upd11\" style=\"text-align:right;\">2020-11-22 16:48</td></tr>,\n",
       " <tr class=\"ligne1 normal\" id=\"923415\" onclick=\"go_details(event,923415);\"><td class=\"tabev0\"></td><td class=\"tabev0\"></td><td class=\"tabev0\"></td><td class=\"tabev6\"><b><i style=\"display:none;\">earthquake</i><a href=\"/Earthquake/earthquake.php?id=923415\">2020-11-22   16:12:28.3</a></b><i class=\"ago\" id=\"ago12\">1hr 44min ago</i></td><td class=\"tabev1\">17.93 </td><td class=\"tabev2\">N  </td><td class=\"tabev1\">66.91 </td><td class=\"tabev2\">W  </td><td class=\"tabev3\">14</td><td class=\"tabev5\" id=\"magtyp12\">Md</td><td class=\"tabev2\">2.3</td><td class=\"tb_region\" id=\"reg12\"> PUERTO RICO REGION</td><td class=\"comment updatetimeno\" id=\"upd12\" style=\"text-align:right;\">2020-11-22 16:52</td></tr>,\n",
       " <tr class=\"ligne2 normal\" id=\"923409\" onclick=\"go_details(event,923409);\"><td class=\"tabev0\"></td><td class=\"tabev0\"></td><td class=\"tabev0\"></td><td class=\"tabev6\"><b><i style=\"display:none;\">earthquake</i><a href=\"/Earthquake/earthquake.php?id=923409\">2020-11-22   16:06:14.0</a></b><i class=\"ago\" id=\"ago13\">1hr 50min ago</i></td><td class=\"tabev1\">5.69 </td><td class=\"tabev2\">N  </td><td class=\"tabev1\">124.55 </td><td class=\"tabev2\">E  </td><td class=\"tabev3\">14</td><td class=\"tabev5\" id=\"magtyp13\"> M</td><td class=\"tabev2\">3.0</td><td class=\"tb_region\" id=\"reg13\"> MINDANAO, PHILIPPINES</td><td class=\"comment updatetimeno\" id=\"upd13\" style=\"text-align:right;\">2020-11-22 16:16</td></tr>,\n",
       " <tr class=\"ligne1 normal\" id=\"923412\" onclick=\"go_details(event,923412);\"><td class=\"tabev0\"></td><td class=\"tabev0\"></td><td class=\"tabev0\"></td><td class=\"tabev6\"><b><i style=\"display:none;\">earthquake</i><a href=\"/Earthquake/earthquake.php?id=923412\">2020-11-22   16:01:57.3</a></b><i class=\"ago\" id=\"ago14\">1hr 54min ago</i></td><td class=\"tabev1\">18.83 </td><td class=\"tabev2\">N  </td><td class=\"tabev1\">63.76 </td><td class=\"tabev2\">W  </td><td class=\"tabev3\">40</td><td class=\"tabev5\" id=\"magtyp14\">ML</td><td class=\"tabev2\">3.6</td><td class=\"tb_region\" id=\"reg14\"> VIRGIN ISLANDS REGION</td><td class=\"comment updatetimeno\" id=\"upd14\" style=\"text-align:right;\">2020-11-22 16:56</td></tr>,\n",
       " <tr class=\"ligne2 normal\" id=\"923405\" onclick=\"go_details(event,923405);\"><td class=\"tabev0\"></td><td class=\"tabev0\"></td><td class=\"tabev0\"></td><td class=\"tabev6\"><b><i style=\"display:none;\">earthquake</i><a href=\"/Earthquake/earthquake.php?id=923405\">2020-11-22   15:51:29.7</a></b><i class=\"ago\" id=\"ago15\">2hr 05min ago</i></td><td class=\"tabev1\">32.55 </td><td class=\"tabev2\">N  </td><td class=\"tabev1\">115.65 </td><td class=\"tabev2\">W  </td><td class=\"tabev3\">11</td><td class=\"tabev5\" id=\"magtyp15\">ML</td><td class=\"tabev2\">2.3</td><td class=\"tb_region\" id=\"reg15\"> BAJA CALIFORNIA, MEXICO</td><td class=\"comment updatetimeno\" id=\"upd15\" style=\"text-align:right;\">2020-11-22 15:55</td></tr>,\n",
       " <tr class=\"ligne1 normal\" id=\"923406\" onclick=\"go_details(event,923406);\"><td class=\"tabev0\"></td><td class=\"tabev0\"></td><td class=\"tabev0\"></td><td class=\"tabev6\"><b><i style=\"display:none;\">earthquake</i><a href=\"/Earthquake/earthquake.php?id=923406\">2020-11-22   15:47:40.0</a></b><i class=\"ago\" id=\"ago16\">2hr 08min ago</i></td><td class=\"tabev1\">21.72 </td><td class=\"tabev2\">S  </td><td class=\"tabev1\">68.48 </td><td class=\"tabev2\">W  </td><td class=\"tabev3\">139</td><td class=\"tabev5\" id=\"magtyp16\">ML</td><td class=\"tabev2\">3.4</td><td class=\"tb_region\" id=\"reg16\"> ANTOFAGASTA, CHILE</td><td class=\"comment updatetimeno\" id=\"upd16\" style=\"text-align:right;\">2020-11-22 16:02</td></tr>,\n",
       " <tr class=\"ligne2 normal\" id=\"923404\" onclick=\"go_details(event,923404);\"><td class=\"tabev0\"></td><td class=\"tabev0\"></td><td class=\"tabev0\"></td><td class=\"tabev6\"><b><i style=\"display:none;\">earthquake</i><a href=\"/Earthquake/earthquake.php?id=923404\">2020-11-22   15:39:00.2</a></b><i class=\"ago\" id=\"ago17\">2hr 17min ago</i></td><td class=\"tabev1\">39.09 </td><td class=\"tabev2\">N  </td><td class=\"tabev1\">25.81 </td><td class=\"tabev2\">E  </td><td class=\"tabev3\">8</td><td class=\"tabev5\" id=\"magtyp17\">ML</td><td class=\"tabev2\">2.5</td><td class=\"tb_region\" id=\"reg17\"> AEGEAN SEA</td><td class=\"comment updatetimeno\" id=\"upd17\" style=\"text-align:right;\">2020-11-22 16:03</td></tr>,\n",
       " <tr class=\"ligne1 normal\" id=\"923407\" onclick=\"go_details(event,923407);\"><td class=\"tabev0\"></td><td class=\"tabev0\"></td><td class=\"tabev0\"></td><td class=\"tabev6\"><b><i style=\"display:none;\">earthquake</i><a href=\"/Earthquake/earthquake.php?id=923407\">2020-11-22   15:38:25.4</a></b><i class=\"ago\" id=\"ago18\">2hr 18min ago</i></td><td class=\"tabev1\">17.99 </td><td class=\"tabev2\">N  </td><td class=\"tabev1\">66.86 </td><td class=\"tabev2\">W  </td><td class=\"tabev3\">14</td><td class=\"tabev5\" id=\"magtyp18\">Md</td><td class=\"tabev2\">2.3</td><td class=\"tb_region\" id=\"reg18\"> PUERTO RICO</td><td class=\"comment updatetimeno\" id=\"upd18\" style=\"text-align:right;\">2020-11-22 15:55</td></tr>,\n",
       " <tr class=\"ligne2 normal\" id=\"923403\" onclick=\"go_details(event,923403);\"><td class=\"tabev0\"></td><td class=\"tabev0\"></td><td class=\"tabev0\"></td><td class=\"tabev6\"><b><i style=\"display:none;\">earthquake</i><a href=\"/Earthquake/earthquake.php?id=923403\">2020-11-22   15:28:51.8</a></b><i class=\"ago\" id=\"ago19\">2hr 27min ago</i></td><td class=\"tabev1\">37.00 </td><td class=\"tabev2\">N  </td><td class=\"tabev1\">4.07 </td><td class=\"tabev2\">W  </td><td class=\"tabev3\">10</td><td class=\"tabev5\" id=\"magtyp19\">ML</td><td class=\"tabev2\">1.5</td><td class=\"tb_region\" id=\"reg19\"> SPAIN</td><td class=\"comment updatetimeno\" id=\"upd19\" style=\"text-align:right;\">2020-11-22 15:38</td></tr>,\n",
       " <tr class=\"ligne1 normal\" id=\"923402\" onclick=\"go_details(event,923402);\"><td class=\"tabev0\"></td><td class=\"tabev0\"></td><td class=\"tabev0\"></td><td class=\"tabev6\"><b><i style=\"display:none;\">earthquake</i><a href=\"/Earthquake/earthquake.php?id=923402\">2020-11-22   15:09:31.6</a></b><i class=\"ago\" id=\"ago20\">2hr 46min ago</i></td><td class=\"tabev1\">17.95 </td><td class=\"tabev2\">N  </td><td class=\"tabev1\">66.84 </td><td class=\"tabev2\">W  </td><td class=\"tabev3\">13</td><td class=\"tabev5\" id=\"magtyp20\">Md</td><td class=\"tabev2\">2.8</td><td class=\"tb_region\" id=\"reg20\"> PUERTO RICO REGION</td><td class=\"comment updatetimeno\" id=\"upd20\" style=\"text-align:right;\">2020-11-22 15:37</td></tr>,\n",
       " <tr class=\"ligne2 normal\" id=\"923400\" onclick=\"go_details(event,923400);\"><td class=\"tabev0\"></td><td class=\"tabev0\"></td><td class=\"tabev0\"></td><td class=\"tabev6\"><b><i style=\"display:none;\">earthquake</i><a href=\"/Earthquake/earthquake.php?id=923400\">2020-11-22   15:09:02.3</a></b><i class=\"ago\" id=\"ago21\">2hr 47min ago</i></td><td class=\"tabev1\">40.33 </td><td class=\"tabev2\">N  </td><td class=\"tabev1\">2.79 </td><td class=\"tabev2\">W  </td><td class=\"tabev3\">5</td><td class=\"tabev5\" id=\"magtyp21\">ML</td><td class=\"tabev2\">2.5</td><td class=\"tb_region\" id=\"reg21\"> SPAIN</td><td class=\"comment updatetimeno\" id=\"upd21\" style=\"text-align:right;\">2020-11-22 15:34</td></tr>,\n",
       " <tr class=\"ligne1 normal\" id=\"923394\" onclick=\"go_details(event,923394);\"><td class=\"tabev0\"></td><td class=\"tabev0\"></td><td class=\"tabev0\"></td><td class=\"tabev6\"><b><i style=\"display:none;\">earthquake</i><a href=\"/Earthquake/earthquake.php?id=923394\">2020-11-22   15:02:32.9</a></b><i class=\"ago\" id=\"ago22\">2hr 53min ago</i></td><td class=\"tabev1\">35.67 </td><td class=\"tabev2\">N  </td><td class=\"tabev1\">97.40 </td><td class=\"tabev2\">W  </td><td class=\"tabev3\">4</td><td class=\"tabev5\" id=\"magtyp22\">ML</td><td class=\"tabev2\">2.1</td><td class=\"tb_region\" id=\"reg22\"> OKLAHOMA</td><td class=\"comment updatetimeno\" id=\"upd22\" style=\"text-align:right;\">2020-11-22 15:04</td></tr>,\n",
       " <tr class=\"ligne2 normal\" id=\"923401\" onclick=\"go_details(event,923401);\"><td class=\"tabev0\"></td><td class=\"tabev0\"></td><td class=\"tabev0\"></td><td class=\"tabev6\"><b><i style=\"display:none;\">earthquake</i><a href=\"/Earthquake/earthquake.php?id=923401\">2020-11-22   15:02:11.8</a></b><i class=\"ago\" id=\"ago23\">2hr 54min ago</i></td><td class=\"tabev1\">17.93 </td><td class=\"tabev2\">N  </td><td class=\"tabev1\">66.85 </td><td class=\"tabev2\">W  </td><td class=\"tabev3\">15</td><td class=\"tabev5\" id=\"magtyp23\">Md</td><td class=\"tabev2\">2.9</td><td class=\"tb_region\" id=\"reg23\"> PUERTO RICO REGION</td><td class=\"comment updatetimeno\" id=\"upd23\" style=\"text-align:right;\">2020-11-22 15:37</td></tr>,\n",
       " <tr class=\"ligne1 normal\" id=\"923391\" onclick=\"go_details(event,923391);\"><td class=\"tabev0\" style=\"text-align:center;\"><a href=\"https://www.emsc-csem.org/Earthquake/Testimonies/comments.php?id=923391\" onmouseout=\"info_b2('notshow','');\" onmouseover=\"info_b2('show','See the &lt;b&gt;3 testimonies&lt;/b&gt; for this earthquake');\"><span class=\"\" style=\"vertical-align:middle;\">3</span></a></td><td class=\"tabev0\"></td><td class=\"tabev0\"><span class=\"intensity\" onclick=\"go_details(event,null,'https://www.emsc-csem.org/Earthquake/popup_intensmap.php?id=923391&amp;f=/FELTREPORTS/92/923391/IntensityMap.png');\" onmouseout=\"info_b2('notshow','');\" onmouseover=\"info_b2('show','See the &lt;b&gt; Intensity map&lt;/b&gt;');\" style=\"background-color:#00FFFF;\">IV</span></td><td class=\"tabev6\"><b><i style=\"display:none;\">earthquake</i><a href=\"/Earthquake/earthquake.php?id=923391\">2020-11-22   14:40:24.8</a></b><i class=\"ago\" id=\"ago24\">3hr 16min ago</i></td><td class=\"tabev1\">40.30 </td><td class=\"tabev2\">N  </td><td class=\"tabev1\">40.24 </td><td class=\"tabev2\">E  </td><td class=\"tabev3\">5</td><td class=\"tabev5\" id=\"magtyp24\">ML</td><td class=\"tabev2\">3.6</td><td class=\"tb_region\" id=\"reg24\"> EASTERN TURKEY</td><td class=\"comment updatetimeno\" id=\"upd24\" style=\"text-align:right;\">2020-11-22 17:47</td></tr>,\n",
       " <tr class=\"ligne2 normal\" id=\"923390\" onclick=\"go_details(event,923390);\"><td class=\"tabev0\"></td><td class=\"tabev0\"></td><td class=\"tabev0\"></td><td class=\"tabev6\"><b><i style=\"display:none;\">earthquake</i><a href=\"/Earthquake/earthquake.php?id=923390\">2020-11-22   14:36:39.4</a></b><i class=\"ago\" id=\"ago25\">3hr 19min ago</i></td><td class=\"tabev1\">36.93 </td><td class=\"tabev2\">N  </td><td class=\"tabev1\">98.45 </td><td class=\"tabev2\">W  </td><td class=\"tabev3\">4</td><td class=\"tabev5\" id=\"magtyp25\">ML</td><td class=\"tabev2\">2.1</td><td class=\"tb_region\" id=\"reg25\"> OKLAHOMA</td><td class=\"comment updatetimeno\" id=\"upd25\" style=\"text-align:right;\">2020-11-22 14:42</td></tr>,\n",
       " <tr class=\"ligne1 normal\" id=\"923392\" onclick=\"go_details(event,923392);\"><td class=\"tabev0\"></td><td class=\"tabev0\"></td><td class=\"tabev0\"></td><td class=\"tabev6\"><b><i style=\"display:none;\">earthquake</i><a href=\"/Earthquake/earthquake.php?id=923392\">2020-11-22   14:25:26.0</a></b><i class=\"ago\" id=\"ago26\">3hr 31min ago</i></td><td class=\"tabev1\">21.45 </td><td class=\"tabev2\">S  </td><td class=\"tabev1\">68.88 </td><td class=\"tabev2\">W  </td><td class=\"tabev3\">97</td><td class=\"tabev5\" id=\"magtyp26\">ML</td><td class=\"tabev2\">2.8</td><td class=\"tb_region\" id=\"reg26\"> ANTOFAGASTA, CHILE</td><td class=\"comment updatetimeno\" id=\"upd26\" style=\"text-align:right;\">2020-11-22 14:42</td></tr>,\n",
       " <tr class=\"ligne2 normal\" id=\"923389\" onclick=\"go_details(event,923389);\"><td class=\"tabev0\"></td><td class=\"tabev0\"></td><td class=\"tabev0\"></td><td class=\"tabev6\"><b><i style=\"display:none;\">earthquake</i><a href=\"/Earthquake/earthquake.php?id=923389\">2020-11-22   14:20:57.0</a></b><i class=\"ago\" id=\"ago27\">3hr 35min ago</i></td><td class=\"tabev1\">2.60 </td><td class=\"tabev2\">S  </td><td class=\"tabev1\">127.34 </td><td class=\"tabev2\">E  </td><td class=\"tabev3\">10</td><td class=\"tabev5\" id=\"magtyp27\"> M</td><td class=\"tabev2\">4.4</td><td class=\"tb_region\" id=\"reg27\"> CERAM SEA, INDONESIA</td><td class=\"comment updatetimeno\" id=\"upd27\" style=\"text-align:right;\">2020-11-22 14:30</td></tr>,\n",
       " <tr class=\"ligne1 normal\" id=\"923388\" onclick=\"go_details(event,923388);\"><td class=\"tabev0\"></td><td class=\"tabev0\"></td><td class=\"tabev0\"></td><td class=\"tabev6\"><b><i style=\"display:none;\">earthquake</i><a href=\"/Earthquake/earthquake.php?id=923388\">2020-11-22   14:16:40.0</a></b><i class=\"ago\" id=\"ago28\">3hr 39min ago</i></td><td class=\"tabev1\">23.37 </td><td class=\"tabev2\">S  </td><td class=\"tabev1\">69.38 </td><td class=\"tabev2\">W  </td><td class=\"tabev3\">75</td><td class=\"tabev5\" id=\"magtyp28\">ML</td><td class=\"tabev2\">3.1</td><td class=\"tb_region\" id=\"reg28\"> ANTOFAGASTA, CHILE</td><td class=\"comment updatetimeno\" id=\"upd28\" style=\"text-align:right;\">2020-11-22 14:28</td></tr>,\n",
       " <tr class=\"ligne2 normal\" id=\"923382\" onclick=\"go_details(event,923382);\"><td class=\"tabev0\"></td><td class=\"tabev0\"></td><td class=\"tabev0\"><span class=\"intensity\" onclick=\"go_details(event,null,'https://www.emsc-csem.org/Earthquake/popup_intensmap.php?id=923382&amp;f=/FELTREPORTS/92/923382/IntensityMap.png');\" onmouseout=\"info_b2('notshow','');\" onmouseover=\"info_b2('show','See the &lt;b&gt; Intensity map&lt;/b&gt;');\" style=\"background-color:#FFFFFF;\">F</span></td><td class=\"tabev6\"><b><i style=\"display:none;\">earthquake</i><a href=\"/Earthquake/earthquake.php?id=923382\">2020-11-22   14:11:04.0</a></b><i class=\"ago\" id=\"ago29\">3hr 45min ago</i></td><td class=\"tabev1\">2.00 </td><td class=\"tabev2\">N  </td><td class=\"tabev1\">98.93 </td><td class=\"tabev2\">E  </td><td class=\"tabev3\">10</td><td class=\"tabev5\" id=\"magtyp29\"> M</td><td class=\"tabev2\">3.3</td><td class=\"tb_region\" id=\"reg29\"> NORTHERN SUMATRA, INDONESIA</td><td class=\"comment updatetimeno\" id=\"upd29\" style=\"text-align:right;\">2020-11-22 14:15</td></tr>,\n",
       " <tr class=\"ligne1 normal\" id=\"923393\" onclick=\"go_details(event,923393);\"><td class=\"tabev0\"></td><td class=\"tabev0\"></td><td class=\"tabev0\"></td><td class=\"tabev6\"><b><i style=\"display:none;\">earthquake</i><a href=\"/Earthquake/earthquake.php?id=923393\">2020-11-22   14:09:27.4</a></b><i class=\"ago\" id=\"ago30\">3hr 47min ago</i></td><td class=\"tabev1\">55.36 </td><td class=\"tabev2\">N  </td><td class=\"tabev1\">158.58 </td><td class=\"tabev2\">W  </td><td class=\"tabev3\">35</td><td class=\"tabev5\" id=\"magtyp30\">mb</td><td class=\"tabev2\">3.9</td><td class=\"tb_region\" id=\"reg30\"> ALASKA PENINSULA</td><td class=\"comment updatetimeno\" id=\"upd30\" style=\"text-align:right;\">2020-11-22 14:56</td></tr>,\n",
       " <tr class=\"ligne2 normal\" id=\"923386\" onclick=\"go_details(event,923386);\"><td class=\"tabev0\"></td><td class=\"tabev0\"></td><td class=\"tabev0\"></td><td class=\"tabev6\"><b><i style=\"display:none;\">earthquake</i><a href=\"/Earthquake/earthquake.php?id=923386\">2020-11-22   14:07:56.0</a></b><i class=\"ago\" id=\"ago31\">3hr 48min ago</i></td><td class=\"tabev1\">1.99 </td><td class=\"tabev2\">S  </td><td class=\"tabev1\">135.95 </td><td class=\"tabev2\">E  </td><td class=\"tabev3\">10</td><td class=\"tabev5\" id=\"magtyp31\"> M</td><td class=\"tabev2\">3.1</td><td class=\"tb_region\" id=\"reg31\"> BIAK REGION, INDONESIA</td><td class=\"comment updatetimeno\" id=\"upd31\" style=\"text-align:right;\">2020-11-22 14:20</td></tr>,\n",
       " <tr class=\"ligne1 normal\" id=\"923361\" onclick=\"go_details(event,923361);\"><td class=\"tabev0\"></td><td class=\"tabev0\"></td><td class=\"tabev0\"></td><td class=\"tabev6\"><b><i style=\"display:none;\">earthquake</i><a href=\"/Earthquake/earthquake.php?id=923361\">2020-11-22   13:59:57.4</a></b><i class=\"ago\" id=\"ago32\">3hr 56min ago</i></td><td class=\"tabev1\">34.96 </td><td class=\"tabev2\">N  </td><td class=\"tabev1\">26.63 </td><td class=\"tabev2\">E  </td><td class=\"tabev3\">2</td><td class=\"tabev5\" id=\"magtyp32\">ML</td><td class=\"tabev2\">3.5</td><td class=\"tb_region\" id=\"reg32\"> CRETE, GREECE</td><td class=\"comment updatetimeno\" id=\"upd32\" style=\"text-align:right;\">2020-11-22 17:11</td></tr>,\n",
       " <tr class=\"ligne2 normal\" id=\"923385\" onclick=\"go_details(event,923385);\"><td class=\"tabev0\"></td><td class=\"tabev0\"></td><td class=\"tabev0\"></td><td class=\"tabev6\"><b><i style=\"display:none;\">earthquake</i><a href=\"/Earthquake/earthquake.php?id=923385\">2020-11-22   13:58:43.0</a></b><i class=\"ago\" id=\"ago33\">3hr 57min ago</i></td><td class=\"tabev1\">37.84 </td><td class=\"tabev2\">N  </td><td class=\"tabev1\">26.86 </td><td class=\"tabev2\">E  </td><td class=\"tabev3\">20</td><td class=\"tabev5\" id=\"magtyp33\">ML</td><td class=\"tabev2\">2.2</td><td class=\"tb_region\" id=\"reg33\"> DODECANESE ISLANDS, GREECE</td><td class=\"comment updatetimeno\" id=\"upd33\" style=\"text-align:right;\">2020-11-22 14:19</td></tr>,\n",
       " <tr class=\"ligne1 normal\" id=\"923381\" onclick=\"go_details(event,923381);\"><td class=\"tabev0\"></td><td class=\"tabev0\"></td><td class=\"tabev0\"></td><td class=\"tabev6\"><b><i style=\"display:none;\">earthquake</i><a href=\"/Earthquake/earthquake.php?id=923381\">2020-11-22   13:56:50.0</a></b><i class=\"ago\" id=\"ago34\">3hr 59min ago</i></td><td class=\"tabev1\">3.57 </td><td class=\"tabev2\">N  </td><td class=\"tabev1\">126.43 </td><td class=\"tabev2\">E  </td><td class=\"tabev3\">15</td><td class=\"tabev5\" id=\"magtyp34\"> M</td><td class=\"tabev2\">3.9</td><td class=\"tb_region\" id=\"reg34\"> KEPULAUAN TALAUD, INDONESIA</td><td class=\"comment updatetimeno\" id=\"upd34\" style=\"text-align:right;\">2020-11-22 14:11</td></tr>,\n",
       " <tr class=\"ligne2 normal\" id=\"923383\" onclick=\"go_details(event,923383);\"><td class=\"tabev0\"></td><td class=\"tabev0\"></td><td class=\"tabev0\"></td><td class=\"tabev6\"><b><i style=\"display:none;\">earthquake</i><a href=\"/Earthquake/earthquake.php?id=923383\">2020-11-22   13:53:20.2</a></b><i class=\"ago\" id=\"ago35\">4hr 03min ago</i></td><td class=\"tabev1\">17.82 </td><td class=\"tabev2\">N  </td><td class=\"tabev1\">66.86 </td><td class=\"tabev2\">W  </td><td class=\"tabev3\">10</td><td class=\"tabev5\" id=\"magtyp35\">Md</td><td class=\"tabev2\">2.7</td><td class=\"tb_region\" id=\"reg35\"> PUERTO RICO REGION</td><td class=\"comment updatetimeno\" id=\"upd35\" style=\"text-align:right;\">2020-11-22 14:15</td></tr>,\n",
       " <tr class=\"ligne1 normal\" id=\"923387\" onclick=\"go_details(event,923387);\"><td class=\"tabev0\"></td><td class=\"tabev0\"></td><td class=\"tabev0\"></td><td class=\"tabev6\"><b><i style=\"display:none;\">earthquake</i><a href=\"/Earthquake/earthquake.php?id=923387\">2020-11-22   13:51:23.0</a></b><i class=\"ago\" id=\"ago36\">4hr 05min ago</i></td><td class=\"tabev1\">6.43 </td><td class=\"tabev2\">S  </td><td class=\"tabev1\">129.28 </td><td class=\"tabev2\">E  </td><td class=\"tabev3\">265</td><td class=\"tabev5\" id=\"magtyp36\"> M</td><td class=\"tabev2\">4.0</td><td class=\"tb_region\" id=\"reg36\"> BANDA SEA</td><td class=\"comment updatetimeno\" id=\"upd36\" style=\"text-align:right;\">2020-11-22 14:20</td></tr>,\n",
       " <tr class=\"ligne2 normal\" id=\"923360\" onclick=\"go_details(event,923360);\"><td class=\"tabev0\"></td><td class=\"tabev0\"></td><td class=\"tabev0\"></td><td class=\"tabev6\"><b><i style=\"display:none;\">earthquake</i><a href=\"/Earthquake/earthquake.php?id=923360\">2020-11-22   13:44:51.7</a></b><i class=\"ago\" id=\"ago37\">4hr 11min ago</i></td><td class=\"tabev1\">43.05 </td><td class=\"tabev2\">N  </td><td class=\"tabev1\">0.68 </td><td class=\"tabev2\">W  </td><td class=\"tabev3\">4</td><td class=\"tabev5\" id=\"magtyp37\">ML</td><td class=\"tabev2\">1.9</td><td class=\"tb_region\" id=\"reg37\"> PYRENEES</td><td class=\"comment updatetimeno\" id=\"upd37\" style=\"text-align:right;\">2020-11-22 13:54</td></tr>,\n",
       " <tr class=\"ligne1 normal\" id=\"923359\" onclick=\"go_details(event,923359);\"><td class=\"tabev0\"></td><td class=\"tabev0\"></td><td class=\"tabev0\"></td><td class=\"tabev6\"><b><i style=\"display:none;\">earthquake</i><a href=\"/Earthquake/earthquake.php?id=923359\">2020-11-22   13:42:51.8</a></b><i class=\"ago\" id=\"ago38\">4hr 13min ago</i></td><td class=\"tabev1\">40.00 </td><td class=\"tabev2\">N  </td><td class=\"tabev1\">24.33 </td><td class=\"tabev2\">E  </td><td class=\"tabev3\">12</td><td class=\"tabev5\" id=\"magtyp38\">ML</td><td class=\"tabev2\">2.5</td><td class=\"tb_region\" id=\"reg38\"> AEGEAN SEA</td><td class=\"comment updatetimeno\" id=\"upd38\" style=\"text-align:right;\">2020-11-22 17:52</td></tr>,\n",
       " <tr class=\"ligne2 normal\" id=\"923380\" onclick=\"go_details(event,923380);\"><td class=\"tabev0\"></td><td class=\"tabev0\"></td><td class=\"tabev0\"></td><td class=\"tabev6\"><b><i style=\"display:none;\">earthquake</i><a href=\"/Earthquake/earthquake.php?id=923380\">2020-11-22   13:40:12.0</a></b><i class=\"ago\" id=\"ago39\">4hr 16min ago</i></td><td class=\"tabev1\">37.79 </td><td class=\"tabev2\">N  </td><td class=\"tabev1\">29.64 </td><td class=\"tabev2\">E  </td><td class=\"tabev3\">13</td><td class=\"tabev5\" id=\"magtyp39\">ML</td><td class=\"tabev2\">2.0</td><td class=\"tb_region\" id=\"reg39\"> WESTERN TURKEY</td><td class=\"comment updatetimeno\" id=\"upd39\" style=\"text-align:right;\">2020-11-22 14:11</td></tr>,\n",
       " <tr class=\"ligne1 normal\" id=\"923348\" onclick=\"go_details(event,923348);\"><td class=\"tabev0\"></td><td class=\"tabev0\"></td><td class=\"tabev0\"></td><td class=\"tabev6\"><b><i style=\"display:none;\">earthquake</i><a href=\"/Earthquake/earthquake.php?id=923348\">2020-11-22   13:21:58.2</a></b><i class=\"ago\" id=\"ago40\">4hr 34min ago</i></td><td class=\"tabev1\">19.14 </td><td class=\"tabev2\">N  </td><td class=\"tabev1\">155.50 </td><td class=\"tabev2\">W  </td><td class=\"tabev3\">34</td><td class=\"tabev5\" id=\"magtyp40\">Md</td><td class=\"tabev2\">2.2</td><td class=\"tb_region\" id=\"reg40\"> ISLAND OF HAWAII, HAWAII</td><td class=\"comment updatetimeno\" id=\"upd40\" style=\"text-align:right;\">2020-11-22 13:25</td></tr>,\n",
       " <tr class=\"ligne2 normal\" id=\"923351\" onclick=\"go_details(event,923351);\"><td class=\"tabev0\"></td><td class=\"tabev0\"></td><td class=\"tabev0\"></td><td class=\"tabev6\"><b><i style=\"display:none;\">earthquake</i><a href=\"/Earthquake/earthquake.php?id=923351\">2020-11-22   12:58:29.0</a></b><i class=\"ago\" id=\"ago41\">4hr 58min ago</i></td><td class=\"tabev1\">24.10 </td><td class=\"tabev2\">S  </td><td class=\"tabev1\">67.31 </td><td class=\"tabev2\">W  </td><td class=\"tabev3\">237</td><td class=\"tabev5\" id=\"magtyp41\">ML</td><td class=\"tabev2\">2.8</td><td class=\"tb_region\" id=\"reg41\"> SALTA, ARGENTINA</td><td class=\"comment updatetimeno\" id=\"upd41\" style=\"text-align:right;\">2020-11-22 13:30</td></tr>,\n",
       " <tr class=\"ligne1 normal\" id=\"923354\" onclick=\"go_details(event,923354);\"><td class=\"tabev0\"></td><td class=\"tabev0\"></td><td class=\"tabev0\"></td><td class=\"tabev6\"><b><i style=\"display:none;\">earthquake</i><a href=\"/Earthquake/earthquake.php?id=923354\">2020-11-22   12:57:42.7</a></b><i class=\"ago\" id=\"ago42\">4hr 58min ago</i></td><td class=\"tabev1\">18.00 </td><td class=\"tabev2\">N  </td><td class=\"tabev1\">66.84 </td><td class=\"tabev2\">W  </td><td class=\"tabev3\">19</td><td class=\"tabev5\" id=\"magtyp42\">Md</td><td class=\"tabev2\">2.3</td><td class=\"tb_region\" id=\"reg42\"> PUERTO RICO</td><td class=\"comment updatetimeno\" id=\"upd42\" style=\"text-align:right;\">2020-11-22 13:32</td></tr>,\n",
       " <tr class=\"ligne2 normal\" id=\"923341\" onclick=\"go_details(event,923341);\"><td class=\"tabev0\"></td><td class=\"tabev0\"></td><td class=\"tabev0\"></td><td class=\"tabev6\"><b><i style=\"display:none;\">earthquake</i><a href=\"/Earthquake/earthquake.php?id=923341\">2020-11-22   12:12:44.0</a></b><i class=\"ago\" id=\"ago43\">5hr 43min ago</i></td><td class=\"tabev1\">2.54 </td><td class=\"tabev2\">S  </td><td class=\"tabev1\">127.36 </td><td class=\"tabev2\">E  </td><td class=\"tabev3\">10</td><td class=\"tabev5\" id=\"magtyp43\"> M</td><td class=\"tabev2\">2.9</td><td class=\"tb_region\" id=\"reg43\"> CERAM SEA, INDONESIA</td><td class=\"comment updatetimeno\" id=\"upd43\" style=\"text-align:right;\">2020-11-22 12:20</td></tr>,\n",
       " <tr class=\"ligne1 normal\" id=\"923342\" onclick=\"go_details(event,923342);\"><td class=\"tabev0\"></td><td class=\"tabev0\"></td><td class=\"tabev0\"></td><td class=\"tabev6\"><b><i style=\"display:none;\">earthquake</i><a href=\"/Earthquake/earthquake.php?id=923342\">2020-11-22   12:05:58.0</a></b><i class=\"ago\" id=\"ago44\">5hr 50min ago</i></td><td class=\"tabev1\">38.70 </td><td class=\"tabev2\">N  </td><td class=\"tabev1\">38.11 </td><td class=\"tabev2\">E  </td><td class=\"tabev3\">7</td><td class=\"tabev5\" id=\"magtyp44\">ML</td><td class=\"tabev2\">2.6</td><td class=\"tb_region\" id=\"reg44\"> EASTERN TURKEY</td><td class=\"comment updatetimeno\" id=\"upd44\" style=\"text-align:right;\">2020-11-22 12:23</td></tr>,\n",
       " <tr class=\"ligne2 normal\" id=\"923340\" onclick=\"go_details(event,923340);\"><td class=\"tabev0\"></td><td class=\"tabev0\"></td><td class=\"tabev0\"></td><td class=\"tabev6\"><b><i style=\"display:none;\">earthquake</i><a href=\"/Earthquake/earthquake.php?id=923340\">2020-11-22   11:55:08.0</a></b><i class=\"ago\" id=\"ago45\">6hr 01min ago</i></td><td class=\"tabev1\">2.55 </td><td class=\"tabev2\">S  </td><td class=\"tabev1\">127.29 </td><td class=\"tabev2\">E  </td><td class=\"tabev3\">10</td><td class=\"tabev5\" id=\"magtyp45\"> M</td><td class=\"tabev2\">2.6</td><td class=\"tb_region\" id=\"reg45\"> CERAM SEA, INDONESIA</td><td class=\"comment updatetimeno\" id=\"upd45\" style=\"text-align:right;\">2020-11-22 12:00</td></tr>,\n",
       " <tr class=\"ligne1 normal\" id=\"923339\" onclick=\"go_details(event,923339);\"><td class=\"tabev0\"></td><td class=\"tabev0\"></td><td class=\"tabev0\"></td><td class=\"tabev6\"><b><i style=\"display:none;\">earthquake</i><a href=\"/Earthquake/earthquake.php?id=923339\">2020-11-22   11:49:14.8</a></b><i class=\"ago\" id=\"ago46\">6hr 07min ago</i></td><td class=\"tabev1\">42.58 </td><td class=\"tabev2\">N  </td><td class=\"tabev1\">111.45 </td><td class=\"tabev2\">W  </td><td class=\"tabev3\">3</td><td class=\"tabev5\" id=\"magtyp46\">ML</td><td class=\"tabev2\">2.9</td><td class=\"tb_region\" id=\"reg46\"> SOUTHERN IDAHO</td><td class=\"comment updatetimeno\" id=\"upd46\" style=\"text-align:right;\">2020-11-22 11:55</td></tr>,\n",
       " <tr class=\"ligne2 normal\" id=\"923338\" onclick=\"go_details(event,923338);\"><td class=\"tabev0\"></td><td class=\"tabev0\"></td><td class=\"tabev0\"></td><td class=\"tabev6\"><b><i style=\"display:none;\">earthquake</i><a href=\"/Earthquake/earthquake.php?id=923338\">2020-11-22   11:48:35.0</a></b><i class=\"ago\" id=\"ago47\">6hr 07min ago</i></td><td class=\"tabev1\">2.40 </td><td class=\"tabev2\">S  </td><td class=\"tabev1\">127.44 </td><td class=\"tabev2\">E  </td><td class=\"tabev3\">10</td><td class=\"tabev5\" id=\"magtyp47\"> M</td><td class=\"tabev2\">3.4</td><td class=\"tb_region\" id=\"reg47\"> CERAM SEA, INDONESIA</td><td class=\"comment updatetimeno\" id=\"upd47\" style=\"text-align:right;\">2020-11-22 11:55</td></tr>,\n",
       " <tr class=\"ligne1 normal\" id=\"923337\" onclick=\"go_details(event,923337);\"><td class=\"tabev0\" style=\"text-align:center;\"><a href=\"https://www.emsc-csem.org/Earthquake/Testimonies/comments.php?id=923337\" onmouseout=\"info_b2('notshow','');\" onmouseover=\"info_b2('show','See the &lt;b&gt;18 testimonies&lt;/b&gt; for this earthquake');\"><span class=\"\" style=\"vertical-align:middle;\">18</span></a></td><td class=\"tabev0\"></td><td class=\"tabev0\"><span class=\"intensity\" onclick=\"go_details(event,null,'https://www.emsc-csem.org/Earthquake/popup_intensmap.php?id=923337&amp;f=/FELTREPORTS/92/923337/IntensityMap.png');\" onmouseout=\"info_b2('notshow','');\" onmouseover=\"info_b2('show','See the &lt;b&gt; Intensity map&lt;/b&gt;');\" style=\"background-color:#00FFFF;\">IV</span></td><td class=\"tabev6\"><b><i style=\"display:none;\">earthquake</i><a href=\"/Earthquake/earthquake.php?id=923337\">2020-11-22   11:28:11.8</a></b><i class=\"ago\" id=\"ago48\">6hr 28min ago</i></td><td class=\"tabev1\">17.83 </td><td class=\"tabev2\">N  </td><td class=\"tabev1\">66.80 </td><td class=\"tabev2\">W  </td><td class=\"tabev3\">10</td><td class=\"tabev5\" id=\"magtyp48\">mb</td><td class=\"tabev2\">4.3</td><td class=\"tb_region\" id=\"reg48\"> PUERTO RICO REGION</td><td class=\"comment updatetimeno\" id=\"upd48\" style=\"text-align:right;\">2020-11-22 11:38</td></tr>,\n",
       " <tr class=\"ligne2 normal\" id=\"923335\" onclick=\"go_details(event,923335);\"><td class=\"tabev0\"></td><td class=\"tabev0\"></td><td class=\"tabev0\"></td><td class=\"tabev6\"><b><i style=\"display:none;\">earthquake</i><a href=\"/Earthquake/earthquake.php?id=923335\">2020-11-22   11:27:29.2</a></b><i class=\"ago\" id=\"ago49\">6hr 29min ago</i></td><td class=\"tabev1\">2.62 </td><td class=\"tabev2\">S  </td><td class=\"tabev1\">127.48 </td><td class=\"tabev2\">E  </td><td class=\"tabev3\">28</td><td class=\"tabev5\" id=\"magtyp49\">mb</td><td class=\"tabev2\">5.3</td><td class=\"tb_region\" id=\"reg49\"> CERAM SEA, INDONESIA</td><td class=\"comment updatetimeno\" id=\"upd49\" style=\"text-align:right;\">2020-11-22 14:55</td></tr>,\n",
       " <tr><td colspan=\"13\" style=\"height:3px\"></td></tr>,\n",
       " <tr class=\"npages\" id=\"my_pagelist_1\"><td colspan=\"13\"><a class=\"sublink sublinka\" href=\"javascript:void()\" rel=\"nofollow\">1</a><a class=\"sublink\" href=\"/Earthquake/?view=2\">2</a><a class=\"sublink\" href=\"/Earthquake/?view=3\">3</a><a class=\"sublink\" href=\"/Earthquake/?view=4\">4</a><a class=\"sublink\" href=\"/Earthquake/?view=5\">5</a><a class=\"sublink\" href=\"/Earthquake/?view=6\">6</a><a class=\"sublink\" href=\"/Earthquake/?view=7\">7</a><a class=\"sublink\" href=\"/Earthquake/?view=8\">8</a><a class=\"sublink\" href=\"/Earthquake/?view=9\">9</a><a class=\"sublink\" href=\"/Earthquake/?view=10\">10</a><a alt=\"Next page\" class=\"sublink\" href=\"/Earthquake/?view=2\"></a><a alt=\"Next 10 pages\" class=\"sublink\" href=\"/Earthquake/?view=11\">»</a></td></tr>,\n",
       " <tr><td colspan=\"13\" style=\"border-bottom:1px solid #000;\"></td></tr>]"
      ]
     },
     "execution_count": 461,
     "metadata": {},
     "output_type": "execute_result"
    }
   ],
   "source": [
    "# your code here\n",
    "soup = BeautifulSoup(html,'lxml')\n",
    "soup.prettify().splitlines()\n",
    "# cdict = {'class':'th2'}\n",
    "# columns = soup.find_all('th',cdict)\n",
    "# columns = [quake.text for quake in columns]\n",
    "# columns\n",
    "\n",
    "# # cdict1 ={'id':'tbody'}\n",
    "# # table = soup.find_all('tbody',cdict1)\n",
    "# # table\n",
    "# # rows = [row for row in columns.find_all('tr')]\n",
    "\n",
    "\n",
    "# cdict1 ={'id':'tbody'}\n",
    "table = soup.find_all('tr')\n",
    "table\n",
    " \n",
    "# rows = [row for row in columns.find_all('tr')]\n",
    "\n"
   ]
  },
  {
   "cell_type": "code",
   "execution_count": null,
   "metadata": {},
   "outputs": [],
   "source": []
  },
  {
   "cell_type": "markdown",
   "metadata": {},
   "source": [
    "#### Count the number of tweets by a given Twitter account.\n",
    "Ask the user for the handle (@handle) of a twitter account. You will need to include a ***try/except block*** for account names not found. \n",
    "<br>***Hint:*** the program should count the number of tweets for any provided account."
   ]
  },
  {
   "cell_type": "code",
   "execution_count": null,
   "metadata": {},
   "outputs": [],
   "source": [
    "# This is the url you will scrape in this exercise \n",
    "# You will need to add the account credentials to this url\n",
    "url = 'https://twitter.com/'"
   ]
  },
  {
   "cell_type": "code",
   "execution_count": null,
   "metadata": {},
   "outputs": [],
   "source": [
    "# your code here"
   ]
  },
  {
   "cell_type": "markdown",
   "metadata": {},
   "source": [
    "#### Number of followers of a given twitter account\n",
    "Ask the user for the handle (@handle) of a twitter account. You will need to include a ***try/except block*** for account names not found. \n",
    "<br>***Hint:*** the program should count the followers for any provided account."
   ]
  },
  {
   "cell_type": "code",
   "execution_count": null,
   "metadata": {},
   "outputs": [],
   "source": [
    "# This is the url you will scrape in this exercise \n",
    "# You will need to add the account credentials to this url\n",
    "url = 'https://twitter.com/'"
   ]
  },
  {
   "cell_type": "code",
   "execution_count": null,
   "metadata": {},
   "outputs": [],
   "source": [
    "# your code here"
   ]
  },
  {
   "cell_type": "markdown",
   "metadata": {},
   "source": [
    "#### List all language names and number of related articles in the order they appear in wikipedia.org."
   ]
  },
  {
   "cell_type": "code",
   "execution_count": null,
   "metadata": {},
   "outputs": [],
   "source": [
    "# This is the url you will scrape in this exercise\n",
    "url = 'https://www.wikipedia.org/'"
   ]
  },
  {
   "cell_type": "code",
   "execution_count": null,
   "metadata": {},
   "outputs": [],
   "source": [
    "# your code here"
   ]
  },
  {
   "cell_type": "markdown",
   "metadata": {},
   "source": [
    "#### A list with the different kind of datasets available in data.gov.uk."
   ]
  },
  {
   "cell_type": "code",
   "execution_count": null,
   "metadata": {},
   "outputs": [],
   "source": [
    "# This is the url you will scrape in this exercise\n",
    "url = 'https://data.gov.uk/'"
   ]
  },
  {
   "cell_type": "code",
   "execution_count": null,
   "metadata": {},
   "outputs": [],
   "source": [
    "# your code here"
   ]
  },
  {
   "cell_type": "markdown",
   "metadata": {},
   "source": [
    "#### Display the top 10 languages by number of native speakers stored in a pandas dataframe."
   ]
  },
  {
   "cell_type": "code",
   "execution_count": null,
   "metadata": {},
   "outputs": [],
   "source": [
    "# This is the url you will scrape in this exercise\n",
    "url = 'https://en.wikipedia.org/wiki/List_of_languages_by_number_of_native_speakers'"
   ]
  },
  {
   "cell_type": "code",
   "execution_count": null,
   "metadata": {},
   "outputs": [],
   "source": [
    "# your code here"
   ]
  },
  {
   "cell_type": "markdown",
   "metadata": {},
   "source": [
    "## Bonus\n",
    "#### Scrape a certain number of tweets of a given Twitter account."
   ]
  },
  {
   "cell_type": "code",
   "execution_count": null,
   "metadata": {},
   "outputs": [],
   "source": [
    "# This is the url you will scrape in this exercise \n",
    "# You will need to add the account credentials to this url\n",
    "url = 'https://twitter.com/'"
   ]
  },
  {
   "cell_type": "code",
   "execution_count": null,
   "metadata": {},
   "outputs": [],
   "source": [
    "# your code here"
   ]
  },
  {
   "cell_type": "markdown",
   "metadata": {},
   "source": [
    "#### Display IMDB's top 250 data (movie name, initial release, director name and stars) as a pandas dataframe."
   ]
  },
  {
   "cell_type": "code",
   "execution_count": null,
   "metadata": {},
   "outputs": [],
   "source": [
    "# This is the url you will scrape in this exercise \n",
    "url = 'https://www.imdb.com/chart/top'"
   ]
  },
  {
   "cell_type": "code",
   "execution_count": null,
   "metadata": {},
   "outputs": [],
   "source": [
    "# your code here"
   ]
  },
  {
   "cell_type": "markdown",
   "metadata": {},
   "source": [
    "#### Display the movie name, year and a brief summary of the top 10 random movies (IMDB) as a pandas dataframe."
   ]
  },
  {
   "cell_type": "code",
   "execution_count": null,
   "metadata": {},
   "outputs": [],
   "source": [
    "#This is the url you will scrape in this exercise\n",
    "url = 'http://www.imdb.com/chart/top'"
   ]
  },
  {
   "cell_type": "code",
   "execution_count": null,
   "metadata": {},
   "outputs": [],
   "source": [
    "# your code here"
   ]
  },
  {
   "cell_type": "markdown",
   "metadata": {},
   "source": [
    "#### Find the live weather report (temperature, wind speed, description and weather) of a given city."
   ]
  },
  {
   "cell_type": "code",
   "execution_count": null,
   "metadata": {},
   "outputs": [],
   "source": [
    "#https://openweathermap.org/current\n",
    "city = input('Enter the city: ')\n",
    "url = 'http://api.openweathermap.org/data/2.5/weather?'+'q='+city+'&APPID=b35975e18dc93725acb092f7272cc6b8&units=metric'"
   ]
  },
  {
   "cell_type": "code",
   "execution_count": null,
   "metadata": {},
   "outputs": [],
   "source": [
    "# your code here"
   ]
  },
  {
   "cell_type": "markdown",
   "metadata": {},
   "source": [
    "#### Find the book name, price and stock availability as a pandas dataframe."
   ]
  },
  {
   "cell_type": "code",
   "execution_count": null,
   "metadata": {},
   "outputs": [],
   "source": [
    "# This is the url you will scrape in this exercise. \n",
    "# It is a fictional bookstore created to be scraped. \n",
    "url = 'http://books.toscrape.com/'"
   ]
  },
  {
   "cell_type": "code",
   "execution_count": null,
   "metadata": {},
   "outputs": [],
   "source": [
    "# your code here"
   ]
  }
 ],
 "metadata": {
  "kernelspec": {
   "display_name": "Python 3",
   "language": "python",
   "name": "python3"
  },
  "language_info": {
   "codemirror_mode": {
    "name": "ipython",
    "version": 3
   },
   "file_extension": ".py",
   "mimetype": "text/x-python",
   "name": "python",
   "nbconvert_exporter": "python",
   "pygments_lexer": "ipython3",
   "version": "3.9.0"
  }
 },
 "nbformat": 4,
 "nbformat_minor": 2
}
