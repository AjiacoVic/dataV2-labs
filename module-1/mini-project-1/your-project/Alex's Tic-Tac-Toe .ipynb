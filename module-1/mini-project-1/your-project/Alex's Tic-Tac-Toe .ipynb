{
 "cells": [
  {
   "cell_type": "code",
   "execution_count": 1,
   "metadata": {},
   "outputs": [
    {
     "data": {
      "text/plain": [
       "\" Design of the game:\\n\\nFirst I need to define the main functions of the game :\\n\\n- present the game (rows/columns) --> indexes? matrix?\\n- display the X-O's in the game\\n- setting of play (who plays when)\\n- checking rows/columns/diagonals to determine the win\\n- changig turn to play\\n\\n\\n\\n\""
      ]
     },
     "execution_count": 1,
     "metadata": {},
     "output_type": "execute_result"
    }
   ],
   "source": [
    "\"\"\" Design of the game:\n",
    "\n",
    "First I need to define the main functions of the game :\n",
    "\n",
    "- present the game (rows/columns) --> indexes? matrix?\n",
    "- display the X-O's in the game\n",
    "- setting of play (who plays when)\n",
    "- checking rows/columns/diagonals to determine the win\n",
    "- changig turn to play\n",
    "\n",
    "\n",
    "\n",
    "\"\"\""
   ]
  },
  {
   "cell_type": "code",
   "execution_count": 6,
   "metadata": {},
   "outputs": [
    {
     "name": "stdout",
     "output_type": "stream",
     "text": [
      "\n",
      " 0| 1| 2 \n",
      " 3| 4| 5 \n",
      " 6| 7| 8\n",
      "choose a spot on the grid :4\n",
      "\n",
      " 0| 1| 2 \n",
      " 3| X| 5 \n",
      " 6| 7| 8\n"
     ]
    }
   ],
   "source": [
    "#determine the indexes for the game: I will add 3 times 3 to simulate 3 rows of 3\n",
    "\n",
    "\n",
    "game_grid = ['0','1','2',\n",
    "             '3','4','5',\n",
    "             '6','7','8']\n",
    "\n",
    "game = true\n",
    "\n",
    "# signs =['X','O']\n",
    "\n",
    "#functions that define what happens in the game\n",
    "\n",
    "    # def player_sign (signs):\n",
    "    #     s=1 \n",
    "    #     while s==1: \n",
    "    #         cpuSign =''\n",
    "    #         playerSign = (input(\"\\nChoose your sign: \").upper())\n",
    "    #         if playerSign in signs: \n",
    "    #             s=0\n",
    "    #         else: \n",
    "    #             print(\"\\nYour reply is invalid, please try again\\n\") \n",
    "    #         if playerSign == 'X':\n",
    "    #             cpuSign == 'O'\n",
    "    #         else:\n",
    "    #             cpuSign == 'X'\n",
    "    #     return playerSign, cpuSign\n",
    "\n",
    "def game_outlook():\n",
    "    \n",
    "    #this function defines the outlook of the grid and assigns indexes to the positions\n",
    "    print(\"\\n\",game_grid[0]+\"|\",game_grid[1]+\"|\",game_grid[2],\n",
    "          \"\\n\",game_grid[3]+\"|\",game_grid[4]+\"|\",game_grid[5],\n",
    "          \"\\n\",game_grid[6]+\"|\",game_grid[7]+\"|\",game_grid[8])\n",
    "game_outlook()\n",
    "\n",
    "\n",
    "def game_begin():\n",
    "    \n",
    "    #This fuctions defines the begining of the game by calling the game_grid\n",
    "    game_outlook()\n",
    "    \n",
    "    while game :\n",
    "        game_turn(current_player)\n",
    "        \n",
    "        check_if_game_still_on\n",
    "        \n",
    "        change_player\n",
    "\n",
    "#player_sign(signs)\n",
    "\n",
    "game_turn()\n",
    " \n",
    "    \n",
    "    \n",
    "def game_turn():\n",
    "        #is the turn of the player: asks for input on the position on the grid (input=position=index on grid)\n",
    "    player_choice = input(\"choose a spot on the grid :\")\n",
    "        #the type of user_choice is a string bc of the input function so:\n",
    "    player_choice = int(player_choice)\n",
    "        #now that we have the position = index on the grid so we can place one of the variable \n",
    "    game_grid[player_choice] = 'X'\n",
    "    game_outlook()\n",
    "\n",
    "def check_win()\n",
    "    check_rows\n",
    "    check_columns\n",
    "    check_diagonals"
   ]
  },
  {
   "cell_type": "code",
   "execution_count": null,
   "metadata": {},
   "outputs": [],
   "source": []
  },
  {
   "cell_type": "code",
   "execution_count": null,
   "metadata": {},
   "outputs": [],
   "source": []
  }
 ],
 "metadata": {
  "kernelspec": {
   "display_name": "Python 3",
   "language": "python",
   "name": "python3"
  },
  "language_info": {
   "codemirror_mode": {
    "name": "ipython",
    "version": 3
   },
   "file_extension": ".py",
   "mimetype": "text/x-python",
   "name": "python",
   "nbconvert_exporter": "python",
   "pygments_lexer": "ipython3",
   "version": "3.8.6"
  }
 },
 "nbformat": 4,
 "nbformat_minor": 4
}
