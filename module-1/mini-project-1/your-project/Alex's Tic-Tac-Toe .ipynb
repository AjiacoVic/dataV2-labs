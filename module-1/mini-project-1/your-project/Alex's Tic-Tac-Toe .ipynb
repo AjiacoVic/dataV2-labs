{
 "cells": [
  {
   "cell_type": "code",
   "execution_count": 2,
   "metadata": {},
   "outputs": [
    {
     "data": {
      "text/plain": [
       "\" Design of the game:\\n\\nFirst I need to define the main functions of the game :\\n\\n- present the game (rows/columns) --> indexes? matrix?\\n- display the X-O's in the game\\n- setting of play (who plays when)\\n- checking rows/columns/diagonals to determine the win\\n- changig turn to play\\n\\n\\n\\n\""
      ]
     },
     "execution_count": 2,
     "metadata": {},
     "output_type": "execute_result"
    }
   ],
   "source": [
    "\"\"\" Design of the game:\n",
    "\n",
    "First I need to define the main functions of the game :\n",
    "\n",
    "- present the game (rows/columns) --> indexes? matrix?\n",
    "- display the X-O's in the game\n",
    "- setting of play (who plays when)\n",
    "- checking rows/columns/diagonals to determine the win\n",
    "- changig turn to play\n",
    "\n",
    "\n",
    "\n",
    "\"\"\""
   ]
  },
  {
   "cell_type": "code",
   "execution_count": 28,
   "metadata": {},
   "outputs": [
    {
     "ename": "SyntaxError",
     "evalue": "invalid syntax (<ipython-input-28-239132bda7d9>, line 22)",
     "output_type": "error",
     "traceback": [
      "\u001b[0;36m  File \u001b[0;32m\"<ipython-input-28-239132bda7d9>\"\u001b[0;36m, line \u001b[0;32m22\u001b[0m\n\u001b[0;31m    user_choice = (int(user_choice) -1)\u001b[0m\n\u001b[0m    ^\u001b[0m\n\u001b[0;31mSyntaxError\u001b[0m\u001b[0;31m:\u001b[0m invalid syntax\n"
     ]
    }
   ],
   "source": [
    "#determine the indexes for the game: I will add 3 times 3 to simulate 3 rows of 3\n",
    "\n",
    "game_grid = ['1','2','3',\n",
    "        '4','5','6',\n",
    "        '7','8','9']\n",
    "#functions that define what happens in the game\n",
    "\n",
    "def game_outlook():\n",
    "    print(\"\\n\",game_grid[0]+\"|\",game_grid[1]+\"|\",game_grid[2],\n",
    "          \"\\n\",game_grid[3]+\"|\",game_grid[4]+\"|\",game_grid[5],\n",
    "          \"\\n\",game_grid[6]+\"|\",game_grid[7]+\"|\",game_grid[8])\n",
    "game_outlook()\n",
    "\n",
    "\n",
    "def game_begin():\n",
    "    \n",
    "    game_grid()\n",
    "    \n",
    "    #where to put the input of the user \n",
    "def game_play():\n",
    "    user_choice = (input(\"chose a spot of the grid :\")\n",
    "    user_choice = (int(user_choice) -1)\n",
    "\n",
    "game_play()\n",
    "    "
   ]
  },
  {
   "cell_type": "code",
   "execution_count": null,
   "metadata": {},
   "outputs": [],
   "source": []
  }
 ],
 "metadata": {
  "kernelspec": {
   "display_name": "Python 3",
   "language": "python",
   "name": "python3"
  },
  "language_info": {
   "codemirror_mode": {
    "name": "ipython",
    "version": 3
   },
   "file_extension": ".py",
   "mimetype": "text/x-python",
   "name": "python",
   "nbconvert_exporter": "python",
   "pygments_lexer": "ipython3",
   "version": "3.8.5"
  }
 },
 "nbformat": 4,
 "nbformat_minor": 4
}
