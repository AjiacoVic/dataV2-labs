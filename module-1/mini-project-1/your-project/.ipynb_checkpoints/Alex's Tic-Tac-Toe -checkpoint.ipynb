{
 "cells": [
  {
   "cell_type": "code",
   "execution_count": 1,
   "metadata": {},
   "outputs": [
    {
     "data": {
      "text/plain": [
       "\" Design of the game:\\n\\nFirst I need to define the main functions of the game :\\n\\n- present the game (rows/columns) --> indexes? matrix?\\n- display the X-O's in the game\\n- setting of play (who plays when)\\n- checking rows/columns/diagonals to determine the win\\n- changig turn to play\\n\\n\\n\\n\""
      ]
     },
     "execution_count": 1,
     "metadata": {},
     "output_type": "execute_result"
    }
   ],
   "source": [
    "\"\"\" Design of the game:\n",
    "\n",
    "First I need to define the main functions of the game :\n",
    "\n",
    "- present the game (rows/columns) --> indexes? matrix?\n",
    "- display the X-O's in the game\n",
    "- setting of play (who plays when)\n",
    "- checking rows/columns/diagonals to determine the win\n",
    "- changig turn to play\n",
    "\n",
    "\n",
    "\n",
    "\"\"\""
   ]
  },
  {
   "cell_type": "code",
   "execution_count": 2,
   "metadata": {},
   "outputs": [
    {
     "name": "stdout",
     "output_type": "stream",
     "text": [
      "\n",
      " 0| 1| 2 \n",
      " 3| 4| 5 \n",
      " 6| 7| 8\n"
     ]
    },
    {
     "ename": "NameError",
     "evalue": "name 'game_turn' is not defined",
     "output_type": "error",
     "traceback": [
      "\u001b[0;31m---------------------------------------------------------------------------\u001b[0m",
      "\u001b[0;31mNameError\u001b[0m                                 Traceback (most recent call last)",
      "\u001b[0;32m<ipython-input-2-5dd6cf79aa86>\u001b[0m in \u001b[0;36m<module>\u001b[0;34m\u001b[0m\n\u001b[1;32m     38\u001b[0m \u001b[0;31m#player_sign(signs)\u001b[0m\u001b[0;34m\u001b[0m\u001b[0;34m\u001b[0m\u001b[0;34m\u001b[0m\u001b[0m\n\u001b[1;32m     39\u001b[0m \u001b[0;34m\u001b[0m\u001b[0m\n\u001b[0;32m---> 40\u001b[0;31m \u001b[0mgame_turn\u001b[0m\u001b[0;34m(\u001b[0m\u001b[0;34m)\u001b[0m\u001b[0;34m\u001b[0m\u001b[0;34m\u001b[0m\u001b[0m\n\u001b[0m\u001b[1;32m     41\u001b[0m \u001b[0;34m\u001b[0m\u001b[0m\n\u001b[1;32m     42\u001b[0m \u001b[0;34m\u001b[0m\u001b[0m\n",
      "\u001b[0;31mNameError\u001b[0m: name 'game_turn' is not defined"
     ]
    }
   ],
   "source": [
    "#determine the indexes for the game: I will add 3 times 3 to simulate 3 rows of 3\n",
    "\n",
    "\n",
    "game_grid = ['0','1','2',\n",
    "             '3','4','5',\n",
    "             '6','7','8']\n",
    "\n",
    "# signs =['X','O']\n",
    "\n",
    "#functions that define what happens in the game\n",
    "\n",
    "    # def player_sign (signs):\n",
    "    #     s=1 \n",
    "    #     while s==1: \n",
    "    #         cpuSign =''\n",
    "    #         playerSign = (input(\"\\nChoose your sign: \").upper())\n",
    "    #         if playerSign in signs: \n",
    "    #             s=0\n",
    "    #         else: \n",
    "    #             print(\"\\nYour reply is invalid, please try again\\n\") \n",
    "    #         if playerSign == 'X':\n",
    "    #             cpuSign == 'O'\n",
    "    #         else:\n",
    "    #             cpuSign == 'X'\n",
    "    #     return playerSign, cpuSign\n",
    "\n",
    "def game_outlook():\n",
    "    \n",
    "    #this function defines the outlook of the grid and assigns indexes to the positions\n",
    "    print(\"\\n\",game_grid[0]+\"|\",game_grid[1]+\"|\",game_grid[2],\n",
    "          \"\\n\",game_grid[3]+\"|\",game_grid[4]+\"|\",game_grid[5],\n",
    "          \"\\n\",game_grid[6]+\"|\",game_grid[7]+\"|\",game_grid[8])\n",
    "game_outlook()\n",
    "\n",
    "\n",
    "def game_begin():\n",
    "    #This fuctions defines the begining of the game by calling the game_grid\n",
    "    game_outlook()\n",
    "\n",
    "#player_sign(signs)\n",
    "\n",
    "game_turn()\n",
    " \n",
    "    \n",
    "    #then asks the user for input on the position on the grid (input=position=index on grid)\n",
    "def game_turn():\n",
    "    \n",
    "    player_choice = input(\"choose a spot on the grid :\")\n",
    "    #the type of user_choice is a string bc of the input function so:\n",
    "    player_choice = int(player_choice)\n",
    "    #now that we have the position = index on the grid so we can place one of the variable \n",
    "    game_grid[player_choice] = 'X'\n",
    "    \n",
    "\n",
    "    "
   ]
  },
  {
   "cell_type": "code",
   "execution_count": null,
   "metadata": {},
   "outputs": [],
   "source": []
  },
  {
   "cell_type": "code",
   "execution_count": null,
   "metadata": {},
   "outputs": [],
   "source": []
  }
 ],
 "metadata": {
  "kernelspec": {
   "display_name": "Python 3",
   "language": "python",
   "name": "python3"
  },
  "language_info": {
   "codemirror_mode": {
    "name": "ipython",
    "version": 3
   },
   "file_extension": ".py",
   "mimetype": "text/x-python",
   "name": "python",
   "nbconvert_exporter": "python",
   "pygments_lexer": "ipython3",
   "version": "3.8.6"
  }
 },
 "nbformat": 4,
 "nbformat_minor": 4
}
