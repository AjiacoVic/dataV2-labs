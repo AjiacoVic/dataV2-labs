{
 "cells": [
  {
   "cell_type": "markdown",
   "metadata": {},
   "source": [
    "### Kata1 "
   ]
  },
  {
   "cell_type": "code",
   "execution_count": 127,
   "metadata": {},
   "outputs": [
    {
     "name": "stdout",
     "output_type": "stream",
     "text": [
      "[1, 2, 3, 4, 5]\n"
     ]
    },
    {
     "data": {
      "text/plain": [
       "[2, 3, 5]"
      ]
     },
     "execution_count": 127,
     "metadata": {},
     "output_type": "execute_result"
    }
   ],
   "source": [
    "#This one works, but I didn't use Class inheritance with the Python class list\n",
    "class My_list():\n",
    "    \n",
    "    to_remove = []\n",
    "    \n",
    "    def __init__(self,l_a=[]):\n",
    "        self.list_a = l_a\n",
    "        \n",
    "    def showList(self):\n",
    "        print(self.list_a)\n",
    "        \n",
    "    def list_diff(self):\n",
    "           return [x for x in self.list_a if x not in to_remove]\n",
    "\n",
    "#Defining parameters\n",
    "l_a = [1,2,3,4,5]\n",
    "to_remove = [1,4]\n",
    "\n",
    "#Assigning attributes to class\n",
    "l_a = My_list(l_a)\n",
    "\n",
    "#Printing attributes and calling function in my clss\n",
    "My_list.showList(l_a)\n",
    "l_a.list_diff()"
   ]
  },
  {
   "cell_type": "code",
   "execution_count": 7,
   "metadata": {},
   "outputs": [],
   "source": [
    "\n",
    "class MyList(list):\n",
    "    def list_diff(self,to_remove):\n",
    "        return [i for i in self if i not in to_remove]\n"
   ]
  },
  {
   "cell_type": "code",
   "execution_count": 8,
   "metadata": {},
   "outputs": [],
   "source": [
    "l_a = MyList([1,2,3,4,5,6])\n",
    "x = MyList([2,5])"
   ]
  },
  {
   "cell_type": "code",
   "execution_count": 9,
   "metadata": {},
   "outputs": [
    {
     "data": {
      "text/plain": [
       "[1, 3, 4, 6]"
      ]
     },
     "execution_count": 9,
     "metadata": {},
     "output_type": "execute_result"
    }
   ],
   "source": [
    "MyList.list_diff(l_a,x)"
   ]
  },
  {
   "cell_type": "markdown",
   "metadata": {},
   "source": [
    "### Kata 2\n",
    "Count the number of occurrences of each character and return it as a list of tuples in order of appearance. For empty output return an empty list."
   ]
  },
  {
   "cell_type": "code",
   "execution_count": 22,
   "metadata": {},
   "outputs": [],
   "source": [
    "#count doesn't take numbers. for strings\n",
    "\n",
    "class MyWord():\n",
    "    def ordered_count(self):\n",
    "        return list(set(zip(self,[self.count(i) for i in self])))"
   ]
  },
  {
   "cell_type": "code",
   "execution_count": 23,
   "metadata": {},
   "outputs": [
    {
     "data": {
      "text/plain": [
       "[('r', 2), ('b', 2), ('d', 1), ('c', 1), ('a', 5)]"
      ]
     },
     "execution_count": 23,
     "metadata": {},
     "output_type": "execute_result"
    }
   ],
   "source": [
    "MyWord.ordered_count(\"abracadabra\")"
   ]
  },
  {
   "cell_type": "markdown",
   "metadata": {},
   "source": [
    "### Kata 3\n",
    "We need a method in the List Class that may count specific digits from a given list of integers. This marked digits will be given in a second list. The method .count_spec_digits()/.countSpecDigits() will accept two arguments, a list of an uncertain amount of integers integers_lists/integersLists (and of an uncertain amount of digits, too) and a second list, digits_list/digitsList that has the specific digits to count which length cannot be be longer than 10 (It's obvious, we've got ten digits). The method will output a list of tuples, each tuple having two elements, the first one will be a digit to count, and second one, its corresponding total frequency in all the integers of the first list. This list of tuples should be ordered with the same order that the digits have in digitsList"
   ]
  },
  {
   "cell_type": "code",
   "execution_count": 30,
   "metadata": {},
   "outputs": [
    {
     "data": {
      "text/plain": [
       "[(1, 2), (4, 3), (6, 1)]"
      ]
     },
     "execution_count": 30,
     "metadata": {},
     "output_type": "execute_result"
    }
   ],
   "source": [
    "#So, my function works, but when I put it in a class it doesn't.\n",
    "#I checked the solutions in CodeWars, but it looks like they called the string of numbers but could not understand why...\n",
    "\n",
    "class MyList(list):\n",
    "    def count_spec_digits(self,digits_list):\n",
    "        return [(digit,sum([str(s).count(str(digit)) for s in self])) for digit in digits_list]\n",
    "\n",
    "\n",
    "\n",
    "digits_list = [1,4,6]\n",
    "\n",
    "integers_list = MyList([1,1,2,2,3,4,4,4,5,5,6])\n",
    "\n",
    "integers_list.count_spec_digits(digits_list)\n",
    "\n"
   ]
  },
  {
   "cell_type": "code",
   "execution_count": null,
   "metadata": {},
   "outputs": [],
   "source": []
  }
 ],
 "metadata": {
  "kernelspec": {
   "display_name": "Python 3",
   "language": "python",
   "name": "python3"
  },
  "language_info": {
   "codemirror_mode": {
    "name": "ipython",
    "version": 3
   },
   "file_extension": ".py",
   "mimetype": "text/x-python",
   "name": "python",
   "nbconvert_exporter": "python",
   "pygments_lexer": "ipython3",
   "version": "3.8.6"
  }
 },
 "nbformat": 4,
 "nbformat_minor": 4
}
