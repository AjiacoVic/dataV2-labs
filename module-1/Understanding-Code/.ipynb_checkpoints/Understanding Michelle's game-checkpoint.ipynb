{
 "cells": [
  {
   "cell_type": "code",
   "execution_count": null,
   "metadata": {},
   "outputs": [],
   "source": [
    "\"\"\" Michelle's game:\n",
    "\n",
    "-What I noticed:\n",
    "    written using procedural programming\n",
    "    is easy to understand the steps\n",
    "    with some exceptions: \n",
    "        a function defined but not used\n",
    "        global variables not ordered on tp of the code\n",
    "        \n",
    "-The things I liked:\n",
    "    The game \"Mood\" she created in her gane\n",
    "    The details she added to give advice to the user\n",
    "    \n",
    "-The things I liked less:\n",
    "    too many repetitions \n",
    "    looks a bit messy\n",
    "\n",
    "-What can be improved:\n",
    "    repetitions can be wrapped in functions\n",
    "    global variables can be neatly organized on top of the code\n",
    "    ofcourse, features can be added such as possibility of several players\n",
    "\n",
    "\"\"\""
   ]
  }
 ],
 "metadata": {
  "kernelspec": {
   "display_name": "Python 3",
   "language": "python",
   "name": "python3"
  },
  "language_info": {
   "codemirror_mode": {
    "name": "ipython",
    "version": 3
   },
   "file_extension": ".py",
   "mimetype": "text/x-python",
   "name": "python",
   "nbconvert_exporter": "python",
   "pygments_lexer": "ipython3",
   "version": "3.8.6"
  }
 },
 "nbformat": 4,
 "nbformat_minor": 4
}
