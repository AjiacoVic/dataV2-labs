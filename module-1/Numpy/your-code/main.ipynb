{
 "cells": [
  {
   "cell_type": "markdown",
   "metadata": {},
   "source": [
    "# Introduction to NumPy\n",
    "\n",
    "\n",
    "#### 1. Import NumPy under the name np."
   ]
  },
  {
   "cell_type": "code",
   "execution_count": 3,
   "metadata": {},
   "outputs": [],
   "source": [
    "# your code here\n",
    "import numpy as np"
   ]
  },
  {
   "cell_type": "markdown",
   "metadata": {},
   "source": [
    "#### 2. Print your NumPy version."
   ]
  },
  {
   "cell_type": "code",
   "execution_count": 4,
   "metadata": {},
   "outputs": [
    {
     "name": "stdout",
     "output_type": "stream",
     "text": [
      "1.19.2\n"
     ]
    }
   ],
   "source": [
    "# your code here\n",
    "print(np.__version__)"
   ]
  },
  {
   "cell_type": "markdown",
   "metadata": {},
   "source": [
    "#### 3. Generate a 2x3x5 3-dimensional array with random values. Assign the array to variable *a*.\n",
    "**Challenge**: there are at least three easy ways that use numpy to generate random arrays. How many ways can you find?"
   ]
  },
  {
   "cell_type": "code",
   "execution_count": 5,
   "metadata": {},
   "outputs": [
    {
     "name": "stdout",
     "output_type": "stream",
     "text": [
      "[[[0.14626771 0.07700987 0.82204811 0.56567761 0.28134087]\n",
      "  [0.14132723 0.58740564 0.17841066 0.70971987 0.71565604]\n",
      "  [0.56820206 0.87313325 0.59834713 0.05463188 0.68850287]]\n",
      "\n",
      " [[0.86561189 0.00163033 0.89647056 0.55193389 0.0423988 ]\n",
      "  [0.19856994 0.97740359 0.2930169  0.91135297 0.03413883]\n",
      "  [0.36500038 0.79109833 0.04056359 0.91383918 0.51598101]]]\n"
     ]
    }
   ],
   "source": [
    "# Method 1\n",
    "a = np.random.random((2,3,5))\n",
    "print(a)"
   ]
  },
  {
   "cell_type": "code",
   "execution_count": 6,
   "metadata": {},
   "outputs": [
    {
     "name": "stdout",
     "output_type": "stream",
     "text": [
      "[[[0.91153493 0.71668352 0.51369489 0.67798604 0.1900535 ]\n",
      "  [0.07181852 0.20582595 0.64694997 0.08272051 0.56809358]\n",
      "  [0.72771884 0.9655536  0.24318119 0.28509179 0.80598246]]\n",
      "\n",
      " [[0.98315578 0.53268754 0.55273828 0.59130239 0.4791315 ]\n",
      "  [0.58154032 0.31120281 0.7515384  0.91199359 0.6358762 ]\n",
      "  [0.51236574 0.15179809 0.38769333 0.9673885  0.49103219]]]\n"
     ]
    }
   ],
   "source": [
    "# Method 2\n",
    "a = np.random.rand(2,3,5)\n",
    "print(a)"
   ]
  },
  {
   "cell_type": "code",
   "execution_count": 7,
   "metadata": {},
   "outputs": [
    {
     "name": "stdout",
     "output_type": "stream",
     "text": [
      "[[[82 79 66 56 81]\n",
      "  [ 4 25 38 65 80]\n",
      "  [ 8 46 27 10 58]]\n",
      "\n",
      " [[26 88 85 52 74]\n",
      "  [52 20 87 83 72]\n",
      "  [65 69 52 50 98]]]\n"
     ]
    }
   ],
   "source": [
    "# Method 3\n",
    "a = np.random.randint(100,size=(2,3,5))\n",
    "print(a)"
   ]
  },
  {
   "cell_type": "markdown",
   "metadata": {},
   "source": [
    "#### 4. Print *a*.\n"
   ]
  },
  {
   "cell_type": "code",
   "execution_count": 8,
   "metadata": {},
   "outputs": [
    {
     "name": "stdout",
     "output_type": "stream",
     "text": [
      "[[[82 79 66 56 81]\n",
      "  [ 4 25 38 65 80]\n",
      "  [ 8 46 27 10 58]]\n",
      "\n",
      " [[26 88 85 52 74]\n",
      "  [52 20 87 83 72]\n",
      "  [65 69 52 50 98]]]\n"
     ]
    }
   ],
   "source": [
    "# your code here\n",
    "print(a)"
   ]
  },
  {
   "cell_type": "markdown",
   "metadata": {},
   "source": [
    "#### 5. Create a 5x2x3 3-dimensional array with all values equaling 1. Assign the array to variable *b*."
   ]
  },
  {
   "cell_type": "code",
   "execution_count": 9,
   "metadata": {},
   "outputs": [],
   "source": [
    "# your code here\n",
    "b= np.ones((5,2,3))"
   ]
  },
  {
   "cell_type": "markdown",
   "metadata": {},
   "source": [
    "#### 6. Print *b*.\n"
   ]
  },
  {
   "cell_type": "code",
   "execution_count": 10,
   "metadata": {},
   "outputs": [
    {
     "name": "stdout",
     "output_type": "stream",
     "text": [
      "[[[1. 1. 1.]\n",
      "  [1. 1. 1.]]\n",
      "\n",
      " [[1. 1. 1.]\n",
      "  [1. 1. 1.]]\n",
      "\n",
      " [[1. 1. 1.]\n",
      "  [1. 1. 1.]]\n",
      "\n",
      " [[1. 1. 1.]\n",
      "  [1. 1. 1.]]\n",
      "\n",
      " [[1. 1. 1.]\n",
      "  [1. 1. 1.]]]\n"
     ]
    }
   ],
   "source": [
    "# your code here\n",
    "print(b)"
   ]
  },
  {
   "cell_type": "markdown",
   "metadata": {},
   "source": [
    "#### 7. Do *a* and *b* have the same size? How do you prove that in Python code?"
   ]
  },
  {
   "cell_type": "code",
   "execution_count": 11,
   "metadata": {},
   "outputs": [
    {
     "data": {
      "text/plain": [
       "True"
      ]
     },
     "execution_count": 11,
     "metadata": {},
     "output_type": "execute_result"
    }
   ],
   "source": [
    "# your code here\n",
    "np.size(a)== np.size(b)\n",
    "#yes, they do have the same size"
   ]
  },
  {
   "cell_type": "markdown",
   "metadata": {},
   "source": [
    "#### 8. Are you able to add *a* and *b*? Why or why not?\n"
   ]
  },
  {
   "cell_type": "code",
   "execution_count": 12,
   "metadata": {},
   "outputs": [
    {
     "ename": "ValueError",
     "evalue": "operands could not be broadcast together with shapes (2,3,5) (5,2,3) ",
     "output_type": "error",
     "traceback": [
      "\u001b[0;31m---------------------------------------------------------------------------\u001b[0m",
      "\u001b[0;31mValueError\u001b[0m                                Traceback (most recent call last)",
      "\u001b[0;32m<ipython-input-12-27aa07e9f3b6>\u001b[0m in \u001b[0;36m<module>\u001b[0;34m\u001b[0m\n\u001b[1;32m      2\u001b[0m \u001b[0;31m#No we can't, because they don't have the same shape\u001b[0m\u001b[0;34m\u001b[0m\u001b[0;34m\u001b[0m\u001b[0;34m\u001b[0m\u001b[0m\n\u001b[1;32m      3\u001b[0m \u001b[0;34m\u001b[0m\u001b[0m\n\u001b[0;32m----> 4\u001b[0;31m \u001b[0mprint\u001b[0m\u001b[0;34m(\u001b[0m\u001b[0mnp\u001b[0m\u001b[0;34m.\u001b[0m\u001b[0madd\u001b[0m\u001b[0;34m(\u001b[0m\u001b[0ma\u001b[0m\u001b[0;34m,\u001b[0m\u001b[0mb\u001b[0m\u001b[0;34m)\u001b[0m\u001b[0;34m)\u001b[0m\u001b[0;34m\u001b[0m\u001b[0;34m\u001b[0m\u001b[0m\n\u001b[0m",
      "\u001b[0;31mValueError\u001b[0m: operands could not be broadcast together with shapes (2,3,5) (5,2,3) "
     ]
    }
   ],
   "source": [
    "# your answer here\n",
    "#No we can't, because they don't have the same shape\n",
    "\n",
    "print(np.add(a,b))"
   ]
  },
  {
   "cell_type": "markdown",
   "metadata": {},
   "source": [
    "#### 9. Transpose *b* so that it has the same structure of *a* (i.e. become a 2x3x5 array). Assign the transposed array to variable *c*."
   ]
  },
  {
   "cell_type": "code",
   "execution_count": 13,
   "metadata": {},
   "outputs": [
    {
     "name": "stdout",
     "output_type": "stream",
     "text": [
      "(5, 2, 3)\n",
      "[[[1. 1. 1. 1. 1.]\n",
      "  [1. 1. 1. 1. 1.]\n",
      "  [1. 1. 1. 1. 1.]]\n",
      "\n",
      " [[1. 1. 1. 1. 1.]\n",
      "  [1. 1. 1. 1. 1.]\n",
      "  [1. 1. 1. 1. 1.]]]\n"
     ]
    }
   ],
   "source": [
    "# your code here\n",
    "print(b.shape)\n",
    "c = np.transpose(b,(1,2,0))\n",
    "\n",
    "print(c)"
   ]
  },
  {
   "cell_type": "markdown",
   "metadata": {},
   "source": [
    "#### 10. Try to add *a* and *c*. Now it should work. Assign the sum to variable *d*. But why does it work now?"
   ]
  },
  {
   "cell_type": "code",
   "execution_count": 14,
   "metadata": {},
   "outputs": [
    {
     "name": "stdout",
     "output_type": "stream",
     "text": [
      "[[[83. 80. 67. 57. 82.]\n",
      "  [ 5. 26. 39. 66. 81.]\n",
      "  [ 9. 47. 28. 11. 59.]]\n",
      "\n",
      " [[27. 89. 86. 53. 75.]\n",
      "  [53. 21. 88. 84. 73.]\n",
      "  [66. 70. 53. 51. 99.]]]\n"
     ]
    }
   ],
   "source": [
    "# your code/answer here\n",
    "d = np.add(a,c)\n",
    "print(d)\n",
    "\n",
    "#because they have the same shape"
   ]
  },
  {
   "cell_type": "markdown",
   "metadata": {},
   "source": [
    "#### 11. Print *a* and *d*. Notice the difference and relation of the two array in terms of the values? Explain."
   ]
  },
  {
   "cell_type": "code",
   "execution_count": 15,
   "metadata": {},
   "outputs": [
    {
     "name": "stdout",
     "output_type": "stream",
     "text": [
      "a: [[[82 79 66 56 81]\n",
      "  [ 4 25 38 65 80]\n",
      "  [ 8 46 27 10 58]]\n",
      "\n",
      " [[26 88 85 52 74]\n",
      "  [52 20 87 83 72]\n",
      "  [65 69 52 50 98]]]\n",
      "\n",
      "d: [[[83. 80. 67. 57. 82.]\n",
      "  [ 5. 26. 39. 66. 81.]\n",
      "  [ 9. 47. 28. 11. 59.]]\n",
      "\n",
      " [[27. 89. 86. 53. 75.]\n",
      "  [53. 21. 88. 84. 73.]\n",
      "  [66. 70. 53. 51. 99.]]]\n"
     ]
    }
   ],
   "source": [
    "# your code/answer here\n",
    "print('a:',a)\n",
    "print()\n",
    "print('d:',d)\n",
    "\n",
    "# the array d is equal to elements of array +1 because the array b \n",
    "#(which gives c, which adds to a) has only '1' values in it = identity matrix\n"
   ]
  },
  {
   "cell_type": "markdown",
   "metadata": {},
   "source": [
    "#### 12. Multiply *a* and *c*. Assign the result to *e*."
   ]
  },
  {
   "cell_type": "code",
   "execution_count": 16,
   "metadata": {},
   "outputs": [
    {
     "name": "stdout",
     "output_type": "stream",
     "text": [
      "[[[82. 79. 66. 56. 81.]\n",
      "  [ 4. 25. 38. 65. 80.]\n",
      "  [ 8. 46. 27. 10. 58.]]\n",
      "\n",
      " [[26. 88. 85. 52. 74.]\n",
      "  [52. 20. 87. 83. 72.]\n",
      "  [65. 69. 52. 50. 98.]]]\n"
     ]
    }
   ],
   "source": [
    "# your code here\n",
    "e = np.multiply(a,c)\n",
    "print(e)"
   ]
  },
  {
   "cell_type": "markdown",
   "metadata": {},
   "source": [
    "#### 13. Does *e* equal to *a*? Why or why not?\n"
   ]
  },
  {
   "cell_type": "code",
   "execution_count": 17,
   "metadata": {},
   "outputs": [
    {
     "data": {
      "text/plain": [
       "True"
      ]
     },
     "execution_count": 17,
     "metadata": {},
     "output_type": "execute_result"
    }
   ],
   "source": [
    "# your code/answer here\n",
    "# I found two ways of doing this:\n",
    "\n",
    "# compare_arrays = a==e\n",
    "# comparison = compare_arrays.all()\n",
    "# print(comparison)  #--> this also gives True\n",
    "\n",
    "np.array_equal(a,e)\n",
    "#yes because array 1 has only '1' values in it"
   ]
  },
  {
   "cell_type": "markdown",
   "metadata": {},
   "source": [
    "#### 14. Identify the max, min, and mean values in *d*. Assign those values to variables *d_max*, *d_min* and *d_mean*."
   ]
  },
  {
   "cell_type": "code",
   "execution_count": 18,
   "metadata": {},
   "outputs": [
    {
     "name": "stdout",
     "output_type": "stream",
     "text": [
      "99.0\n",
      "5.0\n",
      "57.6\n"
     ]
    }
   ],
   "source": [
    "# your code here\n",
    "d_max = np.amax(d)\n",
    "print(d_max)\n",
    "d_min = np.amin(d)\n",
    "print(d_min)\n",
    "d_mean = np.mean(d)\n",
    "print(d_mean)"
   ]
  },
  {
   "cell_type": "markdown",
   "metadata": {},
   "source": [
    "#### 15. Now we want to label the values in *d*. First create an empty array *f* with the same shape (i.e. 2x3x5) as *d* using `np.empty`.\n"
   ]
  },
  {
   "cell_type": "code",
   "execution_count": 19,
   "metadata": {},
   "outputs": [
    {
     "name": "stdout",
     "output_type": "stream",
     "text": [
      "[[[82. 79. 66. 56. 81.]\n",
      "  [ 4. 25. 38. 65. 80.]\n",
      "  [ 8. 46. 27. 10. 58.]]\n",
      "\n",
      " [[26. 88. 85. 52. 74.]\n",
      "  [52. 20. 87. 83. 72.]\n",
      "  [65. 69. 52. 50. 98.]]]\n"
     ]
    }
   ],
   "source": [
    "# your code here\n",
    "f = np.empty((2,3,5))\n",
    "print(f)"
   ]
  },
  {
   "cell_type": "markdown",
   "metadata": {},
   "source": [
    "#### 16. Populate the values in *f*. \n",
    "\n",
    "For each value in *d*, if it's larger than *d_min* but smaller than *d_mean*, assign 25 to the corresponding value in *f*. If a value in *d* is larger than *d_mean* but smaller than *d_max*, assign 75 to the corresponding value in *f*. If a value equals to *d_mean*, assign 50 to the corresponding value in *f*. Assign 0 to the corresponding value(s) in *f* for *d_min* in *d*. Assign 100 to the corresponding value(s) in *f* for *d_max* in *d*. In the end, f should have only the following values: 0, 25, 50, 75, and 100.\n",
    "\n",
    "**Note**: you don't have to use Numpy in this question."
   ]
  },
  {
   "cell_type": "code",
   "execution_count": 20,
   "metadata": {},
   "outputs": [
    {
     "name": "stdout",
     "output_type": "stream",
     "text": [
      "(2, 3, 5)\n",
      "[[[ 75.  75.  75.  25.  75.]\n",
      "  [  0.  25.  25.  75.  75.]\n",
      "  [ 25.  25.  25.  25.  75.]]\n",
      "\n",
      " [[ 25.  75.  75.  25.  75.]\n",
      "  [ 25.  25.  75.  75.  75.]\n",
      "  [ 75.  75.  25.  25. 100.]]]\n"
     ]
    }
   ],
   "source": [
    "# @Erin, I had trouble with indexing in an array thanks for your help :-)\n",
    "print(d.shape)\n",
    "# your code here\n",
    "\n",
    "for d0 in range(d.shape[0]):\n",
    "    for d1 in range(d.shape[1]):\n",
    "        for d2 in range(d.shape[2]):\n",
    "            if d[d0][d1][d2] > d_min and d[d0][d1][d2] < d_mean:\n",
    "                 f[d0][d1][d2] = 25\n",
    "            elif d[d0][d1][d2] < d_max and d[d0][d1][d2] > d_mean:\n",
    "                 f[d0][d1][d2] = 75\n",
    "            elif d[d0][d1][d2] == d_min:\n",
    "                f[d0][d1][d2] = 0\n",
    "            elif d[d0][d1][d2] == d_mean:\n",
    "                f[d0][d1][d2] = 50\n",
    "            elif d[d0][d1][d2] == d_max:\n",
    "                f[d0][d1][d2] = 100\n",
    "\n",
    "print(f)"
   ]
  },
  {
   "cell_type": "markdown",
   "metadata": {},
   "source": [
    "#### 17. Print *d* and *f*. Do you have your expected *f*?\n",
    "For instance, if your *d* is:\n",
    "```python\n",
    "[[[1.85836099, 1.67064465, 1.62576044, 1.40243961, 1.88454931],\n",
    "[1.75354326, 1.69403643, 1.36729252, 1.61415071, 1.12104981],\n",
    "[1.72201435, 1.1862918 , 1.87078449, 1.7726778 , 1.88180042]],\n",
    "[[1.44747908, 1.31673383, 1.02000951, 1.52218947, 1.97066381],\n",
    "[1.79129243, 1.74983003, 1.96028037, 1.85166831, 1.65450881],\n",
    "[1.18068344, 1.9587381 , 1.00656599, 1.93402165, 1.73514584]]]\n",
    "```\n",
    "Your *f* should be:\n",
    "```python\n",
    "[[[ 75.,  75.,  75.,  25.,  75.],\n",
    "[ 75.,  75.,  25.,  25.,  25.],\n",
    "[ 75.,  25.,  75.,  75.,  75.]],\n",
    "[[ 25.,  25.,  25.,  25., 100.],\n",
    "[ 75.,  75.,  75.,  75.,  75.],\n",
    "[ 25.,  75.,   0.,  75.,  75.]]]\n",
    "```"
   ]
  },
  {
   "cell_type": "code",
   "execution_count": 21,
   "metadata": {},
   "outputs": [
    {
     "name": "stdout",
     "output_type": "stream",
     "text": [
      "[[[83. 80. 67. 57. 82.]\n",
      "  [ 5. 26. 39. 66. 81.]\n",
      "  [ 9. 47. 28. 11. 59.]]\n",
      "\n",
      " [[27. 89. 86. 53. 75.]\n",
      "  [53. 21. 88. 84. 73.]\n",
      "  [66. 70. 53. 51. 99.]]]\n",
      "***\n",
      "[[[ 75.  75.  75.  25.  75.]\n",
      "  [  0.  25.  25.  75.  75.]\n",
      "  [ 25.  25.  25.  25.  75.]]\n",
      "\n",
      " [[ 25.  75.  75.  25.  75.]\n",
      "  [ 25.  25.  75.  75.  75.]\n",
      "  [ 75.  75.  25.  25. 100.]]]\n"
     ]
    }
   ],
   "source": [
    "# your code here\n",
    "print(d)\n",
    "print ('***')\n",
    "print(f)\n",
    "\n",
    "#Yes, because none of the numbers in d have a value == d-mean\n"
   ]
  },
  {
   "cell_type": "markdown",
   "metadata": {},
   "source": [
    "#### 18. Bonus question: instead of using numbers (i.e. 0, 25, 50, 75, and 100), use string values  (\"A\", \"B\", \"C\", \"D\", and \"E\") to label the array elements. For the example above, the expected result is:\n",
    "\n",
    "```python\n",
    "[[[ 'D',  'D',  'D',  'B',  'D'],\n",
    "[ 'D',  'D',  'B',  'B',  'B'],\n",
    "[ 'D',  'B',  'D',  'D',  'D']],\n",
    "[[ 'B',  'B',  'B',  'B',  'E'],\n",
    "[ 'D',  'D',  'D',  'D',  'D'],\n",
    "[ 'B',  'D',   'A',  'D', 'D']]]\n",
    "```\n",
    "**Note**: you don't have to use Numpy in this question."
   ]
  },
  {
   "cell_type": "code",
   "execution_count": 22,
   "metadata": {},
   "outputs": [
    {
     "name": "stdout",
     "output_type": "stream",
     "text": [
      "[[['D' 'D' 'D' 'B' 'D']\n",
      "  ['A' 'B' 'B' 'D' 'D']\n",
      "  ['B' 'B' 'B' 'B' 'D']]\n",
      "\n",
      " [['B' 'D' 'D' 'B' 'D']\n",
      "  ['B' 'B' 'D' 'D' 'D']\n",
      "  ['D' 'D' 'B' 'B' 'E']]]\n"
     ]
    }
   ],
   "source": [
    "# your code here \n",
    "f = f.astype('object') #allows to acept any type of data in the array\n",
    "\n",
    "for d0 in range(d.shape[0]):\n",
    "    for d1 in range(d.shape[1]):\n",
    "        for d2 in range(d.shape[2]):\n",
    "            if d[d0][d1][d2] > d_min and d[d0][d1][d2] < d_mean:\n",
    "                 f[d0][d1][d2] = 'B'\n",
    "            elif d[d0][d1][d2] < d_max and d[d0][d1][d2] > d_mean:\n",
    "                 f[d0][d1][d2] = 'D'\n",
    "            elif d[d0][d1][d2] == d_min:\n",
    "                f[d0][d1][d2] = 'A'\n",
    "            elif d[d0][d1][d2] == d_mean:\n",
    "                f[d0][d1][d2] = 'C'\n",
    "            elif d[d0][d1][d2] == d_max:\n",
    "                f[d0][d1][d2] = 'E'\n",
    "                \n",
    "print(f)"
   ]
  },
  {
   "cell_type": "code",
   "execution_count": null,
   "metadata": {},
   "outputs": [],
   "source": []
  }
 ],
 "metadata": {
  "kernelspec": {
   "display_name": "Python 3",
   "language": "python",
   "name": "python3"
  },
  "language_info": {
   "codemirror_mode": {
    "name": "ipython",
    "version": 3
   },
   "file_extension": ".py",
   "mimetype": "text/x-python",
   "name": "python",
   "nbconvert_exporter": "python",
   "pygments_lexer": "ipython3",
   "version": "3.8.6"
  }
 },
 "nbformat": 4,
 "nbformat_minor": 2
}
