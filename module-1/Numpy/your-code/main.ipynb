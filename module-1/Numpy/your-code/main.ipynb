{
 "cells": [
  {
   "cell_type": "markdown",
   "metadata": {},
   "source": [
    "# Introduction to NumPy\n",
    "\n",
    "\n",
    "#### 1. Import NumPy under the name np."
   ]
  },
  {
   "cell_type": "code",
   "execution_count": 1,
   "metadata": {},
   "outputs": [],
   "source": [
    "# your code here\n",
    "import numpy as np"
   ]
  },
  {
   "cell_type": "markdown",
   "metadata": {},
   "source": [
    "#### 2. Print your NumPy version."
   ]
  },
  {
   "cell_type": "code",
   "execution_count": 2,
   "metadata": {},
   "outputs": [
    {
     "name": "stdout",
     "output_type": "stream",
     "text": [
      "1.19.2\n"
     ]
    }
   ],
   "source": [
    "# your code here\n",
    "print(np.__version__)"
   ]
  },
  {
   "cell_type": "markdown",
   "metadata": {},
   "source": [
    "#### 3. Generate a 2x3x5 3-dimensional array with random values. Assign the array to variable *a*.\n",
    "**Challenge**: there are at least three easy ways that use numpy to generate random arrays. How many ways can you find?"
   ]
  },
  {
   "cell_type": "code",
   "execution_count": 3,
   "metadata": {},
   "outputs": [
    {
     "name": "stdout",
     "output_type": "stream",
     "text": [
      "[[[0.43318463 0.64317197 0.27332492 0.18496334 0.89982614]\n",
      "  [0.1743553  0.06752191 0.32559531 0.9818529  0.9801889 ]\n",
      "  [0.84777149 0.98994129 0.03266502 0.33213492 0.76319531]]\n",
      "\n",
      " [[0.43994108 0.07085158 0.34109148 0.04826315 0.15874395]\n",
      "  [0.48153934 0.89438708 0.3771589  0.56305097 0.96393437]\n",
      "  [0.23411865 0.70851389 0.59777108 0.90620506 0.64417215]]]\n"
     ]
    }
   ],
   "source": [
    "# Method 1\n",
    "a = np.random.random((2,3,5))\n",
    "print(a)"
   ]
  },
  {
   "cell_type": "code",
   "execution_count": 4,
   "metadata": {},
   "outputs": [
    {
     "name": "stdout",
     "output_type": "stream",
     "text": [
      "[[[0.82176625 0.45656677 0.77586642 0.11653796 0.46719349]\n",
      "  [0.49765179 0.50976332 0.3326838  0.47775482 0.80449873]\n",
      "  [0.99585569 0.45968088 0.35312257 0.47078166 0.80934315]]\n",
      "\n",
      " [[0.01589082 0.40100642 0.53217982 0.47165175 0.49924638]\n",
      "  [0.51316939 0.49795739 0.41436397 0.18025941 0.07305837]\n",
      "  [0.34314545 0.97235349 0.67149943 0.63142751 0.62507392]]]\n"
     ]
    }
   ],
   "source": [
    "# Method 2\n",
    "a = np.random.rand(2,3,5)\n",
    "print(a)"
   ]
  },
  {
   "cell_type": "code",
   "execution_count": 5,
   "metadata": {},
   "outputs": [
    {
     "name": "stdout",
     "output_type": "stream",
     "text": [
      "[[[15 55 24 48 21]\n",
      "  [63 85 80 14 39]\n",
      "  [91 75 75 77 21]]\n",
      "\n",
      " [[81 40 26 94 63]\n",
      "  [28 45  5 45 77]\n",
      "  [22 30 35  7 45]]]\n"
     ]
    }
   ],
   "source": [
    "# Method 3\n",
    "a = np.random.randint(100,size=(2,3,5))\n",
    "print(a)"
   ]
  },
  {
   "cell_type": "markdown",
   "metadata": {},
   "source": [
    "#### 4. Print *a*.\n"
   ]
  },
  {
   "cell_type": "code",
   "execution_count": 6,
   "metadata": {},
   "outputs": [
    {
     "name": "stdout",
     "output_type": "stream",
     "text": [
      "[[[15 55 24 48 21]\n",
      "  [63 85 80 14 39]\n",
      "  [91 75 75 77 21]]\n",
      "\n",
      " [[81 40 26 94 63]\n",
      "  [28 45  5 45 77]\n",
      "  [22 30 35  7 45]]]\n"
     ]
    }
   ],
   "source": [
    "# your code here\n",
    "print(a)"
   ]
  },
  {
   "cell_type": "markdown",
   "metadata": {},
   "source": [
    "#### 5. Create a 5x2x3 3-dimensional array with all values equaling 1. Assign the array to variable *b*."
   ]
  },
  {
   "cell_type": "code",
   "execution_count": 7,
   "metadata": {},
   "outputs": [],
   "source": [
    "# your code here\n",
    "b= np.ones((5,2,3))"
   ]
  },
  {
   "cell_type": "markdown",
   "metadata": {},
   "source": [
    "#### 6. Print *b*.\n"
   ]
  },
  {
   "cell_type": "code",
   "execution_count": 8,
   "metadata": {},
   "outputs": [
    {
     "name": "stdout",
     "output_type": "stream",
     "text": [
      "[[[1. 1. 1.]\n",
      "  [1. 1. 1.]]\n",
      "\n",
      " [[1. 1. 1.]\n",
      "  [1. 1. 1.]]\n",
      "\n",
      " [[1. 1. 1.]\n",
      "  [1. 1. 1.]]\n",
      "\n",
      " [[1. 1. 1.]\n",
      "  [1. 1. 1.]]\n",
      "\n",
      " [[1. 1. 1.]\n",
      "  [1. 1. 1.]]]\n"
     ]
    }
   ],
   "source": [
    "# your code here\n",
    "print(b)"
   ]
  },
  {
   "cell_type": "markdown",
   "metadata": {},
   "source": [
    "#### 7. Do *a* and *b* have the same size? How do you prove that in Python code?"
   ]
  },
  {
   "cell_type": "code",
   "execution_count": 9,
   "metadata": {},
   "outputs": [
    {
     "data": {
      "text/plain": [
       "False"
      ]
     },
     "execution_count": 9,
     "metadata": {},
     "output_type": "execute_result"
    }
   ],
   "source": [
    "# your code here\n",
    "np.shape(a)== np.shape(b)\n",
    "#no, they don't have the same size"
   ]
  },
  {
   "cell_type": "markdown",
   "metadata": {},
   "source": [
    "#### 8. Are you able to add *a* and *b*? Why or why not?\n"
   ]
  },
  {
   "cell_type": "code",
   "execution_count": 23,
   "metadata": {},
   "outputs": [
    {
     "ename": "ValueError",
     "evalue": "operands could not be broadcast together with shapes (2,3,5) (5,2,3) ",
     "output_type": "error",
     "traceback": [
      "\u001b[0;31m---------------------------------------------------------------------------\u001b[0m",
      "\u001b[0;31mValueError\u001b[0m                                Traceback (most recent call last)",
      "\u001b[0;32m<ipython-input-23-e88da15034a6>\u001b[0m in \u001b[0;36m<module>\u001b[0;34m\u001b[0m\n\u001b[1;32m      2\u001b[0m \u001b[0;31m#No we can't, because they don't have the same size\u001b[0m\u001b[0;34m\u001b[0m\u001b[0;34m\u001b[0m\u001b[0;34m\u001b[0m\u001b[0m\n\u001b[1;32m      3\u001b[0m \u001b[0;34m\u001b[0m\u001b[0m\n\u001b[0;32m----> 4\u001b[0;31m \u001b[0mprint\u001b[0m\u001b[0;34m(\u001b[0m\u001b[0mnp\u001b[0m\u001b[0;34m.\u001b[0m\u001b[0madd\u001b[0m\u001b[0;34m(\u001b[0m\u001b[0ma\u001b[0m\u001b[0;34m,\u001b[0m\u001b[0mb\u001b[0m\u001b[0;34m)\u001b[0m\u001b[0;34m)\u001b[0m\u001b[0;34m\u001b[0m\u001b[0;34m\u001b[0m\u001b[0m\n\u001b[0m",
      "\u001b[0;31mValueError\u001b[0m: operands could not be broadcast together with shapes (2,3,5) (5,2,3) "
     ]
    }
   ],
   "source": [
    "# your answer here\n",
    "#No we can't, because they don't have the same size\n",
    "\n",
    "print(np.add(a,b))"
   ]
  },
  {
   "cell_type": "markdown",
   "metadata": {},
   "source": [
    "#### 9. Transpose *b* so that it has the same structure of *a* (i.e. become a 2x3x5 array). Assign the transposed array to variable *c*."
   ]
  },
  {
   "cell_type": "code",
   "execution_count": 25,
   "metadata": {},
   "outputs": [
    {
     "name": "stdout",
     "output_type": "stream",
     "text": [
      "(5, 2, 3)\n",
      "[[[1. 1. 1. 1. 1.]\n",
      "  [1. 1. 1. 1. 1.]\n",
      "  [1. 1. 1. 1. 1.]]\n",
      "\n",
      " [[1. 1. 1. 1. 1.]\n",
      "  [1. 1. 1. 1. 1.]\n",
      "  [1. 1. 1. 1. 1.]]]\n"
     ]
    }
   ],
   "source": [
    "# your code here\n",
    "print(b.shape)\n",
    "c = np.transpose(b,(1,2,0))\n",
    "\n",
    "print(c)"
   ]
  },
  {
   "cell_type": "markdown",
   "metadata": {},
   "source": [
    "#### 10. Try to add *a* and *c*. Now it should work. Assign the sum to variable *d*. But why does it work now?"
   ]
  },
  {
   "cell_type": "code",
   "execution_count": 18,
   "metadata": {},
   "outputs": [
    {
     "name": "stdout",
     "output_type": "stream",
     "text": [
      "[[[16. 56. 25. 49. 22.]\n",
      "  [64. 86. 81. 15. 40.]\n",
      "  [92. 76. 76. 78. 22.]]\n",
      "\n",
      " [[82. 41. 27. 95. 64.]\n",
      "  [29. 46.  6. 46. 78.]\n",
      "  [23. 31. 36.  8. 46.]]]\n"
     ]
    }
   ],
   "source": [
    "# your code/answer here\n",
    "d = np.add(a,c)\n",
    "print(d)\n",
    "\n",
    "#becaus they have the same shape"
   ]
  },
  {
   "cell_type": "markdown",
   "metadata": {},
   "source": [
    "#### 11. Print *a* and *d*. Notice the difference and relation of the two array in terms of the values? Explain."
   ]
  },
  {
   "cell_type": "code",
   "execution_count": 20,
   "metadata": {},
   "outputs": [
    {
     "name": "stdout",
     "output_type": "stream",
     "text": [
      "a: [[[15 55 24 48 21]\n",
      "  [63 85 80 14 39]\n",
      "  [91 75 75 77 21]]\n",
      "\n",
      " [[81 40 26 94 63]\n",
      "  [28 45  5 45 77]\n",
      "  [22 30 35  7 45]]]\n",
      "\n",
      "d: [[[16. 56. 25. 49. 22.]\n",
      "  [64. 86. 81. 15. 40.]\n",
      "  [92. 76. 76. 78. 22.]]\n",
      "\n",
      " [[82. 41. 27. 95. 64.]\n",
      "  [29. 46.  6. 46. 78.]\n",
      "  [23. 31. 36.  8. 46.]]]\n"
     ]
    }
   ],
   "source": [
    "# your code/answer here\n",
    "print('a:',a)\n",
    "print()\n",
    "print('d:',d)\n",
    "\n",
    "# the array d is equal to elements of array +1 because the array b \n",
    "#(which gives c, which adds to a) has only '1' values in it\n"
   ]
  },
  {
   "cell_type": "markdown",
   "metadata": {},
   "source": [
    "#### 12. Multiply *a* and *c*. Assign the result to *e*."
   ]
  },
  {
   "cell_type": "code",
   "execution_count": 22,
   "metadata": {},
   "outputs": [
    {
     "name": "stdout",
     "output_type": "stream",
     "text": [
      "[[[15. 55. 24. 48. 21.]\n",
      "  [63. 85. 80. 14. 39.]\n",
      "  [91. 75. 75. 77. 21.]]\n",
      "\n",
      " [[81. 40. 26. 94. 63.]\n",
      "  [28. 45.  5. 45. 77.]\n",
      "  [22. 30. 35.  7. 45.]]]\n"
     ]
    }
   ],
   "source": [
    "# your code here\n",
    "e = np.multiply(a,c)\n",
    "print(e)"
   ]
  },
  {
   "cell_type": "markdown",
   "metadata": {},
   "source": [
    "#### 13. Does *e* equal to *a*? Why or why not?\n"
   ]
  },
  {
   "cell_type": "code",
   "execution_count": 27,
   "metadata": {},
   "outputs": [
    {
     "name": "stdout",
     "output_type": "stream",
     "text": [
      "True\n"
     ]
    }
   ],
   "source": [
    "# your code/answer here\n",
    "compare_arrays = a==e\n",
    "comparison = compare_arrays.all()\n",
    "print(comparison)\n",
    "\n",
    "#yes because array 1 has only '1' values in it"
   ]
  },
  {
   "cell_type": "markdown",
   "metadata": {},
   "source": [
    "#### 14. Identify the max, min, and mean values in *d*. Assign those values to variables *d_max*, *d_min* and *d_mean*."
   ]
  },
  {
   "cell_type": "code",
   "execution_count": 32,
   "metadata": {},
   "outputs": [
    {
     "name": "stdout",
     "output_type": "stream",
     "text": [
      "95.0\n",
      "6.0\n",
      "48.53333333333333\n"
     ]
    }
   ],
   "source": [
    "# your code here\n",
    "d_max = np.amax(d)\n",
    "print(d_max)\n",
    "d_min = np.amin(d)\n",
    "print(d_min)\n",
    "d_mean = np.mean(d)\n",
    "print(d_mean)"
   ]
  },
  {
   "cell_type": "markdown",
   "metadata": {},
   "source": [
    "#### 15. Now we want to label the values in *d*. First create an empty array *f* with the same shape (i.e. 2x3x5) as *d* using `np.empty`.\n"
   ]
  },
  {
   "cell_type": "code",
   "execution_count": 33,
   "metadata": {},
   "outputs": [
    {
     "name": "stdout",
     "output_type": "stream",
     "text": [
      "[[[1. 1. 1. 1. 1.]\n",
      "  [1. 1. 1. 1. 1.]\n",
      "  [1. 1. 1. 1. 1.]]\n",
      "\n",
      " [[1. 1. 1. 1. 1.]\n",
      "  [1. 1. 1. 1. 1.]\n",
      "  [1. 1. 1. 1. 1.]]]\n"
     ]
    }
   ],
   "source": [
    "# your code here\n",
    "f = np.empty((2,3,5))\n",
    "print(f)"
   ]
  },
  {
   "cell_type": "markdown",
   "metadata": {},
   "source": [
    "#### 16. Populate the values in *f*. \n",
    "\n",
    "For each value in *d*, if it's larger than *d_min* but smaller than *d_mean*, assign 25 to the corresponding value in *f*. If a value in *d* is larger than *d_mean* but smaller than *d_max*, assign 75 to the corresponding value in *f*. If a value equals to *d_mean*, assign 50 to the corresponding value in *f*. Assign 0 to the corresponding value(s) in *f* for *d_min* in *d*. Assign 100 to the corresponding value(s) in *f* for *d_max* in *d*. In the end, f should have only the following values: 0, 25, 50, 75, and 100.\n",
    "\n",
    "**Note**: you don't have to use Numpy in this question."
   ]
  },
  {
   "cell_type": "code",
   "execution_count": null,
   "metadata": {},
   "outputs": [],
   "source": [
    "# your code here"
   ]
  },
  {
   "cell_type": "markdown",
   "metadata": {},
   "source": [
    "#### 17. Print *d* and *f*. Do you have your expected *f*?\n",
    "For instance, if your *d* is:\n",
    "```python\n",
    "[[[1.85836099, 1.67064465, 1.62576044, 1.40243961, 1.88454931],\n",
    "[1.75354326, 1.69403643, 1.36729252, 1.61415071, 1.12104981],\n",
    "[1.72201435, 1.1862918 , 1.87078449, 1.7726778 , 1.88180042]],\n",
    "[[1.44747908, 1.31673383, 1.02000951, 1.52218947, 1.97066381],\n",
    "[1.79129243, 1.74983003, 1.96028037, 1.85166831, 1.65450881],\n",
    "[1.18068344, 1.9587381 , 1.00656599, 1.93402165, 1.73514584]]]\n",
    "```\n",
    "Your *f* should be:\n",
    "```python\n",
    "[[[ 75.,  75.,  75.,  25.,  75.],\n",
    "[ 75.,  75.,  25.,  25.,  25.],\n",
    "[ 75.,  25.,  75.,  75.,  75.]],\n",
    "[[ 25.,  25.,  25.,  25., 100.],\n",
    "[ 75.,  75.,  75.,  75.,  75.],\n",
    "[ 25.,  75.,   0.,  75.,  75.]]]\n",
    "```"
   ]
  },
  {
   "cell_type": "code",
   "execution_count": null,
   "metadata": {},
   "outputs": [],
   "source": [
    "# your code here"
   ]
  },
  {
   "cell_type": "markdown",
   "metadata": {},
   "source": [
    "#### 18. Bonus question: instead of using numbers (i.e. 0, 25, 50, 75, and 100), use string values  (\"A\", \"B\", \"C\", \"D\", and \"E\") to label the array elements. For the example above, the expected result is:\n",
    "\n",
    "```python\n",
    "[[[ 'D',  'D',  'D',  'B',  'D'],\n",
    "[ 'D',  'D',  'B',  'B',  'B'],\n",
    "[ 'D',  'B',  'D',  'D',  'D']],\n",
    "[[ 'B',  'B',  'B',  'B',  'E'],\n",
    "[ 'D',  'D',  'D',  'D',  'D'],\n",
    "[ 'B',  'D',   'A',  'D', 'D']]]\n",
    "```\n",
    "**Note**: you don't have to use Numpy in this question."
   ]
  },
  {
   "cell_type": "code",
   "execution_count": null,
   "metadata": {},
   "outputs": [],
   "source": [
    "# your code here"
   ]
  }
 ],
 "metadata": {
  "kernelspec": {
   "display_name": "Python 3",
   "language": "python",
   "name": "python3"
  },
  "language_info": {
   "codemirror_mode": {
    "name": "ipython",
    "version": 3
   },
   "file_extension": ".py",
   "mimetype": "text/x-python",
   "name": "python",
   "nbconvert_exporter": "python",
   "pygments_lexer": "ipython3",
   "version": "3.8.6"
  }
 },
 "nbformat": 4,
 "nbformat_minor": 2
}
