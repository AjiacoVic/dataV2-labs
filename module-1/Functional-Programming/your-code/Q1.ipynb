{
 "cells": [
  {
   "cell_type": "markdown",
   "metadata": {},
   "source": [
    "In the cell below, create a Python function that wraps your previous solution for the Bag of Words lab.\n",
    "\n",
    "Requirements:\n",
    "\n",
    "1. Your function should accept the following parameters:\n",
    "    * `docs` [REQUIRED] - array of document paths.\n",
    "    * `stop_words` [OPTIONAL] - array of stop words. The default value is an empty array.\n",
    "\n",
    "1. Your function should return a Python object that contains the following:\n",
    "    * `bag_of_words` - array of strings of normalized unique words in the corpus.\n",
    "    * `term_freq` - array of the term-frequency vectors."
   ]
  },
  {
   "cell_type": "code",
   "execution_count": 79,
   "metadata": {},
   "outputs": [
    {
     "name": "stdout",
     "output_type": "stream",
     "text": [
      "{'bag_of_words': ['student', 'a', 'am', 'cool', 'love', 'is', 'i', 'at', 'ironhack'], 'term_freq': [[0, 0, 0, 1, 0, 1, 0, 0, 1], [0, 0, 0, 0, 1, 0, 1, 0, 1], [1, 1, 1, 0, 0, 0, 1, 1, 1]]}\n"
     ]
    }
   ],
   "source": [
    "# Import required libraries\n",
    "\n",
    "import re \n",
    "\n",
    "docs = ['Ironhack is cool!', 'I love Ironhack.','I am a student at Ironhack.']\n",
    "# Define function\n",
    "\n",
    "def get_bow_from_docs(docs, stop_words=[]):\n",
    "    \n",
    " # In the function, first define the variables you will use such as `corpus`, `bag_of_words`, and `term_freq`.   \n",
    "    \n",
    "    #adding intermediate-step lists in order to prepare the data for \"corpus\"\n",
    "    doc_sub1 = [re.sub('[,.!]','',doc.lower()) for doc in docs]\n",
    "    doc_sub2 = [doc1.split()for doc1 in doc_sub1]\n",
    "    \n",
    "    corpus = [d2 for doc2 in doc_sub2 for d2 in doc2]\n",
    "    \n",
    "    #adding words to bag_of_words and converting the list to set(make the values unique, then back to list\n",
    "    bag_of_words = list(set([word for word in corpus if word not in stop_words]))\n",
    "    \n",
    "    #defining term frequency \n",
    "    term_freq = []\n",
    "    \n",
    "    for item in doc_sub2:\n",
    "        term_freq_item =[]\n",
    "        for word in bag_of_words:\n",
    "            frq_word = item.count(word)\n",
    "            term_freq_item.append(frq_word)\n",
    "        term_freq.append(term_freq_item)\n",
    "        \n",
    "    \"\"\"\n",
    "        Loop `docs` and read the content of each doc into a string in `corpus`.\n",
    "        Remember to convert the doc content to lowercases and remove punctuation.\n",
    "        \"\"\"\n",
    "\n",
    "\n",
    "\n",
    "    \"\"\"\n",
    "        Loop `corpus`. Append the terms in each doc into the `bag_of_words` array. The terms in `bag_of_words` \n",
    "        should be unique which means before adding each term you need to check if it's already added to the array.\n",
    "        In addition, check if each term is in the `stop_words` array. Only append the term to `bag_of_words`\n",
    "        if it is not a stop word.\n",
    "        \"\"\"\n",
    "\n",
    "\n",
    "\n",
    "\n",
    "    \"\"\"\n",
    "        Loop `corpus` again. For each doc string, count the number of occurrences of each term in `bag_of_words`. \n",
    "        Create an array for each doc's term frequency and append it to `term_freq`.\n",
    "    \"\"\"\n",
    "\n",
    "\n",
    "    \n",
    "    # Now return your output as an object\n",
    "    return {\n",
    "        \"bag_of_words\": bag_of_words,\n",
    "        \"term_freq\": term_freq\n",
    "    }\n"
   ]
  },
  {
   "cell_type": "markdown",
   "metadata": {},
   "source": [
    "Test your function without stop words. You should see the output like below:\n",
    "\n",
    "```{'bag_of_words': ['ironhack', 'is', 'cool', 'i', 'love', 'am', 'a', 'student', 'at'], 'term_freq': [[1, 1, 1, 0, 0, 0, 0, 0, 0], [1, 0, 0, 1, 1, 0, 0, 0, 0], [1, 0, 0, 1, 0, 1, 1, 1, 1]]}```"
   ]
  },
  {
   "cell_type": "code",
   "execution_count": 80,
   "metadata": {},
   "outputs": [
    {
     "name": "stdout",
     "output_type": "stream",
     "text": [
      "{'bag_of_words': ['student', 'a', 'am', 'cool', 'love', 'is', 'i', 'at', 'ironhack'], 'term_freq': [[0, 0, 0, 1, 0, 1, 0, 0, 1], [0, 0, 0, 0, 1, 0, 1, 0, 1], [1, 1, 1, 0, 0, 0, 1, 1, 1]]}\n"
     ]
    }
   ],
   "source": [
    "# Define doc paths array\n",
    "docs = ['Ironhack is cool!', 'I love Ironhack.','I am a student at Ironhack.']\n",
    "\n",
    "# Obtain BoW from your function\n",
    "bow = get_bow_from_docs(docs)\n",
    "\n",
    "# Print BoW\n",
    "print(bow)"
   ]
  },
  {
   "cell_type": "markdown",
   "metadata": {},
   "source": [
    "If your attempt above is successful, nice work done!\n",
    "\n",
    "Now test your function again with the stop words. In the previous lab we defined the stop words in a large array. In this lab, we'll import the stop words from Scikit-Learn."
   ]
  },
  {
   "cell_type": "code",
   "execution_count": 87,
   "metadata": {},
   "outputs": [
    {
     "name": "stdout",
     "output_type": "stream",
     "text": [
      "Requirement already satisfied: sklearn in /usr/local/Cellar/jupyterlab/2.2.8/libexec/lib/python3.8/site-packages (0.0)\n",
      "Requirement already satisfied: scikit-learn in /usr/local/Cellar/jupyterlab/2.2.8/libexec/lib/python3.8/site-packages (from sklearn) (0.23.2)\n",
      "Requirement already satisfied: joblib>=0.11 in /usr/local/Cellar/jupyterlab/2.2.8/libexec/lib/python3.8/site-packages (from scikit-learn->sklearn) (0.17.0)\n",
      "Requirement already satisfied: threadpoolctl>=2.0.0 in /usr/local/Cellar/jupyterlab/2.2.8/libexec/lib/python3.8/site-packages (from scikit-learn->sklearn) (2.1.0)\n",
      "Requirement already satisfied: scipy>=0.19.1 in /usr/local/Cellar/jupyterlab/2.2.8/libexec/lib/python3.8/site-packages (from scikit-learn->sklearn) (1.5.2)\n",
      "Requirement already satisfied: numpy>=1.13.3 in /usr/local/Cellar/jupyterlab/2.2.8/libexec/lib/python3.8/site-packages (from scikit-learn->sklearn) (1.19.2)\n",
      "frozenset({'hers', 'and', 'noone', 'whereupon', 'hereafter', 'up', 'six', 'being', 'how', 'rather', 'though', 'then', 'whoever', 'except', 'move', 'seeming', 'your', 'interest', 'etc', 'beside', 'must', 'anywhere', 'we', 'him', 'afterwards', 'amoungst', 'empty', 'been', 'own', 'they', 'around', 'top', 'these', 'has', 'otherwise', 'indeed', 'most', 'thru', 'me', 'find', 'is', 'due', 'twelve', 'myself', 'thick', 'former', 'who', 'whereby', 'sometime', 'latterly', 'detail', 'often', 'therein', 'cry', 'namely', 'becoming', 'seem', 'somehow', 'go', 'bill', 'beforehand', 'several', 'by', 'give', 'get', 'out', 'or', 'put', 'cant', 'become', 'so', 'a', 'forty', 'name', 'mostly', 'towards', 'fire', 'he', 'one', 'fifty', 'after', 'when', 'seems', 'nobody', 'of', 'itself', 'below', 'nothing', 'all', 'thereafter', 'as', 'during', 'whatever', 'until', 'few', 'please', 'never', 'anyhow', 'those', 'anyway', 'even', 'see', 'beyond', 'against', 'becomes', 'others', 'above', 'while', 'hasnt', 'you', 'under', 'whole', 'if', 'ie', 'side', 'hundred', 'between', 'nor', 'system', 'only', 'the', 'yourselves', 'have', 'off', 'whenever', 'latter', 'do', 'because', 'would', 'part', 'his', 'too', 'ourselves', 'couldnt', 'yet', 'became', 'both', 'bottom', 'into', 'could', 'upon', 'found', 'to', 'am', 'than', 'had', 'mine', 'ten', 'along', 'such', 'sometimes', 'next', 'will', 'might', 'three', 'what', 'back', 're', 'behind', 'ltd', 'none', 'more', 'take', 'per', 'done', 'other', 'whence', 'once', 'before', 'herein', 'either', 'herself', 'everything', 'thin', 'again', 'which', 'another', 'meanwhile', 'sincere', 'among', 'not', 'full', 'somewhere', 'are', 'very', 'onto', 'together', 'yourself', 'cannot', 'thereby', 'seemed', 'our', 'un', 'however', 'still', 'thence', 'since', 'mill', 'elsewhere', 'anyone', 'third', 'whereas', 'call', 'an', 'here', 'fill', 'twenty', 'therefore', 'eg', 'thereupon', 'everywhere', 'throughout', 'show', 'ours', 'someone', 'without', 'wherein', 'hereupon', 'this', 'it', 'co', 'nowhere', 'can', 'down', 'why', 'everyone', 'front', 'her', 'eight', 'de', 'last', 'whereafter', 'some', 'in', 'five', 'formerly', 'whose', 'with', 'always', 'via', 'she', 'whither', 'else', 'something', 'besides', 'although', 'across', 'any', 'well', 'every', 'be', 'for', 'fifteen', 'anything', 'each', 'describe', 'first', 'on', 'ever', 'perhaps', 'should', 'now', 'hence', 'many', 'moreover', 'four', 'but', 'further', 'already', 'amount', 'i', 'keep', 'sixty', 'enough', 'two', 'nine', 'con', 'there', 'from', 'inc', 'its', 'yours', 'my', 'through', 'was', 'themselves', 'them', 'their', 'also', 'that', 'us', 'whether', 'no', 'eleven', 'neither', 'nevertheless', 'where', 'less', 'made', 'thus', 'himself', 'over', 'were', 'serious', 'almost', 'within', 'alone', 'toward', 'amongst', 'same', 'hereby', 'least', 'much', 'may', 'wherever', 'about', 'whom', 'at'})\n"
     ]
    }
   ],
   "source": [
    "import sys\n",
    "!{sys.executable} -m pip install sklearn\n",
    "\n",
    "from sklearn.feature_extraction import stop_words\n",
    "print(stop_words.ENGLISH_STOP_WORDS)"
   ]
  },
  {
   "cell_type": "markdown",
   "metadata": {},
   "source": [
    "You should have seen a large list of words that looks like:\n",
    "\n",
    "```frozenset({'across', 'mine', 'cannot', ...})```\n",
    "\n",
    "`frozenset` is a type of Python object that is immutable. In this lab you can use it just like an array without conversion."
   ]
  },
  {
   "cell_type": "markdown",
   "metadata": {},
   "source": [
    "Next, test your function with supplying `stop_words.ENGLISH_STOP_WORDS` as the second parameter."
   ]
  },
  {
   "cell_type": "code",
   "execution_count": 90,
   "metadata": {},
   "outputs": [
    {
     "name": "stdout",
     "output_type": "stream",
     "text": [
      "{'bag_of_words': ['bag_of_words', 'term_freq'], 'term_freq': [[1, 0], [0, 1]]}\n"
     ]
    }
   ],
   "source": [
    "bow = get_bow_from_docs(bow, stop_words.ENGLISH_STOP_WORDS)\n",
    "\n",
    "print(bow)\n",
    "\n",
    "# I am not sure why the parameter should be bow intead of docs... If I change it to docs, it work-ish"
   ]
  },
  {
   "cell_type": "markdown",
   "metadata": {},
   "source": [
    "You should have seen:\n",
    "\n",
    "```{'bag_of_words': ['ironhack', 'cool', 'love', 'student'], 'term_freq': [[1, 1, 0, 0], [1, 0, 1, 0], [1, 0, 0, 1]]}```"
   ]
  },
  {
   "cell_type": "code",
   "execution_count": null,
   "metadata": {},
   "outputs": [],
   "source": []
  }
 ],
 "metadata": {
  "kernelspec": {
   "display_name": "Python 3",
   "language": "python",
   "name": "python3"
  },
  "language_info": {
   "codemirror_mode": {
    "name": "ipython",
    "version": 3
   },
   "file_extension": ".py",
   "mimetype": "text/x-python",
   "name": "python",
   "nbconvert_exporter": "python",
   "pygments_lexer": "ipython3",
   "version": "3.8.6"
  }
 },
 "nbformat": 4,
 "nbformat_minor": 2
}
