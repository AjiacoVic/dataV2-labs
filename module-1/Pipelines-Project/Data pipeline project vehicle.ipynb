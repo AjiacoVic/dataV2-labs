{
 "cells": [
  {
   "cell_type": "code",
   "execution_count": 1,
   "metadata": {},
   "outputs": [],
   "source": [
    "# import pandas as pd\n",
    "# import numpy as np"
   ]
  },
  {
   "cell_type": "code",
   "execution_count": 2,
   "metadata": {},
   "outputs": [],
   "source": [
    "# data = pd.read_csv('/Users/ajiacovic/Documents/data/vehicles/vehicles.csv')"
   ]
  },
  {
   "cell_type": "code",
   "execution_count": 3,
   "metadata": {},
   "outputs": [],
   "source": [
    "# year = 2016\n",
    "# filtered = data[data['Year']==year]"
   ]
  },
  {
   "cell_type": "code",
   "execution_count": 4,
   "metadata": {},
   "outputs": [],
   "source": [
    "# grouped = data.groupby(['Make']).agg({'Combined MPG': 'mean'}).reset_index()\n",
    "# results = grouped.sort_values('Combined MPG', ascending = False).head(10)"
   ]
  },
  {
   "cell_type": "code",
   "execution_count": 5,
   "metadata": {},
   "outputs": [],
   "source": [
    "# import matplotlib.pyplot as plt\n",
    "# import seaborn as sns"
   ]
  },
  {
   "cell_type": "code",
   "execution_count": 6,
   "metadata": {},
   "outputs": [],
   "source": [
    "# title = 'Top 10 Manufacturers by Fuel Efficiency' + str(year)\n",
    "\n",
    "# fig, ax = plt.subplots(figsize=(15,8))\n",
    "# barchart = sns.barplot(data=results, x='Make', y='Combined MPG')\n",
    "# plt.title(title + '\\n', fontsize=16)"
   ]
  },
  {
   "cell_type": "code",
   "execution_count": 7,
   "metadata": {},
   "outputs": [],
   "source": [
    "#Exporting\n",
    "\n",
    "# fig = barchart.get_figure()\n",
    "# fig.savefig(title + '.png')"
   ]
  },
  {
   "cell_type": "markdown",
   "metadata": {},
   "source": [
    "### automating this process\n"
   ]
  },
  {
   "cell_type": "code",
   "execution_count": 21,
   "metadata": {},
   "outputs": [],
   "source": [
    "import pandas as pd\n",
    "import matplotlib.pyplot as plt\n",
    "import seaborn as sns"
   ]
  },
  {
   "cell_type": "code",
   "execution_count": 22,
   "metadata": {},
   "outputs": [
    {
     "name": "stdout",
     "output_type": "stream",
     "text": [
      "Enter the year2016\n"
     ]
    }
   ],
   "source": [
    "#Global variables\n",
    "year = int(input('Enter the year'))\n",
    "title = 'Top 10 Manufacturers by Fuel Efficiency' + str(year)"
   ]
  },
  {
   "cell_type": "code",
   "execution_count": 23,
   "metadata": {},
   "outputs": [],
   "source": [
    "#Functions\n",
    "\n",
    "def acquire():\n",
    "    data = pd.read_csv('/Users/ajiacovic/Documents/data/vehicles/vehicles.csv')\n",
    "    return data\n",
    "\n",
    "def wrangle(data):\n",
    "    filtered = data[data['Year']==year]\n",
    "    return filtered\n",
    "\n",
    "def analysis(filtered):\n",
    "    grouped = data.groupby(['Make']).agg({'Combined MPG': 'mean'}).reset_index()\n",
    "    results = grouped.sort_values('Combined MPG', ascending = False).head(10)\n",
    "    return results\n",
    "\n",
    "def visualize(results):\n",
    "    fig, ax = plt.subplots(figsize=(15,8))\n",
    "    barchart = sns.barplot(data=results, x='Make', y='Combined MPG')\n",
    "    plt.title(title + '\\n', fontsize=16)\n",
    "    return barchart\n",
    "\n",
    "def save_viz(barchart):\n",
    "    fig = barchart.get_figure()\n",
    "    fig.savefig(title + '.png')\n",
    "\n"
   ]
  },
  {
   "cell_type": "code",
   "execution_count": 24,
   "metadata": {},
   "outputs": [],
   "source": [
    "# This statement should be added when there is code that we want \n",
    "# the Python interpreter to execute only when a script is run as the main program (not imported into another Python file)."
   ]
  },
  {
   "cell_type": "code",
   "execution_count": 25,
   "metadata": {},
   "outputs": [
    {
     "data": {
      "image/png": "[encoded data removed]",
      "text/plain": [
       "<Figure size 1080x576 with 1 Axes>"
      ]
     },
     "metadata": {
      "needs_background": "light"
     },
     "output_type": "display_data"
    }
   ],
   "source": [
    "if __name__ == '__main__':\n",
    "        data = acquire()\n",
    "        filtered = wrangle(data)\n",
    "        results = analysis(filtered)\n",
    "        barchart = visualize(results)\n",
    "        save_viz(barchart)"
   ]
  },
  {
   "cell_type": "code",
   "execution_count": null,
   "metadata": {},
   "outputs": [],
   "source": []
  }
 ],
 "metadata": {
  "kernelspec": {
   "display_name": "Python 3",
   "language": "python",
   "name": "python3"
  },
  "language_info": {
   "codemirror_mode": {
    "name": "ipython",
    "version": 3
   },
   "file_extension": ".py",
   "mimetype": "text/x-python",
   "name": "python",
   "nbconvert_exporter": "python",
   "pygments_lexer": "ipython3",
   "version": "3.8.6"
  }
 },
 "nbformat": 4,
 "nbformat_minor": 4
}
