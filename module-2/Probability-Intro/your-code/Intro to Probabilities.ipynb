{
 "cells": [
  {
   "cell_type": "markdown",
   "metadata": {},
   "source": [
    "# Introduction To Probability\n",
    "## Challenge 1\n",
    "\n",
    "A and B are events of a probability space with $(\\omega, \\sigma, P)$ such that $P(A) = 0.3$, $P(B) = 0.6$ and $P(A \\cap B) = 0.1$\n",
    "\n",
    "Which of the following statements are false?\n",
    "* $P(A \\cup B) = 0.6$\n",
    "* $P(A \\cap B^{C}) = 0.2$\n",
    "* $P(A \\cap (B \\cup B^{C})) = 0.4$\n",
    "* $P(A^{C} \\cap B^{C}) = 0.3$\n",
    "* $P((A \\cap B)^{C}) = 0.9$"
   ]
  },
  {
   "cell_type": "code",
   "execution_count": null,
   "metadata": {},
   "outputs": [],
   "source": [
    "\"\"\"\n",
    "To the power of C =it means Complement, so A-superscript-C means ‘not A’: all the outcomes that are not in the event A.\n",
    ":+1:\n",
    "1\n",
    "\n",
    "\n",
    "your solution here\n",
    "1) P(AUB)= 0.6+0.3-0.1 =0.8 not o.6 so, False\n",
    "2) P(A and BsupC) = P(A)- P(A and B)= 0.3-0.1=0.2 so, True!\n",
    "3) P(A and (B or BsupC)) = P(A) =0.3 not 0.4 so, False\n",
    "4) P(AsupC and BsupC) = 1-P(AorB) = 1-0.8 = 0.2 so, False\n",
    "5) P((A or B)supC) = 1-P(AndB) = 1-0.1 = 0.9 so, True! \n",
    "\n",
    "\n",
    "\"\"\""
   ]
  },
  {
   "cell_type": "markdown",
   "metadata": {},
   "source": [
    "## Challenge 2\n",
    "There is a box with 10 white balls, 12 red balls and 8 black balls. Calculate the probability of:\n",
    "* Taking a white ball out.\n",
    "* Taking a white ball out after taking a black ball out.\n",
    "* Taking a red ball out after taking a black and a red ball out.\n",
    "* Taking a red ball out after taking a black and a red ball out with reposition.\n",
    "\n",
    "**Hint**: Reposition means putting back the ball into the box after taking it out."
   ]
  },
  {
   "cell_type": "code",
   "execution_count": null,
   "metadata": {},
   "outputs": [],
   "source": [
    "\"\"\"\n",
    "your solution here\n",
    "\n",
    "1) white ball out = 10/30 = 1/3 = 0.333\n",
    "\n",
    "2) white ball out after black ball out \n",
    "    == P(ball2 = W & ball1=B) = P(ball2 =W|ball1 =B) * P(ball1 =black)\n",
    "    == P(ball2 = W & ball1=B) = 8/30*10/29 =0.09\n",
    "    \n",
    "3) Taking a red ball out after taking a black and a red ball out:\n",
    "    ==P(ball3 red & ball1-2 Black & red)= P(ball1black)*P(ball2red)*P(ball3red)\n",
    "                                        = 8/30 * 12/29 * 11/28 = 0.0433\n",
    "\n",
    "4) Taking a red ball out after taking a black and a red ball out with reposition.\n",
    "    ==8/30 * 12/30 * 12/30 = 0.042\n",
    "\n",
    "\n",
    "    \n",
    "\"\"\""
   ]
  },
  {
   "cell_type": "markdown",
   "metadata": {},
   "source": [
    "## Challenge 3\n",
    "\n",
    "You are planning to go on a picnic today but the morning is cloudy. You hate rain so you don't know whether to go out or stay home! To help you make a decision, you gather the following data about rainy days:\n",
    "\n",
    "* 50% of all rainy days start off cloudy!\n",
    "* Cloudy mornings are common. About 40% of days start cloudy. \n",
    "* This month is usually dry so only 3 of 30 days (10%) tend to be rainy. \n",
    "\n",
    "What is the chance of rain during the day?"
   ]
  },
  {
   "cell_type": "code",
   "execution_count": null,
   "metadata": {},
   "outputs": [],
   "source": [
    "\"\"\"\n",
    "your solution here\n",
    "Possibility of rain if day is cloudy = 0.5\n",
    "possibility of cloudy days = 0.4\n",
    "possibility of rain = 0.1\n",
    "\n",
    "a day can be cloudy or rainy (if I understood this ex. correctly) so:\n",
    "Possibility of day and rain is = possibility of rain if cloudy * possibility of rainy days \n",
    "                                    /possibility of cloudy days\n",
    "                               = 0.5 * 0.1 / 0.4 \n",
    "                               = 0.125  == 12.5%\n",
    "\"\"\""
   ]
  },
  {
   "cell_type": "markdown",
   "metadata": {},
   "source": [
    "## Challenge 4\n",
    "\n",
    "One thousand people were asked through a telephone survey whether they thought more street lighting is needed at night or not.\n",
    "\n",
    "Out of the 480 men that answered the survey, 324 said yes and 156 said no. On the other hand, out of the 520 women that answered, 351 said yes and 169 said no. \n",
    "\n",
    "We wonder if men and women have a different opinions about the street lighting matter. Is gender relevant or irrelevant to the question?\n",
    "\n",
    "Consider the following events:\n",
    "- The answer is yes, so the person that answered thinks that more street lighting is needed.\n",
    "- The person who answered is a man.\n",
    "\n",
    "We want to know if these events are independent, that is, if the fact of wanting more light depends on whether one is male or female. Are these events independent or not?\n",
    "\n",
    "**Hint**: To clearly compare the answers by gender, it is best to place the data in a table."
   ]
  },
  {
   "cell_type": "code",
   "execution_count": null,
   "metadata": {},
   "outputs": [],
   "source": [
    "# your code here"
   ]
  },
  {
   "cell_type": "code",
   "execution_count": null,
   "metadata": {},
   "outputs": [],
   "source": [
    "\"\"\"\n",
    "your solution here\n",
    "\n",
    "we have 1000 people\n",
    "480 men\n",
    "324/480 men yes = 0.675\n",
    "156/480 men no = 0.325\n",
    "\n",
    "520 women\n",
    "351/520 women yes = 0.675\n",
    "169/520 women no =0.325\n",
    "\n",
    "probability of yes = proba men said yes + proba women said yes \n",
    "\n",
    "\"\"\""
   ]
  }
 ],
 "metadata": {
  "kernelspec": {
   "display_name": "Python 3",
   "language": "python",
   "name": "python3"
  },
  "language_info": {
   "codemirror_mode": {
    "name": "ipython",
    "version": 3
   },
   "file_extension": ".py",
   "mimetype": "text/x-python",
   "name": "python",
   "nbconvert_exporter": "python",
   "pygments_lexer": "ipython3",
   "version": "3.8.6"
  }
 },
 "nbformat": 4,
 "nbformat_minor": 2
}
