{
 "cells": [
  {
   "cell_type": "markdown",
   "metadata": {},
   "source": [
    "### Challenge 1\n",
    "\n",
    "One player rolls two dices. Describe the measurable space and the random variable for:\n",
    "\n",
    "    A. The values that the player obtains.\n",
    "    B. The sum of the values obtained.\n",
    "    C. The maximum value obtained after rolling both dices.\n",
    "\n",
    "Describe the following events:\n",
    "\n",
    "    Case A: Both values are greater than 5.\n",
    "    Case B: The sum of values is even.\n",
    "    Case C: The maximum is the value of both rolls.\n"
   ]
  },
  {
   "cell_type": "markdown",
   "metadata": {},
   "source": [
    "#### Outcome\n",
    "\n",
    "A. values obtained: \n",
    "    Measurable space is \n",
    "    1-1,1-2,1-3,1-4,1-5,1-6,2-2,2-3,2-4,2-5,2-6,3-3,3-4,3-5,3-6,4-4,4-5,4-6,5-5,5-6,6-6\n",
    "    Random variable can be any outcome from the measurable space\n",
    "    \n",
    "B. Sum of values obtained:The random valuable is the sum of the outcomes above.\n",
    "    2,3,4,5,6,7,8,9,10,11,12\n",
    "    \n",
    "C. The maximum value obtained after rolling both dices\n",
    "    1,2,3,4,5,6\n",
    "\n",
    "CASE A: Both values are greater than 5.\n",
    "        A. 6-6\n",
    "       \n",
    "CASE B: The sum of values is even.\n",
    "        A.1-1,1-3,1-5,2-2,2-4,2-6,3-3,3-5,4-4,4-6,5-5,6-6 : \n",
    "        Both are even or both are odd \n",
    "    \n",
    "CASE C: The maximum is the value of both rolls.\n",
    "        1-1,2-2,3-3,4-4,5-5,6-6\n",
    "        1,2,3,4,5,6"
   ]
  },
  {
   "cell_type": "markdown",
   "metadata": {},
   "source": [
    "### Challenge 2\n",
    "\n",
    "One player picks two cards from a poker deck. Describe the measurable space and the random variable for:\n",
    "\n",
    "    A. The number of figures he picks.\n",
    "    B. The sum of card values. Consider that the value of figures is 10 and the value of aces is 15.\n",
    "    C. The number of hearts or spades he picks.\n",
    "\n",
    "Describe the following events:\n",
    "\n",
    "    Case A: The number of figures in the cards the player picked is two.\n",
    "    Case B: The sum of card values is 17.\n",
    "    Case C: The value of both cards is less than 8.\n"
   ]
  },
  {
   "cell_type": "markdown",
   "metadata": {},
   "source": [
    "#### Outcome\n",
    "   A. 0, 1 or 2 face cards \n",
    "   B 4-25 30\n",
    "   C. 0,1 or 2  \n",
    "       0 heart, 0 Spade\n",
    "       0 heart, 1 spade\n",
    "       1 heart, 0 space\n",
    "       1 heart, 1 heart\n",
    "       1 heart, 1 spade\n",
    "       1 spade, 1 spade\n",
    "CASE A: 1st card  figure card : J,Q, K of heart, spade, diamonds,clubs\n",
    "        2nd card  figure card : J,Q, K of heart, spade, diamonds,clubs\n",
    "CASE B: 10,J,Q,K + 7 of any suit\n",
    "        8 + 9 of any suit\n",
    "        A + 2 of any suit\n",
    "CASE C: for 2 card values to be between 2 and 8 any suit. \n",
    "   "
   ]
  },
  {
   "cell_type": "markdown",
   "metadata": {},
   "source": [
    "### Challenge 3\n",
    "\n",
    "Two players roll a dice. Describe the measurable space and the random variable for:\n",
    "\n",
    "    A. The score of player A.\n",
    "    B. The greatest score.\n",
    "    C. The earnings of player A if the game rules state that:\n",
    "    \"The player with the greatest score gets a coin from the other player.\".\n",
    "    D. The earnings of player A if the game rules state that:\n",
    "    \"The player with the greatest score gets as many coins as the difference between the score of player A and player B.\".\n",
    "\n",
    "Describe the following events:\n",
    "\n",
    "    Case A: The score of player A is 2.\n",
    "    Case B: The greatest score is lower or equal than 2.\n",
    "    Case C: Considering the case where the winner gets as many coins as the difference between scores (D), describe:\n",
    "        Player A wins at least 4 coins.\n",
    "        Player A loses more than 2 coins.\n",
    "        Player A neither wins nor loses coins.\n"
   ]
  },
  {
   "cell_type": "markdown",
   "metadata": {},
   "source": [
    "#### Outcome\n",
    "\n",
    " A. Score of A: same as score of B and same as challenge 1\n",
    "    Measurable space is 1,2,3,4,5,6\n",
    "    Random variable can be any outcome from the measurable space\n",
    " \n",
    " B. Greatest score: \n",
    "    2,3,4,5,6 (if > than player2...)\n",
    " \n",
    " C. player get 1 coin from the other player \n",
    "     \n",
    " D. from 1 to 5\n",
    "       \n",
    " \n",
    " CASE A: one possibility 2\n",
    "\n",
    "     \n",
    " CASE B: greatest score is 2 (because there is no \"0\" score o a die)\n",
    "\n",
    "     \n",
    " CASE C: Gain of at least 4 coins:  5-1,6-2,6-1\n",
    "         Loss of more than 2 coins: 1-4,1-5,1-6,2-5,2-6,3-6\n",
    "         Neither win/loss: if both values are equal\n",
    "                 \n",
    "\n"
   ]
  },
  {
   "cell_type": "markdown",
   "metadata": {},
   "source": [
    "### Bonus Challenge 1\n",
    "\n",
    "Three players take balls from a box. Inside that box there are red, blue, green and black balls. The players can take three balls at mosts with the following rules:\n",
    "\n",
    "    If the ball is blue, they can take another ball.\n",
    "    If the ball is green, they get one point and they can take another ball.\n",
    "    If the ball is red, they can’t take another ball.\n",
    "    If the ball is black, they lose one point and they can’t take another ball.\n",
    "\n",
    "Describe the measurable space and the random variable for:\n",
    "\n",
    "    A. Player A wins. Do not consider ties as a win.\n",
    "    B. Player A and B get the same points.\n",
    "    C. All players get 0 points.\n"
   ]
  },
  {
   "cell_type": "markdown",
   "metadata": {},
   "source": [
    "#### Outcome"
   ]
  },
  {
   "cell_type": "markdown",
   "metadata": {},
   "source": [
    "### Bonus Challenge 2\n",
    "\n",
    "Consider the situation of bonus challenge 1 but now with four players. Does anything change in your solutions? What are the changes in each case?"
   ]
  },
  {
   "cell_type": "markdown",
   "metadata": {},
   "source": [
    "#### Outcome"
   ]
  },
  {
   "cell_type": "markdown",
   "metadata": {},
   "source": [
    "### Bonus Challenge 3\n",
    "\n",
    "One player takes three balls from a box. Inside the box there are 5 balls: two of them are black and the other three are white.\n",
    "\n",
    "Describe the measurable space and the random variable for:\n",
    "\n",
    "    A. The number of white balls if every time we take a ball we keep it.\n",
    "    B. The number of white balls if every time we take a ball we put it back again into the box.\n",
    "    C. The number of black balls if every time we take a ball we keep it.\n",
    "    D. The number of black balls if every time we take a ball we put it back into the box.\n"
   ]
  },
  {
   "cell_type": "code",
   "execution_count": null,
   "metadata": {},
   "outputs": [],
   "source": []
  },
  {
   "cell_type": "code",
   "execution_count": null,
   "metadata": {},
   "outputs": [],
   "source": []
  }
 ],
 "metadata": {
  "kernelspec": {
   "display_name": "Python 3",
   "language": "python",
   "name": "python3"
  },
  "language_info": {
   "codemirror_mode": {
    "name": "ipython",
    "version": 3
   },
   "file_extension": ".py",
   "mimetype": "text/x-python",
   "name": "python",
   "nbconvert_exporter": "python",
   "pygments_lexer": "ipython3",
   "version": "3.8.6"
  }
 },
 "nbformat": 4,
 "nbformat_minor": 4
}
