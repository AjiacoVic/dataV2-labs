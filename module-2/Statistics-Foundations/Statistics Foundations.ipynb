{
 "cells": [
  {
   "cell_type": "markdown",
   "metadata": {},
   "source": [
    "### Challenge 1\n",
    "\n",
    "One player rolls two dices. Describe the measurable space and the random variable for:\n",
    "\n",
    "    A. The values that the player obtains.\n",
    "    B. The sum of the values obtained.\n",
    "    C. The maximum value obtained after rolling both dices.\n",
    "\n",
    "Describe the following events:\n",
    "\n",
    "    Case A: Both values are greater than 5.\n",
    "    Case B: The sum of values is even.\n",
    "    Case C: The maximum is the value of both rolls.\n"
   ]
  },
  {
   "cell_type": "markdown",
   "metadata": {},
   "source": [
    "#### Outcome\n",
    "\n",
    "A. values obtained: \n",
    "    Measurable space is 1-1,1-2,1-3,1-5,1-6,2-2,2-3,2-4,2-5,2-6,3-3,3-4,3-5,3-6,4-4,4-5,4-6,5-5,5-6,6-6\n",
    "    Random variable can be any outcome from the measurable space\n",
    "    \n",
    "B. Sum of values obtained:The measurable space is the sum of the putcomes above. some of the outcomes have a higher probability to be obtained... (?)\n",
    "    2,3,4,5,6,7,8,9,10,11,12\n",
    "    2*(4,5,7,9,10) 3*6,8 (?)\n",
    "C. The maximum value obtained after rolling both dices\n",
    "    12\n",
    "\n",
    "CASE A: Both values are greater than 5.\n",
    "   A. Values obtained: \n",
    "        5-6,6-6\n",
    "   B. Sum of the values obtained:\n",
    "       2*(11), 12\n",
    "   C. Max sum: 12\n",
    "   \n",
    "CASE B: The sum of values is even.\n",
    "    A. Values obtained: (possible)\n",
    "        1-1,1-3,1-5,2-2,2-4,2-6,3-3,3-3,4-4,4-6,5-5,6-6\n",
    "    B. Sum of the values obtained:\n",
    "        2,12 2*(4,10) 3*(6,8)\n",
    "    C. 12\n",
    "    \n",
    "CASE C: The maximum is the value of both rolls.\n",
    "    A. Values obtained: (possible)\n",
    "        6-6\n",
    "    B. Sum of the values obtained:\n",
    "        12\n",
    "    C. 12   "
   ]
  },
  {
   "cell_type": "markdown",
   "metadata": {},
   "source": [
    "### Challenge 2\n",
    "\n",
    "One player picks two cards from a poker deck. Describe the measurable space and the random variable for:\n",
    "\n",
    "    A. The number of figures he picks.\n",
    "    B. The sum of card values. Consider that the value of figures is 10 and the value of aces is 15.\n",
    "    C. The number of hearts or spades he picks.\n",
    "\n",
    "Describe the following events:\n",
    "\n",
    "    Case A: The number of figures in the cards the player picked is two.\n",
    "    Case B: The sum of card values is 17.\n",
    "    Case C: The value of both cards is less than 8.\n"
   ]
  },
  {
   "cell_type": "markdown",
   "metadata": {},
   "source": [
    "#### Outcome\n",
    " A. Number of figures:\n",
    "\n",
    "\n",
    "B.\n",
    " \n",
    " C.\n",
    " \n",
    " CASE A:\n",
    "     A.\n",
    "     B.\n",
    "     C.\n",
    "     \n",
    " CASE B:\n",
    "     A.\n",
    "     B.\n",
    "     C.\n",
    "     \n",
    " CASE C:\n",
    "     A.\n",
    "     B.\n",
    "     C.\n",
    " "
   ]
  },
  {
   "cell_type": "markdown",
   "metadata": {},
   "source": [
    "### Challenge 3\n",
    "\n",
    "Two players roll a dice. Describe the measurable space and the random variable for:\n",
    "\n",
    "    A. The score of player A.\n",
    "    B. The greatest score.\n",
    "    C. The earnings of player A if the game rules state that:\n",
    "    \"The player with the greatest score gets a coin from the other player.\".\n",
    "    D. The earnings of player A if the game rules state that:\n",
    "    \"The player with the greatest score gets as many coins as the difference between the score of player A and player B.\".\n",
    "\n",
    "Describe the following events:\n",
    "\n",
    "    Case A: The score of player A is 2.\n",
    "    Case B: The greatest score is lower or equal than 2.\n",
    "    Case C: Considering the case where the winner gets as many coins as the difference between scores (D), describe:\n",
    "        Player A wins at least 4 coins.\n",
    "        Player A loses more than 2 coins.\n",
    "        Player A neither wins nor loses coins.\n"
   ]
  },
  {
   "cell_type": "markdown",
   "metadata": {},
   "source": [
    "#### Outcome\n",
    "\n",
    " A. Score of A: same as score of B and same as challenge 1\n",
    "    Measurable space is 1-1,1-2,1-3,1-5,1-6,2-2,2-3,2-4,2-5,2-6,3-3,3-4,3-5,3-6,4-4,4-5,4-6,5-5,5-6,6-6\n",
    "    Random variable can be any outcome from the measurable space\n",
    " \n",
    " B. Greatest score:\n",
    "     12 (sum of the greatest value of each die)\n",
    " \n",
    " C. player get 1 coin from the other player (+ the coin he already has?)\n",
    " \n",
    " D.Well, in this case:\n",
    "     if A = 12\n",
    "         then earnings of A are:\n",
    "             if B=1\n",
    " \n",
    " CASE A:\n",
    "     A.\n",
    "     B.\n",
    "     C.\n",
    "     \n",
    " CASE B:\n",
    "     A.\n",
    "     B.\n",
    "     C.\n",
    "     \n",
    " CASE C:\n",
    "     A.\n",
    "     B.\n",
    "     C."
   ]
  },
  {
   "cell_type": "markdown",
   "metadata": {},
   "source": [
    "### Bonus Challenge 1\n",
    "\n",
    "Three players take balls from a box. Inside that box there are red, blue, green and black balls. The players can take three balls at mosts with the following rules:\n",
    "\n",
    "    If the ball is blue, they can take another ball.\n",
    "    If the ball is green, they get one point and they can take another ball.\n",
    "    If the ball is red, they can’t take another ball.\n",
    "    If the ball is black, they lose one point and they can’t take another ball.\n",
    "\n",
    "Describe the measurable space and the random variable for:\n",
    "\n",
    "    A. Player A wins. Do not consider ties as a win.\n",
    "    B. Player A and B get the same points.\n",
    "    C. All players get 0 points.\n"
   ]
  },
  {
   "cell_type": "markdown",
   "metadata": {},
   "source": [
    "#### Outcome"
   ]
  },
  {
   "cell_type": "markdown",
   "metadata": {},
   "source": [
    "### Bonus Challenge 2\n",
    "\n",
    "Consider the situation of bonus challenge 1 but now with four players. Does anything change in your solutions? What are the changes in each case?"
   ]
  },
  {
   "cell_type": "markdown",
   "metadata": {},
   "source": [
    "#### Outcome"
   ]
  },
  {
   "cell_type": "markdown",
   "metadata": {},
   "source": [
    "### Bonus Challenge 3\n",
    "\n",
    "One player takes three balls from a box. Inside the box there are 5 balls: two of them are black and the other three are white.\n",
    "\n",
    "Describe the measurable space and the random variable for:\n",
    "\n",
    "    A. The number of white balls if every time we take a ball we keep it.\n",
    "    B. The number of white balls if every time we take a ball we put it back again into the box.\n",
    "    C. The number of black balls if every time we take a ball we keep it.\n",
    "    D. The number of black balls if every time we take a ball we put it back into the box.\n"
   ]
  },
  {
   "cell_type": "code",
   "execution_count": null,
   "metadata": {},
   "outputs": [],
   "source": []
  },
  {
   "cell_type": "code",
   "execution_count": null,
   "metadata": {},
   "outputs": [],
   "source": []
  }
 ],
 "metadata": {
  "kernelspec": {
   "display_name": "Python 3",
   "language": "python",
   "name": "python3"
  },
  "language_info": {
   "codemirror_mode": {
    "name": "ipython",
    "version": 3
   },
   "file_extension": ".py",
   "mimetype": "text/x-python",
   "name": "python",
   "nbconvert_exporter": "python",
   "pygments_lexer": "ipython3",
   "version": "3.8.6"
  }
 },
 "nbformat": 4,
 "nbformat_minor": 4
}
