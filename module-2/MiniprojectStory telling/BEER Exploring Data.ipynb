{
 "cells": [
  {
   "cell_type": "code",
   "execution_count": null,
   "metadata": {},
   "outputs": [],
   "source": []
  },
  {
   "cell_type": "code",
   "execution_count": null,
   "metadata": {},
   "outputs": [],
   "source": []
  },
  {
   "cell_type": "code",
   "execution_count": null,
   "metadata": {},
   "outputs": [],
   "source": [
    "#I am looking to see where can I spot where the max amount of beer was consumed.\n",
    "#It seems to be around the year 1980\n",
    "\n",
    "BC_max = dataNL['BeerConsumption'].max()\n",
    "dataNL.loc[dataNL['BeerConsumption']==BC_max]\n",
    "\n",
    "#I am checking what the reasons for this could be, Can it be due to the weather?\n",
    "#and why does it seem to decrease rapidly and then decrease slowly\n",
    "\n",
    "#Average temperature is high but not the highest. AVG Temp winter is by far not the lowest\n",
    "#cn this be the reason?"
   ]
  },
  {
   "cell_type": "code",
   "execution_count": null,
   "metadata": {},
   "outputs": [],
   "source": [
    "#is definitely not the mildest winter\n",
    "Winter_max = dataNL['Winter_min'].max()\n",
    "dataNL.loc[dataNL['Winter_min']==Winter_max]"
   ]
  },
  {
   "cell_type": "code",
   "execution_count": null,
   "metadata": {},
   "outputs": [],
   "source": [
    "## PLOTTING "
   ]
  },
  {
   "cell_type": "code",
   "execution_count": null,
   "metadata": {},
   "outputs": [],
   "source": [
    "dataNL.set_index('Year')['BeerConsumption'].plot()\n",
    "\n",
    "#1980 Beatrix coronation -Worst manifestations the country has had(during peace times) \n",
    "#1960-75 economic boom after the war until oil crisis\n",
    "#oil crisis 73-79 =>'plateau' from 1975\n",
    "#1982 NL not in the world cup => not reflected hier\n",
    "#1981 NL in worldcup but not reflected hier \n",
    "#oil crisis 2008\n",
    "\n",
    "\n",
    "#taux de chomage "
   ]
  },
  {
   "cell_type": "code",
   "execution_count": null,
   "metadata": {},
   "outputs": [],
   "source": [
    "dataNL.set_index('Year')['AVGTemp_Year'].plot()\n",
    "#Doesn't seem to have any direct relation"
   ]
  },
  {
   "cell_type": "code",
   "execution_count": null,
   "metadata": {},
   "outputs": [],
   "source": [
    "dataNL.set_index('Year')['AVGTemp_Summer'].plot()\n",
    "#Seems to have a positive correlation but is it enough?"
   ]
  },
  {
   "cell_type": "code",
   "execution_count": null,
   "metadata": {},
   "outputs": [],
   "source": [
    "#Does weather and most specifically summer have an influence in dutch beer consumption?\n",
    "#--> HYPOTHESIS TESTING\n",
    "\n",
    "#--> having had seasonal data for beer consumption would have been nice :)"
   ]
  },
  {
   "cell_type": "code",
   "execution_count": null,
   "metadata": {},
   "outputs": [],
   "source": [
    "dataNL.columns"
   ]
  },
  {
   "cell_type": "code",
   "execution_count": null,
   "metadata": {},
   "outputs": [],
   "source": [
    "dataNL['AVGTemp_Year'].corr(dataNL['BeerConsumption']) \n",
    "dataNL['AVGTemp_Winter'].corr(dataNL['BeerConsumption']) \n",
    "dataNL['AVGTemp_Summer'].corr(dataNL['BeerConsumption']) \n",
    "dataNL['Summer_max'].corr(dataNL['BeerConsumption']) \n",
    "dataNL['Winter_min'].corr(dataNL['BeerConsumption'])\n",
    "dataNL['Qty_precipitation'].corr(dataNL['BeerConsumption']) \n",
    "dataNL['Nb_SummerDays'].corr(dataNL['BeerConsumption']) \n",
    "dataNL['Nb_SummerDays'][-10:].corr(dataNL['BeerConsumption'][-10:]) \n",
    "dataNL['Hours_Sunshine'].corr(dataNL['BeerConsumption']) \n",
    "dataNL['Hours_Sunshine'][-10:].corr(dataNL['BeerConsumption'][-10:]) \n",
    "dataNL['Sunless_days'].corr(dataNL['BeerConsumption']) \n",
    "dataNL['Sunless_days'][-10:].corr(dataNL['BeerConsumption'][-10:]) "
   ]
  },
  {
   "cell_type": "code",
   "execution_count": null,
   "metadata": {},
   "outputs": [],
   "source": []
  },
  {
   "cell_type": "code",
   "execution_count": null,
   "metadata": {},
   "outputs": [],
   "source": []
  },
  {
   "cell_type": "code",
   "execution_count": null,
   "metadata": {},
   "outputs": [],
   "source": []
  },
  {
   "cell_type": "code",
   "execution_count": null,
   "metadata": {},
   "outputs": [],
   "source": []
  },
  {
   "cell_type": "code",
   "execution_count": null,
   "metadata": {},
   "outputs": [],
   "source": []
  }
 ],
 "metadata": {
  "kernelspec": {
   "display_name": "Python 3",
   "language": "python",
   "name": "python3"
  },
  "language_info": {
   "codemirror_mode": {
    "name": "ipython",
    "version": 3
   },
   "file_extension": ".py",
   "mimetype": "text/x-python",
   "name": "python",
   "nbconvert_exporter": "python",
   "pygments_lexer": "ipython3",
   "version": "3.9.0"
  }
 },
 "nbformat": 4,
 "nbformat_minor": 4
}
